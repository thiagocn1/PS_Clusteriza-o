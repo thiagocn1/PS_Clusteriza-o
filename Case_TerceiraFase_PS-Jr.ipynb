{
 "cells": [
  {
   "cell_type": "code",
   "execution_count": 1248,
   "id": "0d140d78",
   "metadata": {},
   "outputs": [],
   "source": [
    "# Importando bibliotecas\n",
    "%matplotlib inline \n",
    "import numpy as np\n",
    "import pandas as pd\n",
    "import os\n",
    "import matplotlib as plt\n",
    "from IPython.display import display\n",
    "import math\n",
    "from scipy import stats\n",
    "import matplotlib.pyplot as plt\n",
    "from sklearn.metrics import accuracy_score # importando a biblioteca para calcular a acurácia\n",
    "import seaborn as sns\n",
    "\n"
   ]
  },
  {
   "cell_type": "code",
   "execution_count": 1249,
   "id": "b3b2441e",
   "metadata": {},
   "outputs": [],
   "source": [
    "\n",
    "import warnings\n",
    "\n",
    "warnings.filterwarnings('ignore')"
   ]
  },
  {
   "cell_type": "code",
   "execution_count": 1250,
   "id": "d1ed2a4a",
   "metadata": {
    "scrolled": true
   },
   "outputs": [
    {
     "name": "stdout",
     "output_type": "stream",
     "text": [
      "Parece que o arquivo Base - MindMiners.xlsx está na mesma pasta do notebook!\n"
     ]
    }
   ],
   "source": [
    "# Verificando se a base de dados está na pasta\n",
    "filename = 'Base - MindMiners.xlsx'\n",
    "\n",
    "if filename in os.listdir():\n",
    "    print(f'Parece que o arquivo {filename} está na mesma pasta do notebook!')\n",
    "    \n",
    "else:\n",
    "    print(f'Não encontrei o arquivo {filename}')"
   ]
  },
  {
   "cell_type": "code",
   "execution_count": 1251,
   "id": "80678f08",
   "metadata": {},
   "outputs": [],
   "source": [
    "df = pd.read_excel('Base - MindMiners.xlsx')\n"
   ]
  },
  {
   "cell_type": "code",
   "execution_count": 1252,
   "id": "7c5159c5",
   "metadata": {},
   "outputs": [
    {
     "name": "stdout",
     "output_type": "stream",
     "text": [
      "<class 'pandas.core.frame.DataFrame'>\n",
      "RangeIndex: 1268 entries, 0 to 1267\n",
      "Data columns (total 86 columns):\n",
      " #   Column       Non-Null Count  Dtype  \n",
      "---  ------       --------------  -----  \n",
      " 0   Unnamed: 0   0 non-null      float64\n",
      " 1   P1           991 non-null    float64\n",
      " 2   P2           995 non-null    object \n",
      " 3   P3           994 non-null    float64\n",
      " 4   P4           994 non-null    float64\n",
      " 5   Unnamed: 5   111 non-null    float64\n",
      " 6   P5           994 non-null    object \n",
      " 7   P6           992 non-null    object \n",
      " 8   P7           993 non-null    object \n",
      " 9   P8           992 non-null    float64\n",
      " 10  P9           992 non-null    object \n",
      " 11  Unnamed: 11  111 non-null    float64\n",
      " 12  P10          991 non-null    float64\n",
      " 13  P11          991 non-null    float64\n",
      " 14  P12          992 non-null    object \n",
      " 15  P13          992 non-null    float64\n",
      " 16  Unnamed: 16  111 non-null    float64\n",
      " 17  P14          992 non-null    float64\n",
      " 18  P15          991 non-null    float64\n",
      " 19  Unnamed: 19  111 non-null    float64\n",
      " 20  P16          992 non-null    float64\n",
      " 21  P17          991 non-null    float64\n",
      " 22  P18          991 non-null    object \n",
      " 23  Unnamed: 23  111 non-null    float64\n",
      " 24  P19          991 non-null    object \n",
      " 25  P20          991 non-null    object \n",
      " 26  P21          991 non-null    object \n",
      " 27  P22          991 non-null    object \n",
      " 28  P23          991 non-null    object \n",
      " 29  P24          991 non-null    float64\n",
      " 30  P25          990 non-null    float64\n",
      " 31  P26          991 non-null    float64\n",
      " 32  P27          991 non-null    float64\n",
      " 33  P28          991 non-null    float64\n",
      " 34  Unnamed: 34  111 non-null    float64\n",
      " 35  Unnamed: 35  111 non-null    float64\n",
      " 36  P29          991 non-null    float64\n",
      " 37  P30          991 non-null    float64\n",
      " 38  Unnamed: 38  111 non-null    float64\n",
      " 39  P31          991 non-null    float64\n",
      " 40  P32          991 non-null    float64\n",
      " 41  P33          991 non-null    float64\n",
      " 42  P34          991 non-null    float64\n",
      " 43  P35          989 non-null    float64\n",
      " 44  Unnamed: 44  111 non-null    float64\n",
      " 45  P36          990 non-null    float64\n",
      " 46  P37          991 non-null    float64\n",
      " 47  P38          991 non-null    float64\n",
      " 48  Unnamed: 48  111 non-null    float64\n",
      " 49  P39          991 non-null    float64\n",
      " 50  P40          990 non-null    float64\n",
      " 51  P41          990 non-null    float64\n",
      " 52  Unnamed: 52  111 non-null    float64\n",
      " 53  P42          991 non-null    float64\n",
      " 54  P43          990 non-null    float64\n",
      " 55  P44          990 non-null    float64\n",
      " 56  P45          990 non-null    float64\n",
      " 57  P46          991 non-null    float64\n",
      " 58  P47          990 non-null    float64\n",
      " 59  Unnamed: 59  111 non-null    float64\n",
      " 60  P48          991 non-null    float64\n",
      " 61  P49          990 non-null    float64\n",
      " 62  P50          991 non-null    float64\n",
      " 63  P51          990 non-null    float64\n",
      " 64  Unnamed: 64  111 non-null    float64\n",
      " 65  P52          991 non-null    float64\n",
      " 66  P53          991 non-null    float64\n",
      " 67  P54          991 non-null    float64\n",
      " 68  P55          991 non-null    float64\n",
      " 69  P56          991 non-null    float64\n",
      " 70  P57          991 non-null    float64\n",
      " 71  Unnamed: 71  111 non-null    float64\n",
      " 72  P58          991 non-null    float64\n",
      " 73  Qesc         991 non-null    float64\n",
      " 74  Qciv         991 non-null    object \n",
      " 75  Qnat         990 non-null    float64\n",
      " 76  Qtipcama     991 non-null    object \n",
      " 77  Qcama        991 non-null    float64\n",
      " 78  Qest         991 non-null    float64\n",
      " 79  Qche         991 non-null    object \n",
      " 80  Qocup        991 non-null    float64\n",
      " 81  Qid          991 non-null    float64\n",
      " 82  Qgen         991 non-null    float64\n",
      " 83  Qreg         991 non-null    float64\n",
      " 84  Qclasse      991 non-null    object \n",
      " 85  Qs           966 non-null    object \n",
      "dtypes: float64(69), object(17)\n",
      "memory usage: 852.1+ KB\n"
     ]
    }
   ],
   "source": [
    "df.info()\n"
   ]
  },
  {
   "cell_type": "code",
   "execution_count": 1253,
   "id": "b7cb57c5",
   "metadata": {},
   "outputs": [
    {
     "data": {
      "text/plain": [
       "Unnamed: 0    1268\n",
       "P1             277\n",
       "P2             273\n",
       "P3             274\n",
       "P4             274\n",
       "              ... \n",
       "Qid            277\n",
       "Qgen           277\n",
       "Qreg           277\n",
       "Qclasse        277\n",
       "Qs             302\n",
       "Length: 86, dtype: int64"
      ]
     },
     "execution_count": 1253,
     "metadata": {},
     "output_type": "execute_result"
    }
   ],
   "source": [
    "df.isnull().sum()"
   ]
  },
  {
   "cell_type": "code",
   "execution_count": 1254,
   "id": "6675b5bd",
   "metadata": {},
   "outputs": [
    {
     "data": {
      "text/plain": [
       "1.0    448\n",
       "2.0    294\n",
       "NaN    277\n",
       "4.0    186\n",
       "3.0     17\n",
       "6.0     17\n",
       "5.0     16\n",
       "7.0     13\n",
       "Name: P1, dtype: int64"
      ]
     },
     "execution_count": 1254,
     "metadata": {},
     "output_type": "execute_result"
    }
   ],
   "source": [
    "df[\"P1\"].value_counts(dropna=False)\n",
    "    "
   ]
  },
  {
   "cell_type": "code",
   "execution_count": 1255,
   "id": "5b06eaaf",
   "metadata": {},
   "outputs": [],
   "source": [
    "lista_df = [\"P1\",\"P2\",\"P3\",\"P4\",\"P5\",\"P6\",\"P7\",\"P8\",\"P9\",\"P10\",\"P11\",\"P12\",\"P13\",\"P14\",\"P15\",\"P16\",\"P17\",\"P18\",\"P19\",\"P20\",\"P21\",\"P22\",\"P23\",\"P24\",\"P25\",\"P26\",\"P27\",\"P28\",\"P29\",\"P30\",\"P31\",\"P32\",\"P33\",\"P34\",\"P35\",\"P36\",\"P37\",\"P38\",\"P39\",\"P40\",\"P41\",\"P42\",\"P43\",\"P44\",\"P45\",\"P46\",\"P47\",\"P48\",\"P49\",\"P50\",\"P51\",\"P52\",\"P53\",\"P54\",\"P55\",\"P56\",\"P57\",\"P58\",\"Qesc\",\"Qciv\",\"Qnat\",\"Qtipcama\",\"Qcama\",\"Qest\",\"Qche\",\"Qocup\",\"Qid\",\"Qgen\",\"Qreg\",\"Qclasse\"]\n",
    "\n"
   ]
  },
  {
   "cell_type": "code",
   "execution_count": 1256,
   "id": "39e8797a",
   "metadata": {},
   "outputs": [
    {
     "data": {
      "text/plain": [
       "'P1'"
      ]
     },
     "execution_count": 1256,
     "metadata": {},
     "output_type": "execute_result"
    }
   ],
   "source": [
    "lista_df[0]"
   ]
  },
  {
   "cell_type": "code",
   "execution_count": 1257,
   "id": "efe35a6d",
   "metadata": {},
   "outputs": [],
   "source": [
    "df_dropped = df.loc[:,[\"P1\",\"P2\",\"P3\",\"P4\",\"P5\",\"P6\",\"P7\",\"P8\",\"P9\",\"P10\",\"P11\",\"P12\",\"P13\",\"P14\",\"P15\",\"P16\",\"P17\",\"P18\",\"P19\",\"P20\",\"P21\",\"P22\",\"P23\",\"P24\",\"P25\",\"P26\",\"P27\",\"P28\",\"P29\",\"P30\",\"P31\",\"P32\",\"P33\",\"P34\",\"P35\",\"P36\",\"P37\",\"P38\",\"P39\",\"P40\",\"P41\",\"P42\",\"P43\",\"P44\",\"P45\",\"P46\",\"P47\",\"P48\",\"P49\",\"P50\",\"P51\",\"P52\",\"P53\",\"P54\",\"P55\",\"P56\",\"P57\",\"P58\",\"Qesc\",\"Qciv\",\"Qnat\",\"Qtipcama\",\"Qcama\",\"Qest\",\"Qche\",\"Qocup\",\"Qid\",\"Qgen\",\"Qreg\",\"Qclasse\"]]\n",
    "                       \n",
    "                       \n",
    "                       \n",
    "                       \n",
    "                       \n",
    "                       "
   ]
  },
  {
   "cell_type": "code",
   "execution_count": 1258,
   "id": "0d0a38d1",
   "metadata": {},
   "outputs": [
    {
     "name": "stdout",
     "output_type": "stream",
     "text": [
      "<class 'pandas.core.frame.DataFrame'>\n",
      "RangeIndex: 1268 entries, 0 to 1267\n",
      "Data columns (total 70 columns):\n",
      " #   Column    Non-Null Count  Dtype  \n",
      "---  ------    --------------  -----  \n",
      " 0   P1        991 non-null    float64\n",
      " 1   P2        995 non-null    object \n",
      " 2   P3        994 non-null    float64\n",
      " 3   P4        994 non-null    float64\n",
      " 4   P5        994 non-null    object \n",
      " 5   P6        992 non-null    object \n",
      " 6   P7        993 non-null    object \n",
      " 7   P8        992 non-null    float64\n",
      " 8   P9        992 non-null    object \n",
      " 9   P10       991 non-null    float64\n",
      " 10  P11       991 non-null    float64\n",
      " 11  P12       992 non-null    object \n",
      " 12  P13       992 non-null    float64\n",
      " 13  P14       992 non-null    float64\n",
      " 14  P15       991 non-null    float64\n",
      " 15  P16       992 non-null    float64\n",
      " 16  P17       991 non-null    float64\n",
      " 17  P18       991 non-null    object \n",
      " 18  P19       991 non-null    object \n",
      " 19  P20       991 non-null    object \n",
      " 20  P21       991 non-null    object \n",
      " 21  P22       991 non-null    object \n",
      " 22  P23       991 non-null    object \n",
      " 23  P24       991 non-null    float64\n",
      " 24  P25       990 non-null    float64\n",
      " 25  P26       991 non-null    float64\n",
      " 26  P27       991 non-null    float64\n",
      " 27  P28       991 non-null    float64\n",
      " 28  P29       991 non-null    float64\n",
      " 29  P30       991 non-null    float64\n",
      " 30  P31       991 non-null    float64\n",
      " 31  P32       991 non-null    float64\n",
      " 32  P33       991 non-null    float64\n",
      " 33  P34       991 non-null    float64\n",
      " 34  P35       989 non-null    float64\n",
      " 35  P36       990 non-null    float64\n",
      " 36  P37       991 non-null    float64\n",
      " 37  P38       991 non-null    float64\n",
      " 38  P39       991 non-null    float64\n",
      " 39  P40       990 non-null    float64\n",
      " 40  P41       990 non-null    float64\n",
      " 41  P42       991 non-null    float64\n",
      " 42  P43       990 non-null    float64\n",
      " 43  P44       990 non-null    float64\n",
      " 44  P45       990 non-null    float64\n",
      " 45  P46       991 non-null    float64\n",
      " 46  P47       990 non-null    float64\n",
      " 47  P48       991 non-null    float64\n",
      " 48  P49       990 non-null    float64\n",
      " 49  P50       991 non-null    float64\n",
      " 50  P51       990 non-null    float64\n",
      " 51  P52       991 non-null    float64\n",
      " 52  P53       991 non-null    float64\n",
      " 53  P54       991 non-null    float64\n",
      " 54  P55       991 non-null    float64\n",
      " 55  P56       991 non-null    float64\n",
      " 56  P57       991 non-null    float64\n",
      " 57  P58       991 non-null    float64\n",
      " 58  Qesc      991 non-null    float64\n",
      " 59  Qciv      991 non-null    object \n",
      " 60  Qnat      990 non-null    float64\n",
      " 61  Qtipcama  991 non-null    object \n",
      " 62  Qcama     991 non-null    float64\n",
      " 63  Qest      991 non-null    float64\n",
      " 64  Qche      991 non-null    object \n",
      " 65  Qocup     991 non-null    float64\n",
      " 66  Qid       991 non-null    float64\n",
      " 67  Qgen      991 non-null    float64\n",
      " 68  Qreg      991 non-null    float64\n",
      " 69  Qclasse   991 non-null    object \n",
      "dtypes: float64(54), object(16)\n",
      "memory usage: 693.6+ KB\n"
     ]
    }
   ],
   "source": [
    "df_dropped.info()"
   ]
  },
  {
   "cell_type": "code",
   "execution_count": 1259,
   "id": "7e07e578",
   "metadata": {},
   "outputs": [
    {
     "data": {
      "text/plain": [
       "P1         277\n",
       "P2         273\n",
       "P3         274\n",
       "P4         274\n",
       "P5         274\n",
       "          ... \n",
       "Qocup      277\n",
       "Qid        277\n",
       "Qgen       277\n",
       "Qreg       277\n",
       "Qclasse    277\n",
       "Length: 70, dtype: int64"
      ]
     },
     "execution_count": 1259,
     "metadata": {},
     "output_type": "execute_result"
    }
   ],
   "source": [
    "df_dropped.isnull().sum()"
   ]
  },
  {
   "cell_type": "code",
   "execution_count": 1260,
   "id": "28893b14",
   "metadata": {},
   "outputs": [
    {
     "name": "stdout",
     "output_type": "stream",
     "text": [
      "<class 'pandas.core.frame.DataFrame'>\n",
      "Int64Index: 980 entries, 0 to 1267\n",
      "Data columns (total 70 columns):\n",
      " #   Column    Non-Null Count  Dtype  \n",
      "---  ------    --------------  -----  \n",
      " 0   P1        980 non-null    float64\n",
      " 1   P2        980 non-null    object \n",
      " 2   P3        980 non-null    float64\n",
      " 3   P4        980 non-null    float64\n",
      " 4   P5        980 non-null    object \n",
      " 5   P6        980 non-null    object \n",
      " 6   P7        980 non-null    object \n",
      " 7   P8        980 non-null    float64\n",
      " 8   P9        980 non-null    object \n",
      " 9   P10       980 non-null    float64\n",
      " 10  P11       980 non-null    float64\n",
      " 11  P12       980 non-null    object \n",
      " 12  P13       980 non-null    float64\n",
      " 13  P14       980 non-null    float64\n",
      " 14  P15       980 non-null    float64\n",
      " 15  P16       980 non-null    float64\n",
      " 16  P17       980 non-null    float64\n",
      " 17  P18       980 non-null    object \n",
      " 18  P19       980 non-null    object \n",
      " 19  P20       980 non-null    object \n",
      " 20  P21       980 non-null    object \n",
      " 21  P22       980 non-null    object \n",
      " 22  P23       980 non-null    object \n",
      " 23  P24       980 non-null    float64\n",
      " 24  P25       980 non-null    float64\n",
      " 25  P26       980 non-null    float64\n",
      " 26  P27       980 non-null    float64\n",
      " 27  P28       980 non-null    float64\n",
      " 28  P29       980 non-null    float64\n",
      " 29  P30       980 non-null    float64\n",
      " 30  P31       980 non-null    float64\n",
      " 31  P32       980 non-null    float64\n",
      " 32  P33       980 non-null    float64\n",
      " 33  P34       980 non-null    float64\n",
      " 34  P35       980 non-null    float64\n",
      " 35  P36       980 non-null    float64\n",
      " 36  P37       980 non-null    float64\n",
      " 37  P38       980 non-null    float64\n",
      " 38  P39       980 non-null    float64\n",
      " 39  P40       980 non-null    float64\n",
      " 40  P41       980 non-null    float64\n",
      " 41  P42       980 non-null    float64\n",
      " 42  P43       980 non-null    float64\n",
      " 43  P44       980 non-null    float64\n",
      " 44  P45       980 non-null    float64\n",
      " 45  P46       980 non-null    float64\n",
      " 46  P47       980 non-null    float64\n",
      " 47  P48       980 non-null    float64\n",
      " 48  P49       980 non-null    float64\n",
      " 49  P50       980 non-null    float64\n",
      " 50  P51       980 non-null    float64\n",
      " 51  P52       980 non-null    float64\n",
      " 52  P53       980 non-null    float64\n",
      " 53  P54       980 non-null    float64\n",
      " 54  P55       980 non-null    float64\n",
      " 55  P56       980 non-null    float64\n",
      " 56  P57       980 non-null    float64\n",
      " 57  P58       980 non-null    float64\n",
      " 58  Qesc      980 non-null    float64\n",
      " 59  Qciv      980 non-null    object \n",
      " 60  Qnat      980 non-null    float64\n",
      " 61  Qtipcama  980 non-null    object \n",
      " 62  Qcama     980 non-null    float64\n",
      " 63  Qest      980 non-null    float64\n",
      " 64  Qche      980 non-null    object \n",
      " 65  Qocup     980 non-null    float64\n",
      " 66  Qid       980 non-null    float64\n",
      " 67  Qgen      980 non-null    float64\n",
      " 68  Qreg      980 non-null    float64\n",
      " 69  Qclasse   980 non-null    object \n",
      "dtypes: float64(54), object(16)\n",
      "memory usage: 543.6+ KB\n"
     ]
    }
   ],
   "source": [
    "# Retirando linhas com algum valor nulo\n",
    "df_dropped_NA = df_dropped.dropna(how = \"any\")\n",
    "\n",
    "#Verificando nova base sem valores a serem preenchidos\n",
    "df_dropped_NA.info()"
   ]
  },
  {
   "cell_type": "code",
   "execution_count": 1261,
   "id": "b6704af2",
   "metadata": {},
   "outputs": [
    {
     "data": {
      "text/plain": [
       "2.0    279\n",
       "1.0    269\n",
       "3.0    153\n",
       "4.0    142\n",
       "5.0    137\n",
       "Name: Qreg, dtype: int64"
      ]
     },
     "execution_count": 1261,
     "metadata": {},
     "output_type": "execute_result"
    }
   ],
   "source": [
    "df_dropped_NA[\"Qreg\"].value_counts(dropna=False)"
   ]
  },
  {
   "cell_type": "code",
   "execution_count": 1262,
   "id": "5a486735",
   "metadata": {},
   "outputs": [
    {
     "data": {
      "text/plain": [
       "<AxesSubplot:>"
      ]
     },
     "execution_count": 1262,
     "metadata": {},
     "output_type": "execute_result"
    },
    {
     "data": {
      "image/png": "[encoded data removed]",
      "text/plain": [
       "<Figure size 1800x720 with 2 Axes>"
      ]
     },
     "metadata": {
      "needs_background": "light"
     },
     "output_type": "display_data"
    }
   ],
   "source": [
    "# Instalando biblioteca missingno para visualização de valores nulos e importando\n",
    "import missingno as msno\n",
    "\n",
    "#Visualizando espaçamento dos valores nulos nas colunas pela função matrix()\n",
    "msno.matrix(df_dropped_NA)"
   ]
  },
  {
   "cell_type": "code",
   "execution_count": 1263,
   "id": "8a82aab6",
   "metadata": {},
   "outputs": [
    {
     "data": {
      "text/plain": [
       "1.0    442\n",
       "2.0    306\n",
       "4.0    186\n",
       "3.0     30\n",
       "5.0     16\n",
       "Name: P1, dtype: int64"
      ]
     },
     "execution_count": 1263,
     "metadata": {},
     "output_type": "execute_result"
    }
   ],
   "source": [
    "df_dropped_NA[\"P1\"] = df_dropped_NA[\"P1\"].replace([7.0,6.0],[3,2])\n",
    "df_dropped_NA[\"P1\"].value_counts(dropna=False)"
   ]
  },
  {
   "cell_type": "code",
   "execution_count": 1264,
   "id": "331ccef6",
   "metadata": {},
   "outputs": [
    {
     "data": {
      "text/plain": [
       "6.0    186\n",
       "2.0    176\n",
       "7.0    173\n",
       "5.0    143\n",
       "3.0    103\n",
       "1.0    101\n",
       "4.0     97\n",
       "NaN      1\n",
       "Name: P6, dtype: int64"
      ]
     },
     "execution_count": 1264,
     "metadata": {},
     "output_type": "execute_result"
    }
   ],
   "source": [
    "df_dropped_NA[\"P6\"] = df_dropped_NA[\"P6\"].replace([\" \"],[0])\n",
    "df_dropped_NA[\"P6\"][df_dropped_NA[\"P6\"] == 0] = np.nan\n",
    "df_dropped_NA[\"P6\"].value_counts(dropna=False)"
   ]
  },
  {
   "cell_type": "code",
   "execution_count": 1265,
   "id": "58b6f8b4",
   "metadata": {},
   "outputs": [
    {
     "data": {
      "text/plain": [
       "1                      326\n",
       "2                      324\n",
       "7                       75\n",
       "6                       68\n",
       "5                       64\n",
       "3                       63\n",
       "4                       57\n",
       "1900-01-05 00:00:00      2\n",
       "1900-01-01 00:00:00      1\n",
       "Name: P18, dtype: int64"
      ]
     },
     "execution_count": 1265,
     "metadata": {},
     "output_type": "execute_result"
    }
   ],
   "source": [
    "df_dropped_NA['P18']=df_dropped_NA['P18'].astype(str)\n",
    "df_dropped_NA[\"P18\"].value_counts(dropna=False)"
   ]
  },
  {
   "cell_type": "code",
   "execution_count": 1266,
   "id": "b45316ea",
   "metadata": {},
   "outputs": [
    {
     "data": {
      "text/plain": [
       "1    327\n",
       "2    324\n",
       "7     75\n",
       "6     68\n",
       "5     66\n",
       "3     63\n",
       "4     57\n",
       "Name: P18, dtype: int64"
      ]
     },
     "execution_count": 1266,
     "metadata": {},
     "output_type": "execute_result"
    }
   ],
   "source": [
    "df_dropped_NA[\"P18\"] = df_dropped_NA[\"P18\"].replace([\"1900-01-05 00:00:00\"],[\"5\"])\n",
    "df_dropped_NA[\"P18\"] = df_dropped_NA[\"P18\"].replace([\"1900-01-01 00:00:00\"],[\"1\"])\n",
    "df_dropped_NA[\"P18\"].value_counts(dropna=False)\n"
   ]
  },
  {
   "cell_type": "code",
   "execution_count": 1267,
   "id": "e03f886e",
   "metadata": {},
   "outputs": [
    {
     "data": {
      "text/plain": [
       "7    373\n",
       "5    195\n",
       "6    177\n",
       "3    110\n",
       "2    101\n",
       "4     12\n",
       "1     12\n",
       "Name: P19, dtype: int64"
      ]
     },
     "execution_count": 1267,
     "metadata": {},
     "output_type": "execute_result"
    }
   ],
   "source": [
    "df_dropped_NA['P19']=df_dropped_NA['P19'].astype(str)\n",
    "df_dropped_NA[\"P19\"] = df_dropped_NA[\"P19\"].replace([\"1900-01-03 00:00:00\"],[\"3\"])\n",
    "df_dropped_NA[\"P19\"] = df_dropped_NA[\"P19\"].replace([\"1900-01-06 00:00:00\"],[\"6\"])\n",
    "df_dropped_NA[\"P19\"].value_counts(dropna=False)"
   ]
  },
  {
   "cell_type": "code",
   "execution_count": 1268,
   "id": "27ed65cb",
   "metadata": {},
   "outputs": [
    {
     "data": {
      "text/plain": [
       "5    160\n",
       "3    156\n",
       "6    150\n",
       "4    150\n",
       "2    131\n",
       "7    127\n",
       "1    106\n",
       "Name: P20, dtype: int64"
      ]
     },
     "execution_count": 1268,
     "metadata": {},
     "output_type": "execute_result"
    }
   ],
   "source": [
    "df_dropped_NA['P20']=df_dropped_NA['P20'].astype(str)\n",
    "df_dropped_NA[\"P20\"] = df_dropped_NA[\"P20\"].replace([\"1900-01-01 00:00:00\"],[\"1\"])\n",
    "df_dropped_NA[\"P20\"] = df_dropped_NA[\"P20\"].replace([\"1900-01-04 00:00:00\"],[\"4\"])\n",
    "df_dropped_NA[\"P20\"].value_counts(dropna=False)"
   ]
  },
  {
   "cell_type": "code",
   "execution_count": 1269,
   "id": "703b1953",
   "metadata": {},
   "outputs": [
    {
     "data": {
      "text/plain": [
       "4    176\n",
       "1    176\n",
       "3    172\n",
       "2    168\n",
       "5    108\n",
       "7     90\n",
       "6     90\n",
       "Name: P21, dtype: int64"
      ]
     },
     "execution_count": 1269,
     "metadata": {},
     "output_type": "execute_result"
    }
   ],
   "source": [
    "df_dropped_NA['P21']=df_dropped_NA['P21'].astype(str)\n",
    "df_dropped_NA[\"P21\"] = df_dropped_NA[\"P21\"].replace([\"1900-01-02 00:00:00\"],[\"2\"])\n",
    "df_dropped_NA[\"P21\"] = df_dropped_NA[\"P21\"].replace([\"1900-01-03 00:00:00\"],[\"3\"])\n",
    "df_dropped_NA[\"P21\"] = df_dropped_NA[\"P21\"].replace([\"1900-01-04 00:00:00\"],[\"4\"])\n",
    "df_dropped_NA[\"P21\"] = df_dropped_NA[\"P21\"].replace([\"1900-01-06 00:00:00\"],[\"6\"])\n",
    "df_dropped_NA[\"P21\"] = df_dropped_NA[\"P21\"].replace([\"1900-01-07 00:00:00\"],[\"7\"])\n",
    "df_dropped_NA[\"P21\"].value_counts(dropna=False)"
   ]
  },
  {
   "cell_type": "code",
   "execution_count": 1270,
   "id": "384e99d2",
   "metadata": {},
   "outputs": [
    {
     "data": {
      "text/plain": [
       "3    188\n",
       "1    170\n",
       "2    162\n",
       "4    152\n",
       "6    106\n",
       "5    103\n",
       "7     99\n",
       "Name: P22, dtype: int64"
      ]
     },
     "execution_count": 1270,
     "metadata": {},
     "output_type": "execute_result"
    }
   ],
   "source": [
    "df_dropped_NA['P22']=df_dropped_NA['P22'].astype(str)\n",
    "df_dropped_NA[\"P22\"] = df_dropped_NA[\"P22\"].replace([\"1900-01-01 00:00:00\"],[\"1\"])\n",
    "df_dropped_NA[\"P22\"] = df_dropped_NA[\"P22\"].replace([\"1900-01-03 00:00:00\"],[\"3\"])\n",
    "df_dropped_NA[\"P22\"] = df_dropped_NA[\"P22\"].replace([\"1900-01-07 00:00:00\"],[\"7\"])\n",
    "df_dropped_NA[\"P22\"].value_counts(dropna=False)"
   ]
  },
  {
   "cell_type": "code",
   "execution_count": 1271,
   "id": "26e98f5d",
   "metadata": {},
   "outputs": [
    {
     "data": {
      "text/plain": [
       "5    411\n",
       "6    175\n",
       "7    164\n",
       "1    104\n",
       "2    100\n",
       "3     14\n",
       "4     12\n",
       "Name: P23, dtype: int64"
      ]
     },
     "execution_count": 1271,
     "metadata": {},
     "output_type": "execute_result"
    }
   ],
   "source": [
    "df_dropped_NA['P23']=df_dropped_NA['P23'].astype(str)\n",
    "df_dropped_NA[\"P23\"] = df_dropped_NA[\"P23\"].replace([\"1900-01-05 00:00:00\"],[\"5\"])\n",
    "df_dropped_NA[\"P23\"] = df_dropped_NA[\"P23\"].replace([\"1900-01-02 00:00:00\"],[\"2\"])\n",
    "df_dropped_NA[\"P23\"] = df_dropped_NA[\"P23\"].replace([\"1900-01-01 00:00:00\"],[\"1\"])\n",
    "df_dropped_NA[\"P23\"].value_counts(dropna=False)"
   ]
  },
  {
   "cell_type": "code",
   "execution_count": 1272,
   "id": "2159b514",
   "metadata": {},
   "outputs": [
    {
     "data": {
      "text/plain": [
       "5.0    156\n",
       "3.0    154\n",
       "1.0    153\n",
       "2.0    139\n",
       "7.0    127\n",
       "6.0    127\n",
       "4.0    123\n",
       "NaN      1\n",
       "Name: P43, dtype: int64"
      ]
     },
     "execution_count": 1272,
     "metadata": {},
     "output_type": "execute_result"
    }
   ],
   "source": [
    "df_dropped_NA[\"P43\"] = df_dropped_NA[\"P43\"].replace([1234567890987650000],[0])\n",
    "df_dropped_NA[\"P43\"][df_dropped_NA[\"P43\"] == 0] = np.nan\n",
    "df_dropped_NA[\"P43\"].value_counts(dropna=False)"
   ]
  },
  {
   "cell_type": "code",
   "execution_count": 1273,
   "id": "12cf1301",
   "metadata": {},
   "outputs": [
    {
     "data": {
      "text/plain": [
       "2.0    158\n",
       "7.0    150\n",
       "4.0    146\n",
       "6.0    140\n",
       "5.0    132\n",
       "1.0    131\n",
       "3.0    122\n",
       "NaN      1\n",
       "Name: P55, dtype: int64"
      ]
     },
     "execution_count": 1273,
     "metadata": {},
     "output_type": "execute_result"
    }
   ],
   "source": [
    "df_dropped_NA[\"P55\"] = df_dropped_NA[\"P55\"].replace([1.23456789098765e+36],[0])\n",
    "df_dropped_NA[\"P55\"][df_dropped_NA[\"P55\"] == 0] = np.nan\n",
    "df_dropped_NA[\"P55\"].value_counts(dropna=False)\n"
   ]
  },
  {
   "cell_type": "code",
   "execution_count": 1274,
   "id": "c8ff4e78",
   "metadata": {},
   "outputs": [
    {
     "data": {
      "text/plain": [
       "6.0    263\n",
       "5.0    261\n",
       "4.0    126\n",
       "3.0    113\n",
       "1.0    110\n",
       "2.0    107\n",
       "Name: Qesc, dtype: int64"
      ]
     },
     "execution_count": 1274,
     "metadata": {},
     "output_type": "execute_result"
    }
   ],
   "source": [
    "df_dropped_NA[\"Qesc\"] = df_dropped_NA[\"Qesc\"].replace([7],[6])\n",
    "\n",
    "df_dropped_NA[\"Qesc\"].value_counts(dropna=False)"
   ]
  },
  {
   "cell_type": "code",
   "execution_count": 1275,
   "id": "6474d391",
   "metadata": {},
   "outputs": [
    {
     "data": {
      "text/plain": [
       "2.0    416\n",
       "3.0    242\n",
       "1.0    168\n",
       "4.0    140\n",
       "NaN     14\n",
       "Name: Qnat, dtype: int64"
      ]
     },
     "execution_count": 1275,
     "metadata": {},
     "output_type": "execute_result"
    }
   ],
   "source": [
    "\n",
    "df_dropped_NA[\"Qnat\"][df_dropped_NA[\"Qnat\"] > 12] = np.nan\n",
    "df_dropped_NA[\"Qnat\"] = df_dropped_NA[\"Qnat\"].replace([0,1,2,3,4],[1,2,2,3,3])\n",
    "df_dropped_NA[\"Qnat\"][df_dropped_NA[\"Qnat\"] >= 5] = 4\n",
    "df_dropped_NA[\"Qnat\"].value_counts(dropna=False)\n",
    "# 1-(0 filhos), 2-(1-2 filhos), 3 -(3-4 filhos), 4-(5+ filhos)"
   ]
  },
  {
   "cell_type": "code",
   "execution_count": 1276,
   "id": "95ad8a0e",
   "metadata": {},
   "outputs": [
    {
     "data": {
      "text/plain": [
       "1.0     404\n",
       "3.0     152\n",
       "4.0     139\n",
       "2.0     132\n",
       "0.0      48\n",
       "5.0      48\n",
       "9.0      14\n",
       "8.0      14\n",
       "6.0      13\n",
       "7.0       9\n",
       "10.0      6\n",
       "NaN       1\n",
       "Name: Qcama, dtype: int64"
      ]
     },
     "execution_count": 1276,
     "metadata": {},
     "output_type": "execute_result"
    }
   ],
   "source": [
    "df_dropped_NA[\"Qcama\"][df_dropped_NA[\"Qcama\"] > 12] = np.nan\n",
    "df_dropped_NA[\"Qcama\"].value_counts(dropna=False)"
   ]
  },
  {
   "cell_type": "code",
   "execution_count": 1277,
   "id": "9ed17f44",
   "metadata": {},
   "outputs": [
    {
     "data": {
      "text/plain": [
       "Quinta-Feira     329\n",
       "Terça-Feira      205\n",
       "Sexta-Feira      186\n",
       "Quarta-Feira     132\n",
       "Sábado            51\n",
       "Segunda-Feira     46\n",
       "Domingo           31\n",
       "Name: Qche, dtype: int64"
      ]
     },
     "execution_count": 1277,
     "metadata": {},
     "output_type": "execute_result"
    }
   ],
   "source": [
    "\n",
    "df_dropped_NA[\"Qche\"] = df_dropped_NA[\"Qche\"].replace([\"quinta-Feira\",\"Quinta Feira\",\"quintaFeira\"],[\"Quinta-Feira\",\"Quinta-Feira\",\"Quinta-Feira\"])\n",
    "df_dropped_NA[\"Qche\"].value_counts(dropna=False)\n"
   ]
  },
  {
   "cell_type": "code",
   "execution_count": 1278,
   "id": "f8cbea2e",
   "metadata": {},
   "outputs": [
    {
     "name": "stdout",
     "output_type": "stream",
     "text": [
      "<class 'pandas.core.frame.DataFrame'>\n",
      "Int64Index: 980 entries, 0 to 1267\n",
      "Data columns (total 70 columns):\n",
      " #   Column    Non-Null Count  Dtype  \n",
      "---  ------    --------------  -----  \n",
      " 0   P1        980 non-null    float64\n",
      " 1   P2        980 non-null    object \n",
      " 2   P3        980 non-null    float64\n",
      " 3   P4        980 non-null    float64\n",
      " 4   P5        980 non-null    object \n",
      " 5   P6        979 non-null    float64\n",
      " 6   P7        980 non-null    object \n",
      " 7   P8        980 non-null    float64\n",
      " 8   P9        980 non-null    object \n",
      " 9   P10       980 non-null    float64\n",
      " 10  P11       980 non-null    float64\n",
      " 11  P12       980 non-null    object \n",
      " 12  P13       980 non-null    float64\n",
      " 13  P14       980 non-null    float64\n",
      " 14  P15       980 non-null    float64\n",
      " 15  P16       980 non-null    float64\n",
      " 16  P17       980 non-null    float64\n",
      " 17  P18       980 non-null    object \n",
      " 18  P19       980 non-null    object \n",
      " 19  P20       980 non-null    object \n",
      " 20  P21       980 non-null    object \n",
      " 21  P22       980 non-null    object \n",
      " 22  P23       980 non-null    object \n",
      " 23  P24       980 non-null    float64\n",
      " 24  P25       980 non-null    float64\n",
      " 25  P26       980 non-null    float64\n",
      " 26  P27       980 non-null    float64\n",
      " 27  P28       980 non-null    float64\n",
      " 28  P29       980 non-null    float64\n",
      " 29  P30       980 non-null    float64\n",
      " 30  P31       980 non-null    float64\n",
      " 31  P32       980 non-null    float64\n",
      " 32  P33       980 non-null    float64\n",
      " 33  P34       980 non-null    float64\n",
      " 34  P35       980 non-null    float64\n",
      " 35  P36       980 non-null    float64\n",
      " 36  P37       980 non-null    float64\n",
      " 37  P38       980 non-null    float64\n",
      " 38  P39       980 non-null    float64\n",
      " 39  P40       980 non-null    float64\n",
      " 40  P41       980 non-null    float64\n",
      " 41  P42       980 non-null    float64\n",
      " 42  P43       979 non-null    float64\n",
      " 43  P44       980 non-null    float64\n",
      " 44  P45       980 non-null    float64\n",
      " 45  P46       980 non-null    float64\n",
      " 46  P47       980 non-null    float64\n",
      " 47  P48       980 non-null    float64\n",
      " 48  P49       980 non-null    float64\n",
      " 49  P50       980 non-null    float64\n",
      " 50  P51       980 non-null    float64\n",
      " 51  P52       980 non-null    float64\n",
      " 52  P53       980 non-null    float64\n",
      " 53  P54       980 non-null    float64\n",
      " 54  P55       979 non-null    float64\n",
      " 55  P56       980 non-null    float64\n",
      " 56  P57       980 non-null    float64\n",
      " 57  P58       980 non-null    float64\n",
      " 58  Qesc      980 non-null    float64\n",
      " 59  Qciv      980 non-null    object \n",
      " 60  Qnat      966 non-null    float64\n",
      " 61  Qtipcama  980 non-null    object \n",
      " 62  Qcama     979 non-null    float64\n",
      " 63  Qest      980 non-null    float64\n",
      " 64  Qche      980 non-null    object \n",
      " 65  Qocup     980 non-null    float64\n",
      " 66  Qid       980 non-null    float64\n",
      " 67  Qgen      980 non-null    float64\n",
      " 68  Qreg      980 non-null    float64\n",
      " 69  Qclasse   980 non-null    object \n",
      "dtypes: float64(55), object(15)\n",
      "memory usage: 543.6+ KB\n"
     ]
    }
   ],
   "source": [
    "df_dropped_NA.info()"
   ]
  },
  {
   "cell_type": "code",
   "execution_count": 1279,
   "id": "615cde44",
   "metadata": {},
   "outputs": [
    {
     "name": "stdout",
     "output_type": "stream",
     "text": [
      "<class 'pandas.core.frame.DataFrame'>\n",
      "Int64Index: 962 entries, 0 to 1266\n",
      "Data columns (total 70 columns):\n",
      " #   Column    Non-Null Count  Dtype  \n",
      "---  ------    --------------  -----  \n",
      " 0   P1        962 non-null    float64\n",
      " 1   P2        962 non-null    object \n",
      " 2   P3        962 non-null    float64\n",
      " 3   P4        962 non-null    float64\n",
      " 4   P5        962 non-null    object \n",
      " 5   P6        962 non-null    float64\n",
      " 6   P7        962 non-null    object \n",
      " 7   P8        962 non-null    float64\n",
      " 8   P9        962 non-null    object \n",
      " 9   P10       962 non-null    float64\n",
      " 10  P11       962 non-null    float64\n",
      " 11  P12       962 non-null    object \n",
      " 12  P13       962 non-null    float64\n",
      " 13  P14       962 non-null    float64\n",
      " 14  P15       962 non-null    float64\n",
      " 15  P16       962 non-null    float64\n",
      " 16  P17       962 non-null    float64\n",
      " 17  P18       962 non-null    object \n",
      " 18  P19       962 non-null    object \n",
      " 19  P20       962 non-null    object \n",
      " 20  P21       962 non-null    object \n",
      " 21  P22       962 non-null    object \n",
      " 22  P23       962 non-null    object \n",
      " 23  P24       962 non-null    float64\n",
      " 24  P25       962 non-null    float64\n",
      " 25  P26       962 non-null    float64\n",
      " 26  P27       962 non-null    float64\n",
      " 27  P28       962 non-null    float64\n",
      " 28  P29       962 non-null    float64\n",
      " 29  P30       962 non-null    float64\n",
      " 30  P31       962 non-null    float64\n",
      " 31  P32       962 non-null    float64\n",
      " 32  P33       962 non-null    float64\n",
      " 33  P34       962 non-null    float64\n",
      " 34  P35       962 non-null    float64\n",
      " 35  P36       962 non-null    float64\n",
      " 36  P37       962 non-null    float64\n",
      " 37  P38       962 non-null    float64\n",
      " 38  P39       962 non-null    float64\n",
      " 39  P40       962 non-null    float64\n",
      " 40  P41       962 non-null    float64\n",
      " 41  P42       962 non-null    float64\n",
      " 42  P43       962 non-null    float64\n",
      " 43  P44       962 non-null    float64\n",
      " 44  P45       962 non-null    float64\n",
      " 45  P46       962 non-null    float64\n",
      " 46  P47       962 non-null    float64\n",
      " 47  P48       962 non-null    float64\n",
      " 48  P49       962 non-null    float64\n",
      " 49  P50       962 non-null    float64\n",
      " 50  P51       962 non-null    float64\n",
      " 51  P52       962 non-null    float64\n",
      " 52  P53       962 non-null    float64\n",
      " 53  P54       962 non-null    float64\n",
      " 54  P55       962 non-null    float64\n",
      " 55  P56       962 non-null    float64\n",
      " 56  P57       962 non-null    float64\n",
      " 57  P58       962 non-null    float64\n",
      " 58  Qesc      962 non-null    float64\n",
      " 59  Qciv      962 non-null    object \n",
      " 60  Qnat      962 non-null    float64\n",
      " 61  Qtipcama  962 non-null    object \n",
      " 62  Qcama     962 non-null    float64\n",
      " 63  Qest      962 non-null    float64\n",
      " 64  Qche      962 non-null    object \n",
      " 65  Qocup     962 non-null    float64\n",
      " 66  Qid       962 non-null    float64\n",
      " 67  Qgen      962 non-null    float64\n",
      " 68  Qreg      962 non-null    float64\n",
      " 69  Qclasse   962 non-null    object \n",
      "dtypes: float64(55), object(15)\n",
      "memory usage: 533.6+ KB\n"
     ]
    }
   ],
   "source": [
    "df_limpo = df_dropped_NA.dropna(how = \"any\")\n",
    "df_limpo.info()"
   ]
  },
  {
   "cell_type": "code",
   "execution_count": 1280,
   "id": "8874b177",
   "metadata": {},
   "outputs": [
    {
     "name": "stdout",
     "output_type": "stream",
     "text": [
      "<class 'pandas.core.frame.DataFrame'>\n",
      "Int64Index: 962 entries, 0 to 1266\n",
      "Data columns (total 70 columns):\n",
      " #   Column    Non-Null Count  Dtype  \n",
      "---  ------    --------------  -----  \n",
      " 0   P1        962 non-null    float64\n",
      " 1   P2        962 non-null    float64\n",
      " 2   P3        962 non-null    float64\n",
      " 3   P4        962 non-null    float64\n",
      " 4   P5        962 non-null    float64\n",
      " 5   P6        962 non-null    float64\n",
      " 6   P7        962 non-null    float64\n",
      " 7   P8        962 non-null    float64\n",
      " 8   P9        962 non-null    float64\n",
      " 9   P10       962 non-null    float64\n",
      " 10  P11       962 non-null    float64\n",
      " 11  P12       962 non-null    float64\n",
      " 12  P13       962 non-null    float64\n",
      " 13  P14       962 non-null    float64\n",
      " 14  P15       962 non-null    float64\n",
      " 15  P16       962 non-null    float64\n",
      " 16  P17       962 non-null    float64\n",
      " 17  P18       962 non-null    float64\n",
      " 18  P19       962 non-null    float64\n",
      " 19  P20       962 non-null    float64\n",
      " 20  P21       962 non-null    float64\n",
      " 21  P22       962 non-null    float64\n",
      " 22  P23       962 non-null    float64\n",
      " 23  P24       962 non-null    float64\n",
      " 24  P25       962 non-null    float64\n",
      " 25  P26       962 non-null    float64\n",
      " 26  P27       962 non-null    float64\n",
      " 27  P28       962 non-null    float64\n",
      " 28  P29       962 non-null    float64\n",
      " 29  P30       962 non-null    float64\n",
      " 30  P31       962 non-null    float64\n",
      " 31  P32       962 non-null    float64\n",
      " 32  P33       962 non-null    float64\n",
      " 33  P34       962 non-null    float64\n",
      " 34  P35       962 non-null    float64\n",
      " 35  P36       962 non-null    float64\n",
      " 36  P37       962 non-null    float64\n",
      " 37  P38       962 non-null    float64\n",
      " 38  P39       962 non-null    float64\n",
      " 39  P40       962 non-null    float64\n",
      " 40  P41       962 non-null    float64\n",
      " 41  P42       962 non-null    float64\n",
      " 42  P43       962 non-null    float64\n",
      " 43  P44       962 non-null    float64\n",
      " 44  P45       962 non-null    float64\n",
      " 45  P46       962 non-null    float64\n",
      " 46  P47       962 non-null    float64\n",
      " 47  P48       962 non-null    float64\n",
      " 48  P49       962 non-null    float64\n",
      " 49  P50       962 non-null    float64\n",
      " 50  P51       962 non-null    float64\n",
      " 51  P52       962 non-null    float64\n",
      " 52  P53       962 non-null    float64\n",
      " 53  P54       962 non-null    float64\n",
      " 54  P55       962 non-null    float64\n",
      " 55  P56       962 non-null    float64\n",
      " 56  P57       962 non-null    float64\n",
      " 57  P58       962 non-null    float64\n",
      " 58  Qesc      962 non-null    object \n",
      " 59  Qciv      962 non-null    object \n",
      " 60  Qnat      962 non-null    float64\n",
      " 61  Qtipcama  962 non-null    object \n",
      " 62  Qcama     962 non-null    float64\n",
      " 63  Qest      962 non-null    float64\n",
      " 64  Qche      962 non-null    object \n",
      " 65  Qocup     962 non-null    object \n",
      " 66  Qid       962 non-null    float64\n",
      " 67  Qgen      962 non-null    float64\n",
      " 68  Qreg      962 non-null    float64\n",
      " 69  Qclasse   962 non-null    object \n",
      "dtypes: float64(64), object(6)\n",
      "memory usage: 533.6+ KB\n"
     ]
    }
   ],
   "source": [
    "df_limpo[\"P2\"] = df_limpo[\"P2\"].astype(float)\n",
    "df_limpo[\"P5\"] = df_limpo[\"P5\"].astype(float)\n",
    "df_limpo[\"P7\"] = df_limpo[\"P7\"].astype(float)\n",
    "df_limpo[\"P9\"] = df_limpo[\"P9\"].astype(float)\n",
    "df_limpo[\"P12\"] = df_limpo[\"P12\"].astype(float)\n",
    "df_limpo[\"P18\"] = df_limpo[\"P18\"].astype(float)\n",
    "df_limpo[\"P19\"] = df_limpo[\"P19\"].astype(float)\n",
    "df_limpo[\"P20\"] = df_limpo[\"P20\"].astype(float)\n",
    "df_limpo[\"P21\"] = df_limpo[\"P21\"].astype(float)\n",
    "df_limpo[\"P22\"] = df_limpo[\"P22\"].astype(float)\n",
    "df_limpo[\"P23\"] = df_limpo[\"P23\"].astype(float)\n",
    "df_limpo[\"Qesc\"] = df_limpo[\"Qesc\"].astype(object)\n",
    "df_limpo[\"Qocup\"] = df_limpo[\"Qocup\"].astype(object)\n",
    "df_limpo.info()"
   ]
  },
  {
   "cell_type": "code",
   "execution_count": 1281,
   "id": "10c2d1dc",
   "metadata": {},
   "outputs": [
    {
     "data": {
      "text/html": [
       "<div>\n",
       "<style scoped>\n",
       "    .dataframe tbody tr th:only-of-type {\n",
       "        vertical-align: middle;\n",
       "    }\n",
       "\n",
       "    .dataframe tbody tr th {\n",
       "        vertical-align: top;\n",
       "    }\n",
       "\n",
       "    .dataframe thead th {\n",
       "        text-align: right;\n",
       "    }\n",
       "</style>\n",
       "<table border=\"1\" class=\"dataframe\">\n",
       "  <thead>\n",
       "    <tr style=\"text-align: right;\">\n",
       "      <th></th>\n",
       "      <th>P1</th>\n",
       "      <th>P2</th>\n",
       "      <th>P3</th>\n",
       "      <th>P4</th>\n",
       "      <th>P5</th>\n",
       "      <th>P6</th>\n",
       "      <th>P7</th>\n",
       "      <th>P8</th>\n",
       "      <th>P9</th>\n",
       "      <th>P10</th>\n",
       "      <th>...</th>\n",
       "      <th>P55</th>\n",
       "      <th>P56</th>\n",
       "      <th>P57</th>\n",
       "      <th>P58</th>\n",
       "      <th>Qnat</th>\n",
       "      <th>Qcama</th>\n",
       "      <th>Qest</th>\n",
       "      <th>Qid</th>\n",
       "      <th>Qgen</th>\n",
       "      <th>Qreg</th>\n",
       "    </tr>\n",
       "  </thead>\n",
       "  <tbody>\n",
       "    <tr>\n",
       "      <th>count</th>\n",
       "      <td>962.000000</td>\n",
       "      <td>962.000000</td>\n",
       "      <td>962.000000</td>\n",
       "      <td>962.000000</td>\n",
       "      <td>962.000000</td>\n",
       "      <td>962.000000</td>\n",
       "      <td>962.000000</td>\n",
       "      <td>962.000000</td>\n",
       "      <td>962.000000</td>\n",
       "      <td>962.000000</td>\n",
       "      <td>...</td>\n",
       "      <td>962.000000</td>\n",
       "      <td>962.000000</td>\n",
       "      <td>962.000000</td>\n",
       "      <td>962.000000</td>\n",
       "      <td>962.000000</td>\n",
       "      <td>962.000000</td>\n",
       "      <td>962.000000</td>\n",
       "      <td>962.000000</td>\n",
       "      <td>962.000000</td>\n",
       "      <td>962.000000</td>\n",
       "    </tr>\n",
       "    <tr>\n",
       "      <th>mean</th>\n",
       "      <td>1.996881</td>\n",
       "      <td>3.950104</td>\n",
       "      <td>4.545738</td>\n",
       "      <td>4.539501</td>\n",
       "      <td>4.409563</td>\n",
       "      <td>4.290021</td>\n",
       "      <td>3.628898</td>\n",
       "      <td>4.194387</td>\n",
       "      <td>4.806653</td>\n",
       "      <td>2.857588</td>\n",
       "      <td>...</td>\n",
       "      <td>4.040541</td>\n",
       "      <td>3.968815</td>\n",
       "      <td>4.728690</td>\n",
       "      <td>3.914761</td>\n",
       "      <td>2.366944</td>\n",
       "      <td>2.367983</td>\n",
       "      <td>3.650728</td>\n",
       "      <td>3.531185</td>\n",
       "      <td>1.505198</td>\n",
       "      <td>2.583160</td>\n",
       "    </tr>\n",
       "    <tr>\n",
       "      <th>std</th>\n",
       "      <td>1.169768</td>\n",
       "      <td>1.886919</td>\n",
       "      <td>1.987078</td>\n",
       "      <td>1.978816</td>\n",
       "      <td>1.921626</td>\n",
       "      <td>2.040201</td>\n",
       "      <td>2.271049</td>\n",
       "      <td>1.957044</td>\n",
       "      <td>1.888692</td>\n",
       "      <td>2.093916</td>\n",
       "      <td>...</td>\n",
       "      <td>2.011781</td>\n",
       "      <td>2.026634</td>\n",
       "      <td>1.787978</td>\n",
       "      <td>1.992966</td>\n",
       "      <td>0.932402</td>\n",
       "      <td>1.866996</td>\n",
       "      <td>1.625321</td>\n",
       "      <td>1.593942</td>\n",
       "      <td>0.500233</td>\n",
       "      <td>1.386664</td>\n",
       "    </tr>\n",
       "    <tr>\n",
       "      <th>min</th>\n",
       "      <td>1.000000</td>\n",
       "      <td>1.000000</td>\n",
       "      <td>1.000000</td>\n",
       "      <td>1.000000</td>\n",
       "      <td>1.000000</td>\n",
       "      <td>1.000000</td>\n",
       "      <td>1.000000</td>\n",
       "      <td>1.000000</td>\n",
       "      <td>1.000000</td>\n",
       "      <td>1.000000</td>\n",
       "      <td>...</td>\n",
       "      <td>1.000000</td>\n",
       "      <td>1.000000</td>\n",
       "      <td>1.000000</td>\n",
       "      <td>1.000000</td>\n",
       "      <td>1.000000</td>\n",
       "      <td>0.000000</td>\n",
       "      <td>1.000000</td>\n",
       "      <td>1.000000</td>\n",
       "      <td>1.000000</td>\n",
       "      <td>1.000000</td>\n",
       "    </tr>\n",
       "    <tr>\n",
       "      <th>25%</th>\n",
       "      <td>1.000000</td>\n",
       "      <td>3.000000</td>\n",
       "      <td>3.000000</td>\n",
       "      <td>3.000000</td>\n",
       "      <td>3.000000</td>\n",
       "      <td>2.000000</td>\n",
       "      <td>2.000000</td>\n",
       "      <td>3.000000</td>\n",
       "      <td>5.000000</td>\n",
       "      <td>1.000000</td>\n",
       "      <td>...</td>\n",
       "      <td>2.000000</td>\n",
       "      <td>2.000000</td>\n",
       "      <td>4.000000</td>\n",
       "      <td>2.000000</td>\n",
       "      <td>2.000000</td>\n",
       "      <td>1.000000</td>\n",
       "      <td>3.000000</td>\n",
       "      <td>2.000000</td>\n",
       "      <td>1.000000</td>\n",
       "      <td>1.000000</td>\n",
       "    </tr>\n",
       "    <tr>\n",
       "      <th>50%</th>\n",
       "      <td>2.000000</td>\n",
       "      <td>3.000000</td>\n",
       "      <td>5.000000</td>\n",
       "      <td>5.000000</td>\n",
       "      <td>5.000000</td>\n",
       "      <td>5.000000</td>\n",
       "      <td>3.000000</td>\n",
       "      <td>4.000000</td>\n",
       "      <td>5.000000</td>\n",
       "      <td>2.000000</td>\n",
       "      <td>...</td>\n",
       "      <td>4.000000</td>\n",
       "      <td>4.000000</td>\n",
       "      <td>5.000000</td>\n",
       "      <td>4.000000</td>\n",
       "      <td>2.000000</td>\n",
       "      <td>2.000000</td>\n",
       "      <td>4.000000</td>\n",
       "      <td>4.000000</td>\n",
       "      <td>2.000000</td>\n",
       "      <td>2.000000</td>\n",
       "    </tr>\n",
       "    <tr>\n",
       "      <th>75%</th>\n",
       "      <td>2.000000</td>\n",
       "      <td>5.000000</td>\n",
       "      <td>6.000000</td>\n",
       "      <td>6.000000</td>\n",
       "      <td>6.000000</td>\n",
       "      <td>6.000000</td>\n",
       "      <td>6.000000</td>\n",
       "      <td>6.000000</td>\n",
       "      <td>6.000000</td>\n",
       "      <td>5.000000</td>\n",
       "      <td>...</td>\n",
       "      <td>6.000000</td>\n",
       "      <td>6.000000</td>\n",
       "      <td>6.000000</td>\n",
       "      <td>6.000000</td>\n",
       "      <td>3.000000</td>\n",
       "      <td>3.000000</td>\n",
       "      <td>4.000000</td>\n",
       "      <td>5.000000</td>\n",
       "      <td>2.000000</td>\n",
       "      <td>4.000000</td>\n",
       "    </tr>\n",
       "    <tr>\n",
       "      <th>max</th>\n",
       "      <td>5.000000</td>\n",
       "      <td>7.000000</td>\n",
       "      <td>7.000000</td>\n",
       "      <td>7.000000</td>\n",
       "      <td>7.000000</td>\n",
       "      <td>7.000000</td>\n",
       "      <td>7.000000</td>\n",
       "      <td>7.000000</td>\n",
       "      <td>7.000000</td>\n",
       "      <td>7.000000</td>\n",
       "      <td>...</td>\n",
       "      <td>7.000000</td>\n",
       "      <td>7.000000</td>\n",
       "      <td>7.000000</td>\n",
       "      <td>7.000000</td>\n",
       "      <td>4.000000</td>\n",
       "      <td>10.000000</td>\n",
       "      <td>6.000000</td>\n",
       "      <td>6.000000</td>\n",
       "      <td>2.000000</td>\n",
       "      <td>5.000000</td>\n",
       "    </tr>\n",
       "  </tbody>\n",
       "</table>\n",
       "<p>8 rows × 64 columns</p>\n",
       "</div>"
      ],
      "text/plain": [
       "               P1          P2          P3          P4          P5          P6  \\\n",
       "count  962.000000  962.000000  962.000000  962.000000  962.000000  962.000000   \n",
       "mean     1.996881    3.950104    4.545738    4.539501    4.409563    4.290021   \n",
       "std      1.169768    1.886919    1.987078    1.978816    1.921626    2.040201   \n",
       "min      1.000000    1.000000    1.000000    1.000000    1.000000    1.000000   \n",
       "25%      1.000000    3.000000    3.000000    3.000000    3.000000    2.000000   \n",
       "50%      2.000000    3.000000    5.000000    5.000000    5.000000    5.000000   \n",
       "75%      2.000000    5.000000    6.000000    6.000000    6.000000    6.000000   \n",
       "max      5.000000    7.000000    7.000000    7.000000    7.000000    7.000000   \n",
       "\n",
       "               P7          P8          P9         P10  ...         P55  \\\n",
       "count  962.000000  962.000000  962.000000  962.000000  ...  962.000000   \n",
       "mean     3.628898    4.194387    4.806653    2.857588  ...    4.040541   \n",
       "std      2.271049    1.957044    1.888692    2.093916  ...    2.011781   \n",
       "min      1.000000    1.000000    1.000000    1.000000  ...    1.000000   \n",
       "25%      2.000000    3.000000    5.000000    1.000000  ...    2.000000   \n",
       "50%      3.000000    4.000000    5.000000    2.000000  ...    4.000000   \n",
       "75%      6.000000    6.000000    6.000000    5.000000  ...    6.000000   \n",
       "max      7.000000    7.000000    7.000000    7.000000  ...    7.000000   \n",
       "\n",
       "              P56         P57         P58        Qnat       Qcama        Qest  \\\n",
       "count  962.000000  962.000000  962.000000  962.000000  962.000000  962.000000   \n",
       "mean     3.968815    4.728690    3.914761    2.366944    2.367983    3.650728   \n",
       "std      2.026634    1.787978    1.992966    0.932402    1.866996    1.625321   \n",
       "min      1.000000    1.000000    1.000000    1.000000    0.000000    1.000000   \n",
       "25%      2.000000    4.000000    2.000000    2.000000    1.000000    3.000000   \n",
       "50%      4.000000    5.000000    4.000000    2.000000    2.000000    4.000000   \n",
       "75%      6.000000    6.000000    6.000000    3.000000    3.000000    4.000000   \n",
       "max      7.000000    7.000000    7.000000    4.000000   10.000000    6.000000   \n",
       "\n",
       "              Qid        Qgen        Qreg  \n",
       "count  962.000000  962.000000  962.000000  \n",
       "mean     3.531185    1.505198    2.583160  \n",
       "std      1.593942    0.500233    1.386664  \n",
       "min      1.000000    1.000000    1.000000  \n",
       "25%      2.000000    1.000000    1.000000  \n",
       "50%      4.000000    2.000000    2.000000  \n",
       "75%      5.000000    2.000000    4.000000  \n",
       "max      6.000000    2.000000    5.000000  \n",
       "\n",
       "[8 rows x 64 columns]"
      ]
     },
     "execution_count": 1281,
     "metadata": {},
     "output_type": "execute_result"
    }
   ],
   "source": [
    "df_limpo.describe()"
   ]
  },
  {
   "cell_type": "code",
   "execution_count": 1282,
   "id": "ecc6355b",
   "metadata": {},
   "outputs": [
    {
     "name": "stdout",
     "output_type": "stream",
     "text": [
      "Error in callback <function flush_figures at 0x7fe030a7d4c0> (for post_execute):\n"
     ]
    },
    {
     "ename": "KeyboardInterrupt",
     "evalue": "",
     "output_type": "error",
     "traceback": [
      "\u001b[0;31m---------------------------------------------------------------------------\u001b[0m",
      "\u001b[0;31mKeyboardInterrupt\u001b[0m                         Traceback (most recent call last)",
      "\u001b[0;32m/opt/anaconda3/lib/python3.9/site-packages/matplotlib_inline/backend_inline.py\u001b[0m in \u001b[0;36mflush_figures\u001b[0;34m()\u001b[0m\n\u001b[1;32m    119\u001b[0m         \u001b[0;31m# ignore the tracking, just draw and close all figures\u001b[0m\u001b[0;34m\u001b[0m\u001b[0;34m\u001b[0m\u001b[0m\n\u001b[1;32m    120\u001b[0m         \u001b[0;32mtry\u001b[0m\u001b[0;34m:\u001b[0m\u001b[0;34m\u001b[0m\u001b[0;34m\u001b[0m\u001b[0m\n\u001b[0;32m--> 121\u001b[0;31m             \u001b[0;32mreturn\u001b[0m \u001b[0mshow\u001b[0m\u001b[0;34m(\u001b[0m\u001b[0;32mTrue\u001b[0m\u001b[0;34m)\u001b[0m\u001b[0;34m\u001b[0m\u001b[0;34m\u001b[0m\u001b[0m\n\u001b[0m\u001b[1;32m    122\u001b[0m         \u001b[0;32mexcept\u001b[0m \u001b[0mException\u001b[0m \u001b[0;32mas\u001b[0m \u001b[0me\u001b[0m\u001b[0;34m:\u001b[0m\u001b[0;34m\u001b[0m\u001b[0;34m\u001b[0m\u001b[0m\n\u001b[1;32m    123\u001b[0m             \u001b[0;31m# safely show traceback if in IPython, else raise\u001b[0m\u001b[0;34m\u001b[0m\u001b[0;34m\u001b[0m\u001b[0m\n",
      "\u001b[0;32m/opt/anaconda3/lib/python3.9/site-packages/matplotlib_inline/backend_inline.py\u001b[0m in \u001b[0;36mshow\u001b[0;34m(close, block)\u001b[0m\n\u001b[1;32m     39\u001b[0m     \u001b[0;32mtry\u001b[0m\u001b[0;34m:\u001b[0m\u001b[0;34m\u001b[0m\u001b[0;34m\u001b[0m\u001b[0m\n\u001b[1;32m     40\u001b[0m         \u001b[0;32mfor\u001b[0m \u001b[0mfigure_manager\u001b[0m \u001b[0;32min\u001b[0m \u001b[0mGcf\u001b[0m\u001b[0;34m.\u001b[0m\u001b[0mget_all_fig_managers\u001b[0m\u001b[0;34m(\u001b[0m\u001b[0;34m)\u001b[0m\u001b[0;34m:\u001b[0m\u001b[0;34m\u001b[0m\u001b[0;34m\u001b[0m\u001b[0m\n\u001b[0;32m---> 41\u001b[0;31m             display(\n\u001b[0m\u001b[1;32m     42\u001b[0m                 \u001b[0mfigure_manager\u001b[0m\u001b[0;34m.\u001b[0m\u001b[0mcanvas\u001b[0m\u001b[0;34m.\u001b[0m\u001b[0mfigure\u001b[0m\u001b[0;34m,\u001b[0m\u001b[0;34m\u001b[0m\u001b[0;34m\u001b[0m\u001b[0m\n\u001b[1;32m     43\u001b[0m                 \u001b[0mmetadata\u001b[0m\u001b[0;34m=\u001b[0m\u001b[0m_fetch_figure_metadata\u001b[0m\u001b[0;34m(\u001b[0m\u001b[0mfigure_manager\u001b[0m\u001b[0;34m.\u001b[0m\u001b[0mcanvas\u001b[0m\u001b[0;34m.\u001b[0m\u001b[0mfigure\u001b[0m\u001b[0;34m)\u001b[0m\u001b[0;34m\u001b[0m\u001b[0;34m\u001b[0m\u001b[0m\n",
      "\u001b[0;32m/opt/anaconda3/lib/python3.9/site-packages/IPython/core/display.py\u001b[0m in \u001b[0;36mdisplay\u001b[0;34m(include, exclude, metadata, transient, display_id, *objs, **kwargs)\u001b[0m\n\u001b[1;32m    318\u001b[0m             \u001b[0mpublish_display_data\u001b[0m\u001b[0;34m(\u001b[0m\u001b[0mdata\u001b[0m\u001b[0;34m=\u001b[0m\u001b[0mobj\u001b[0m\u001b[0;34m,\u001b[0m \u001b[0mmetadata\u001b[0m\u001b[0;34m=\u001b[0m\u001b[0mmetadata\u001b[0m\u001b[0;34m,\u001b[0m \u001b[0;34m**\u001b[0m\u001b[0mkwargs\u001b[0m\u001b[0;34m)\u001b[0m\u001b[0;34m\u001b[0m\u001b[0;34m\u001b[0m\u001b[0m\n\u001b[1;32m    319\u001b[0m         \u001b[0;32melse\u001b[0m\u001b[0;34m:\u001b[0m\u001b[0;34m\u001b[0m\u001b[0;34m\u001b[0m\u001b[0m\n\u001b[0;32m--> 320\u001b[0;31m             \u001b[0mformat_dict\u001b[0m\u001b[0;34m,\u001b[0m \u001b[0mmd_dict\u001b[0m \u001b[0;34m=\u001b[0m \u001b[0mformat\u001b[0m\u001b[0;34m(\u001b[0m\u001b[0mobj\u001b[0m\u001b[0;34m,\u001b[0m \u001b[0minclude\u001b[0m\u001b[0;34m=\u001b[0m\u001b[0minclude\u001b[0m\u001b[0;34m,\u001b[0m \u001b[0mexclude\u001b[0m\u001b[0;34m=\u001b[0m\u001b[0mexclude\u001b[0m\u001b[0;34m)\u001b[0m\u001b[0;34m\u001b[0m\u001b[0;34m\u001b[0m\u001b[0m\n\u001b[0m\u001b[1;32m    321\u001b[0m             \u001b[0;32mif\u001b[0m \u001b[0;32mnot\u001b[0m \u001b[0mformat_dict\u001b[0m\u001b[0;34m:\u001b[0m\u001b[0;34m\u001b[0m\u001b[0;34m\u001b[0m\u001b[0m\n\u001b[1;32m    322\u001b[0m                 \u001b[0;31m# nothing to display (e.g. _ipython_display_ took over)\u001b[0m\u001b[0;34m\u001b[0m\u001b[0;34m\u001b[0m\u001b[0m\n",
      "\u001b[0;32m/opt/anaconda3/lib/python3.9/site-packages/IPython/core/formatters.py\u001b[0m in \u001b[0;36mformat\u001b[0;34m(self, obj, include, exclude)\u001b[0m\n\u001b[1;32m    178\u001b[0m             \u001b[0mmd\u001b[0m \u001b[0;34m=\u001b[0m \u001b[0;32mNone\u001b[0m\u001b[0;34m\u001b[0m\u001b[0;34m\u001b[0m\u001b[0m\n\u001b[1;32m    179\u001b[0m             \u001b[0;32mtry\u001b[0m\u001b[0;34m:\u001b[0m\u001b[0;34m\u001b[0m\u001b[0;34m\u001b[0m\u001b[0m\n\u001b[0;32m--> 180\u001b[0;31m                 \u001b[0mdata\u001b[0m \u001b[0;34m=\u001b[0m \u001b[0mformatter\u001b[0m\u001b[0;34m(\u001b[0m\u001b[0mobj\u001b[0m\u001b[0;34m)\u001b[0m\u001b[0;34m\u001b[0m\u001b[0;34m\u001b[0m\u001b[0m\n\u001b[0m\u001b[1;32m    181\u001b[0m             \u001b[0;32mexcept\u001b[0m\u001b[0;34m:\u001b[0m\u001b[0;34m\u001b[0m\u001b[0;34m\u001b[0m\u001b[0m\n\u001b[1;32m    182\u001b[0m                 \u001b[0;31m# FIXME: log the exception\u001b[0m\u001b[0;34m\u001b[0m\u001b[0;34m\u001b[0m\u001b[0m\n",
      "\u001b[0;32m/opt/anaconda3/lib/python3.9/site-packages/decorator.py\u001b[0m in \u001b[0;36mfun\u001b[0;34m(*args, **kw)\u001b[0m\n\u001b[1;32m    230\u001b[0m             \u001b[0;32mif\u001b[0m \u001b[0;32mnot\u001b[0m \u001b[0mkwsyntax\u001b[0m\u001b[0;34m:\u001b[0m\u001b[0;34m\u001b[0m\u001b[0;34m\u001b[0m\u001b[0m\n\u001b[1;32m    231\u001b[0m                 \u001b[0margs\u001b[0m\u001b[0;34m,\u001b[0m \u001b[0mkw\u001b[0m \u001b[0;34m=\u001b[0m \u001b[0mfix\u001b[0m\u001b[0;34m(\u001b[0m\u001b[0margs\u001b[0m\u001b[0;34m,\u001b[0m \u001b[0mkw\u001b[0m\u001b[0;34m,\u001b[0m \u001b[0msig\u001b[0m\u001b[0;34m)\u001b[0m\u001b[0;34m\u001b[0m\u001b[0;34m\u001b[0m\u001b[0m\n\u001b[0;32m--> 232\u001b[0;31m             \u001b[0;32mreturn\u001b[0m \u001b[0mcaller\u001b[0m\u001b[0;34m(\u001b[0m\u001b[0mfunc\u001b[0m\u001b[0;34m,\u001b[0m \u001b[0;34m*\u001b[0m\u001b[0;34m(\u001b[0m\u001b[0mextras\u001b[0m \u001b[0;34m+\u001b[0m \u001b[0margs\u001b[0m\u001b[0;34m)\u001b[0m\u001b[0;34m,\u001b[0m \u001b[0;34m**\u001b[0m\u001b[0mkw\u001b[0m\u001b[0;34m)\u001b[0m\u001b[0;34m\u001b[0m\u001b[0;34m\u001b[0m\u001b[0m\n\u001b[0m\u001b[1;32m    233\u001b[0m     \u001b[0mfun\u001b[0m\u001b[0;34m.\u001b[0m\u001b[0m__name__\u001b[0m \u001b[0;34m=\u001b[0m \u001b[0mfunc\u001b[0m\u001b[0;34m.\u001b[0m\u001b[0m__name__\u001b[0m\u001b[0;34m\u001b[0m\u001b[0;34m\u001b[0m\u001b[0m\n\u001b[1;32m    234\u001b[0m     \u001b[0mfun\u001b[0m\u001b[0;34m.\u001b[0m\u001b[0m__doc__\u001b[0m \u001b[0;34m=\u001b[0m \u001b[0mfunc\u001b[0m\u001b[0;34m.\u001b[0m\u001b[0m__doc__\u001b[0m\u001b[0;34m\u001b[0m\u001b[0;34m\u001b[0m\u001b[0m\n",
      "\u001b[0;32m/opt/anaconda3/lib/python3.9/site-packages/IPython/core/formatters.py\u001b[0m in \u001b[0;36mcatch_format_error\u001b[0;34m(method, self, *args, **kwargs)\u001b[0m\n\u001b[1;32m    222\u001b[0m     \u001b[0;34m\"\"\"show traceback on failed format call\"\"\"\u001b[0m\u001b[0;34m\u001b[0m\u001b[0;34m\u001b[0m\u001b[0m\n\u001b[1;32m    223\u001b[0m     \u001b[0;32mtry\u001b[0m\u001b[0;34m:\u001b[0m\u001b[0;34m\u001b[0m\u001b[0;34m\u001b[0m\u001b[0m\n\u001b[0;32m--> 224\u001b[0;31m         \u001b[0mr\u001b[0m \u001b[0;34m=\u001b[0m \u001b[0mmethod\u001b[0m\u001b[0;34m(\u001b[0m\u001b[0mself\u001b[0m\u001b[0;34m,\u001b[0m \u001b[0;34m*\u001b[0m\u001b[0margs\u001b[0m\u001b[0;34m,\u001b[0m \u001b[0;34m**\u001b[0m\u001b[0mkwargs\u001b[0m\u001b[0;34m)\u001b[0m\u001b[0;34m\u001b[0m\u001b[0;34m\u001b[0m\u001b[0m\n\u001b[0m\u001b[1;32m    225\u001b[0m     \u001b[0;32mexcept\u001b[0m \u001b[0mNotImplementedError\u001b[0m\u001b[0;34m:\u001b[0m\u001b[0;34m\u001b[0m\u001b[0;34m\u001b[0m\u001b[0m\n\u001b[1;32m    226\u001b[0m         \u001b[0;31m# don't warn on NotImplementedErrors\u001b[0m\u001b[0;34m\u001b[0m\u001b[0;34m\u001b[0m\u001b[0m\n",
      "\u001b[0;32m/opt/anaconda3/lib/python3.9/site-packages/IPython/core/formatters.py\u001b[0m in \u001b[0;36m__call__\u001b[0;34m(self, obj)\u001b[0m\n\u001b[1;32m    339\u001b[0m                 \u001b[0;32mpass\u001b[0m\u001b[0;34m\u001b[0m\u001b[0;34m\u001b[0m\u001b[0m\n\u001b[1;32m    340\u001b[0m             \u001b[0;32melse\u001b[0m\u001b[0;34m:\u001b[0m\u001b[0;34m\u001b[0m\u001b[0;34m\u001b[0m\u001b[0m\n\u001b[0;32m--> 341\u001b[0;31m                 \u001b[0;32mreturn\u001b[0m \u001b[0mprinter\u001b[0m\u001b[0;34m(\u001b[0m\u001b[0mobj\u001b[0m\u001b[0;34m)\u001b[0m\u001b[0;34m\u001b[0m\u001b[0;34m\u001b[0m\u001b[0m\n\u001b[0m\u001b[1;32m    342\u001b[0m             \u001b[0;31m# Finally look for special method names\u001b[0m\u001b[0;34m\u001b[0m\u001b[0;34m\u001b[0m\u001b[0m\n\u001b[1;32m    343\u001b[0m             \u001b[0mmethod\u001b[0m \u001b[0;34m=\u001b[0m \u001b[0mget_real_method\u001b[0m\u001b[0;34m(\u001b[0m\u001b[0mobj\u001b[0m\u001b[0;34m,\u001b[0m \u001b[0mself\u001b[0m\u001b[0;34m.\u001b[0m\u001b[0mprint_method\u001b[0m\u001b[0;34m)\u001b[0m\u001b[0;34m\u001b[0m\u001b[0;34m\u001b[0m\u001b[0m\n",
      "\u001b[0;32m/opt/anaconda3/lib/python3.9/site-packages/IPython/core/pylabtools.py\u001b[0m in \u001b[0;36mprint_figure\u001b[0;34m(fig, fmt, bbox_inches, base64, **kwargs)\u001b[0m\n\u001b[1;32m    149\u001b[0m         \u001b[0mFigureCanvasBase\u001b[0m\u001b[0;34m(\u001b[0m\u001b[0mfig\u001b[0m\u001b[0;34m)\u001b[0m\u001b[0;34m\u001b[0m\u001b[0;34m\u001b[0m\u001b[0m\n\u001b[1;32m    150\u001b[0m \u001b[0;34m\u001b[0m\u001b[0m\n\u001b[0;32m--> 151\u001b[0;31m     \u001b[0mfig\u001b[0m\u001b[0;34m.\u001b[0m\u001b[0mcanvas\u001b[0m\u001b[0;34m.\u001b[0m\u001b[0mprint_figure\u001b[0m\u001b[0;34m(\u001b[0m\u001b[0mbytes_io\u001b[0m\u001b[0;34m,\u001b[0m \u001b[0;34m**\u001b[0m\u001b[0mkw\u001b[0m\u001b[0;34m)\u001b[0m\u001b[0;34m\u001b[0m\u001b[0;34m\u001b[0m\u001b[0m\n\u001b[0m\u001b[1;32m    152\u001b[0m     \u001b[0mdata\u001b[0m \u001b[0;34m=\u001b[0m \u001b[0mbytes_io\u001b[0m\u001b[0;34m.\u001b[0m\u001b[0mgetvalue\u001b[0m\u001b[0;34m(\u001b[0m\u001b[0;34m)\u001b[0m\u001b[0;34m\u001b[0m\u001b[0;34m\u001b[0m\u001b[0m\n\u001b[1;32m    153\u001b[0m     \u001b[0;32mif\u001b[0m \u001b[0mfmt\u001b[0m \u001b[0;34m==\u001b[0m \u001b[0;34m'svg'\u001b[0m\u001b[0;34m:\u001b[0m\u001b[0;34m\u001b[0m\u001b[0;34m\u001b[0m\u001b[0m\n",
      "\u001b[0;32m/opt/anaconda3/lib/python3.9/site-packages/matplotlib/backend_bases.py\u001b[0m in \u001b[0;36mprint_figure\u001b[0;34m(self, filename, dpi, facecolor, edgecolor, orientation, format, bbox_inches, pad_inches, bbox_extra_artists, backend, **kwargs)\u001b[0m\n\u001b[1;32m   2292\u001b[0m             \u001b[0;32mif\u001b[0m \u001b[0mbbox_inches\u001b[0m\u001b[0;34m:\u001b[0m\u001b[0;34m\u001b[0m\u001b[0;34m\u001b[0m\u001b[0m\n\u001b[1;32m   2293\u001b[0m                 \u001b[0;32mif\u001b[0m \u001b[0mbbox_inches\u001b[0m \u001b[0;34m==\u001b[0m \u001b[0;34m\"tight\"\u001b[0m\u001b[0;34m:\u001b[0m\u001b[0;34m\u001b[0m\u001b[0;34m\u001b[0m\u001b[0m\n\u001b[0;32m-> 2294\u001b[0;31m                     bbox_inches = self.figure.get_tightbbox(\n\u001b[0m\u001b[1;32m   2295\u001b[0m                         renderer, bbox_extra_artists=bbox_extra_artists)\n\u001b[1;32m   2296\u001b[0m                     \u001b[0;32mif\u001b[0m \u001b[0mpad_inches\u001b[0m \u001b[0;32mis\u001b[0m \u001b[0;32mNone\u001b[0m\u001b[0;34m:\u001b[0m\u001b[0;34m\u001b[0m\u001b[0;34m\u001b[0m\u001b[0m\n",
      "\u001b[0;32m/opt/anaconda3/lib/python3.9/site-packages/matplotlib/figure.py\u001b[0m in \u001b[0;36mget_tightbbox\u001b[0;34m(self, renderer, bbox_extra_artists)\u001b[0m\n\u001b[1;32m   1635\u001b[0m                 \u001b[0;31m# need this conditional....\u001b[0m\u001b[0;34m\u001b[0m\u001b[0;34m\u001b[0m\u001b[0m\n\u001b[1;32m   1636\u001b[0m                 \u001b[0;32mtry\u001b[0m\u001b[0;34m:\u001b[0m\u001b[0;34m\u001b[0m\u001b[0;34m\u001b[0m\u001b[0m\n\u001b[0;32m-> 1637\u001b[0;31m                     bbox = ax.get_tightbbox(\n\u001b[0m\u001b[1;32m   1638\u001b[0m                         renderer, bbox_extra_artists=bbox_extra_artists)\n\u001b[1;32m   1639\u001b[0m                 \u001b[0;32mexcept\u001b[0m \u001b[0mTypeError\u001b[0m\u001b[0;34m:\u001b[0m\u001b[0;34m\u001b[0m\u001b[0;34m\u001b[0m\u001b[0m\n",
      "\u001b[0;32m/opt/anaconda3/lib/python3.9/site-packages/matplotlib/axes/_base.py\u001b[0m in \u001b[0;36mget_tightbbox\u001b[0;34m(self, renderer, call_axes_locator, bbox_extra_artists, for_layout_only)\u001b[0m\n\u001b[1;32m   4609\u001b[0m             \u001b[0;32mif\u001b[0m \u001b[0mself\u001b[0m\u001b[0;34m.\u001b[0m\u001b[0mxaxis\u001b[0m\u001b[0;34m.\u001b[0m\u001b[0mget_visible\u001b[0m\u001b[0;34m(\u001b[0m\u001b[0;34m)\u001b[0m\u001b[0;34m:\u001b[0m\u001b[0;34m\u001b[0m\u001b[0;34m\u001b[0m\u001b[0m\n\u001b[1;32m   4610\u001b[0m                 \u001b[0;32mtry\u001b[0m\u001b[0;34m:\u001b[0m\u001b[0;34m\u001b[0m\u001b[0;34m\u001b[0m\u001b[0m\n\u001b[0;32m-> 4611\u001b[0;31m                     bb_xaxis = self.xaxis.get_tightbbox(\n\u001b[0m\u001b[1;32m   4612\u001b[0m                         renderer, for_layout_only=for_layout_only)\n\u001b[1;32m   4613\u001b[0m                 \u001b[0;32mexcept\u001b[0m \u001b[0mTypeError\u001b[0m\u001b[0;34m:\u001b[0m\u001b[0;34m\u001b[0m\u001b[0;34m\u001b[0m\u001b[0m\n",
      "\u001b[0;32m/opt/anaconda3/lib/python3.9/site-packages/matplotlib/axis.py\u001b[0m in \u001b[0;36mget_tightbbox\u001b[0;34m(self, renderer, for_layout_only)\u001b[0m\n\u001b[1;32m   1136\u001b[0m                   if 0 < b.width < np.inf and 0 < b.height < np.inf]\n\u001b[1;32m   1137\u001b[0m         \u001b[0;32mif\u001b[0m \u001b[0mbboxes\u001b[0m\u001b[0;34m:\u001b[0m\u001b[0;34m\u001b[0m\u001b[0;34m\u001b[0m\u001b[0m\n\u001b[0;32m-> 1138\u001b[0;31m             \u001b[0;32mreturn\u001b[0m \u001b[0mmtransforms\u001b[0m\u001b[0;34m.\u001b[0m\u001b[0mBbox\u001b[0m\u001b[0;34m.\u001b[0m\u001b[0munion\u001b[0m\u001b[0;34m(\u001b[0m\u001b[0mbboxes\u001b[0m\u001b[0;34m)\u001b[0m\u001b[0;34m\u001b[0m\u001b[0;34m\u001b[0m\u001b[0m\n\u001b[0m\u001b[1;32m   1139\u001b[0m         \u001b[0;32melse\u001b[0m\u001b[0;34m:\u001b[0m\u001b[0;34m\u001b[0m\u001b[0;34m\u001b[0m\u001b[0m\n\u001b[1;32m   1140\u001b[0m             \u001b[0;32mreturn\u001b[0m \u001b[0;32mNone\u001b[0m\u001b[0;34m\u001b[0m\u001b[0;34m\u001b[0m\u001b[0m\n",
      "\u001b[0;32m/opt/anaconda3/lib/python3.9/site-packages/matplotlib/transforms.py\u001b[0m in \u001b[0;36munion\u001b[0;34m(bboxes)\u001b[0m\n\u001b[1;32m    667\u001b[0m         \u001b[0mx0\u001b[0m \u001b[0;34m=\u001b[0m \u001b[0mnp\u001b[0m\u001b[0;34m.\u001b[0m\u001b[0mmin\u001b[0m\u001b[0;34m(\u001b[0m\u001b[0;34m[\u001b[0m\u001b[0mbbox\u001b[0m\u001b[0;34m.\u001b[0m\u001b[0mxmin\u001b[0m \u001b[0;32mfor\u001b[0m \u001b[0mbbox\u001b[0m \u001b[0;32min\u001b[0m \u001b[0mbboxes\u001b[0m\u001b[0;34m]\u001b[0m\u001b[0;34m)\u001b[0m\u001b[0;34m\u001b[0m\u001b[0;34m\u001b[0m\u001b[0m\n\u001b[1;32m    668\u001b[0m         \u001b[0mx1\u001b[0m \u001b[0;34m=\u001b[0m \u001b[0mnp\u001b[0m\u001b[0;34m.\u001b[0m\u001b[0mmax\u001b[0m\u001b[0;34m(\u001b[0m\u001b[0;34m[\u001b[0m\u001b[0mbbox\u001b[0m\u001b[0;34m.\u001b[0m\u001b[0mxmax\u001b[0m \u001b[0;32mfor\u001b[0m \u001b[0mbbox\u001b[0m \u001b[0;32min\u001b[0m \u001b[0mbboxes\u001b[0m\u001b[0;34m]\u001b[0m\u001b[0;34m)\u001b[0m\u001b[0;34m\u001b[0m\u001b[0;34m\u001b[0m\u001b[0m\n\u001b[0;32m--> 669\u001b[0;31m         \u001b[0my0\u001b[0m \u001b[0;34m=\u001b[0m \u001b[0mnp\u001b[0m\u001b[0;34m.\u001b[0m\u001b[0mmin\u001b[0m\u001b[0;34m(\u001b[0m\u001b[0;34m[\u001b[0m\u001b[0mbbox\u001b[0m\u001b[0;34m.\u001b[0m\u001b[0mymin\u001b[0m \u001b[0;32mfor\u001b[0m \u001b[0mbbox\u001b[0m \u001b[0;32min\u001b[0m \u001b[0mbboxes\u001b[0m\u001b[0;34m]\u001b[0m\u001b[0;34m)\u001b[0m\u001b[0;34m\u001b[0m\u001b[0;34m\u001b[0m\u001b[0m\n\u001b[0m\u001b[1;32m    670\u001b[0m         \u001b[0my1\u001b[0m \u001b[0;34m=\u001b[0m \u001b[0mnp\u001b[0m\u001b[0;34m.\u001b[0m\u001b[0mmax\u001b[0m\u001b[0;34m(\u001b[0m\u001b[0;34m[\u001b[0m\u001b[0mbbox\u001b[0m\u001b[0;34m.\u001b[0m\u001b[0mymax\u001b[0m \u001b[0;32mfor\u001b[0m \u001b[0mbbox\u001b[0m \u001b[0;32min\u001b[0m \u001b[0mbboxes\u001b[0m\u001b[0;34m]\u001b[0m\u001b[0;34m)\u001b[0m\u001b[0;34m\u001b[0m\u001b[0;34m\u001b[0m\u001b[0m\n\u001b[1;32m    671\u001b[0m         \u001b[0;32mreturn\u001b[0m \u001b[0mBbox\u001b[0m\u001b[0;34m(\u001b[0m\u001b[0;34m[\u001b[0m\u001b[0;34m[\u001b[0m\u001b[0mx0\u001b[0m\u001b[0;34m,\u001b[0m \u001b[0my0\u001b[0m\u001b[0;34m]\u001b[0m\u001b[0;34m,\u001b[0m \u001b[0;34m[\u001b[0m\u001b[0mx1\u001b[0m\u001b[0;34m,\u001b[0m \u001b[0my1\u001b[0m\u001b[0;34m]\u001b[0m\u001b[0;34m]\u001b[0m\u001b[0;34m)\u001b[0m\u001b[0;34m\u001b[0m\u001b[0;34m\u001b[0m\u001b[0m\n",
      "\u001b[0;32m/opt/anaconda3/lib/python3.9/site-packages/numpy/core/overrides.py\u001b[0m in \u001b[0;36mamin\u001b[0;34m(*args, **kwargs)\u001b[0m\n",
      "\u001b[0;32m/opt/anaconda3/lib/python3.9/site-packages/numpy/core/fromnumeric.py\u001b[0m in \u001b[0;36mamin\u001b[0;34m(a, axis, out, keepdims, initial, where)\u001b[0m\n\u001b[1;32m   2916\u001b[0m     \u001b[0;36m6\u001b[0m\u001b[0;34m\u001b[0m\u001b[0;34m\u001b[0m\u001b[0m\n\u001b[1;32m   2917\u001b[0m     \"\"\"\n\u001b[0;32m-> 2918\u001b[0;31m     return _wrapreduction(a, np.minimum, 'min', axis, None, out,\n\u001b[0m\u001b[1;32m   2919\u001b[0m                           keepdims=keepdims, initial=initial, where=where)\n\u001b[1;32m   2920\u001b[0m \u001b[0;34m\u001b[0m\u001b[0m\n",
      "\u001b[0;32m/opt/anaconda3/lib/python3.9/site-packages/numpy/core/fromnumeric.py\u001b[0m in \u001b[0;36m_wrapreduction\u001b[0;34m(obj, ufunc, method, axis, dtype, out, **kwargs)\u001b[0m\n\u001b[1;32m     84\u001b[0m                 \u001b[0;32mreturn\u001b[0m \u001b[0mreduction\u001b[0m\u001b[0;34m(\u001b[0m\u001b[0maxis\u001b[0m\u001b[0;34m=\u001b[0m\u001b[0maxis\u001b[0m\u001b[0;34m,\u001b[0m \u001b[0mout\u001b[0m\u001b[0;34m=\u001b[0m\u001b[0mout\u001b[0m\u001b[0;34m,\u001b[0m \u001b[0;34m**\u001b[0m\u001b[0mpasskwargs\u001b[0m\u001b[0;34m)\u001b[0m\u001b[0;34m\u001b[0m\u001b[0;34m\u001b[0m\u001b[0m\n\u001b[1;32m     85\u001b[0m \u001b[0;34m\u001b[0m\u001b[0m\n\u001b[0;32m---> 86\u001b[0;31m     \u001b[0;32mreturn\u001b[0m \u001b[0mufunc\u001b[0m\u001b[0;34m.\u001b[0m\u001b[0mreduce\u001b[0m\u001b[0;34m(\u001b[0m\u001b[0mobj\u001b[0m\u001b[0;34m,\u001b[0m \u001b[0maxis\u001b[0m\u001b[0;34m,\u001b[0m \u001b[0mdtype\u001b[0m\u001b[0;34m,\u001b[0m \u001b[0mout\u001b[0m\u001b[0;34m,\u001b[0m \u001b[0;34m**\u001b[0m\u001b[0mpasskwargs\u001b[0m\u001b[0;34m)\u001b[0m\u001b[0;34m\u001b[0m\u001b[0;34m\u001b[0m\u001b[0m\n\u001b[0m\u001b[1;32m     87\u001b[0m \u001b[0;34m\u001b[0m\u001b[0m\n\u001b[1;32m     88\u001b[0m \u001b[0;34m\u001b[0m\u001b[0m\n",
      "\u001b[0;31mKeyboardInterrupt\u001b[0m: "
     ]
    }
   ],
   "source": [
    "BINS = int(np.sqrt(len(df_limpo.index)))\n",
    "#Plotando histogramas das variáveis quantitativas individualmente para ver seu espaçamento e frequência\n",
    "df_limpo.hist(bins=BINS, figsize=(15,10));"
   ]
  },
  {
   "cell_type": "markdown",
   "id": "e4ae8713",
   "metadata": {},
   "source": [
    "-----"
   ]
  },
  {
   "cell_type": "markdown",
   "id": "283189e1",
   "metadata": {},
   "source": [
    "# Definindo a persona"
   ]
  },
  {
   "cell_type": "code",
   "execution_count": 1283,
   "id": "582b065b",
   "metadata": {},
   "outputs": [],
   "source": [
    "df_limpo[\"P2\"] = df_limpo[\"P2\"].replace([1,2,3,4,5,6,7,8],[\"Visitar_amigos\",\"Visitar_familia\",\"Lazer\",\"Pesquisa_Científica\",\"Trabalho\", \"Viagem_gastronômica\",\"Desconectar\",\"Não_viajei\"])\n",
    "df_limpo[\"Qesc\"] = df_limpo[\"Qesc\"].replace([1,2,3,4,5,6],[\"EF_incompleto\",\"EF_completo\",\"EM_incompleto\",\"EM_completo\",\"ES_incompleto\", \"ES_completo\"])\n",
    "df_limpo[\"Qciv\"] = df_limpo[\"Qciv\"].replace([1,2,3,4,5],[\"Solteiro\",\"Casado\",\"Separado\",\"Divorciado\",\"Viúvo\"])\n",
    "df_limpo[\"Qocup\"] = df_limpo[\"Qocup\"].replace([1,2,3,4,5,6],[\"Meio_tempo\",\"Tempo_integral\",\"Desempregado\",\"Autonomo\",\"Estudante\", \"Aposentado\"])\n",
    "df_limpo[\"Qid\"] = df_limpo[\"Qid\"].replace([1,2,3,4,5,6],[\"-18\",\"18-24\",\"25-34\",\"35-44\",\"45-54\", \"55+\"])\n",
    "df_limpo[\"Qgen\"] = df_limpo[\"Qgen\"].replace([1,2],[\"Masculino\",\"Feminino\"])\n",
    "df_limpo[\"Qreg\"] = df_limpo[\"Qreg\"].replace([1,2,3,4,5],[\"Sudeste\",\"Sul\",\"Centro_Oeste\",\"Nordeste\",\"Norte\"])\n",
    "                              \n",
    "                                                                           "
   ]
  },
  {
   "cell_type": "code",
   "execution_count": 1284,
   "id": "b6e90664",
   "metadata": {},
   "outputs": [
    {
     "name": "stdout",
     "output_type": "stream",
     "text": [
      "<class 'pandas.core.frame.DataFrame'>\n",
      "Int64Index: 962 entries, 0 to 1266\n",
      "Data columns (total 70 columns):\n",
      " #   Column    Non-Null Count  Dtype  \n",
      "---  ------    --------------  -----  \n",
      " 0   P1        962 non-null    float64\n",
      " 1   P2        962 non-null    object \n",
      " 2   P3        962 non-null    float64\n",
      " 3   P4        962 non-null    float64\n",
      " 4   P5        962 non-null    float64\n",
      " 5   P6        962 non-null    float64\n",
      " 6   P7        962 non-null    float64\n",
      " 7   P8        962 non-null    float64\n",
      " 8   P9        962 non-null    float64\n",
      " 9   P10       962 non-null    float64\n",
      " 10  P11       962 non-null    float64\n",
      " 11  P12       962 non-null    float64\n",
      " 12  P13       962 non-null    float64\n",
      " 13  P14       962 non-null    float64\n",
      " 14  P15       962 non-null    float64\n",
      " 15  P16       962 non-null    float64\n",
      " 16  P17       962 non-null    float64\n",
      " 17  P18       962 non-null    float64\n",
      " 18  P19       962 non-null    float64\n",
      " 19  P20       962 non-null    float64\n",
      " 20  P21       962 non-null    float64\n",
      " 21  P22       962 non-null    float64\n",
      " 22  P23       962 non-null    float64\n",
      " 23  P24       962 non-null    float64\n",
      " 24  P25       962 non-null    float64\n",
      " 25  P26       962 non-null    float64\n",
      " 26  P27       962 non-null    float64\n",
      " 27  P28       962 non-null    float64\n",
      " 28  P29       962 non-null    float64\n",
      " 29  P30       962 non-null    float64\n",
      " 30  P31       962 non-null    float64\n",
      " 31  P32       962 non-null    float64\n",
      " 32  P33       962 non-null    float64\n",
      " 33  P34       962 non-null    float64\n",
      " 34  P35       962 non-null    float64\n",
      " 35  P36       962 non-null    float64\n",
      " 36  P37       962 non-null    float64\n",
      " 37  P38       962 non-null    float64\n",
      " 38  P39       962 non-null    float64\n",
      " 39  P40       962 non-null    float64\n",
      " 40  P41       962 non-null    float64\n",
      " 41  P42       962 non-null    float64\n",
      " 42  P43       962 non-null    float64\n",
      " 43  P44       962 non-null    float64\n",
      " 44  P45       962 non-null    float64\n",
      " 45  P46       962 non-null    float64\n",
      " 46  P47       962 non-null    float64\n",
      " 47  P48       962 non-null    float64\n",
      " 48  P49       962 non-null    float64\n",
      " 49  P50       962 non-null    float64\n",
      " 50  P51       962 non-null    float64\n",
      " 51  P52       962 non-null    float64\n",
      " 52  P53       962 non-null    float64\n",
      " 53  P54       962 non-null    float64\n",
      " 54  P55       962 non-null    float64\n",
      " 55  P56       962 non-null    float64\n",
      " 56  P57       962 non-null    float64\n",
      " 57  P58       962 non-null    float64\n",
      " 58  Qesc      962 non-null    object \n",
      " 59  Qciv      962 non-null    object \n",
      " 60  Qnat      962 non-null    float64\n",
      " 61  Qtipcama  962 non-null    object \n",
      " 62  Qcama     962 non-null    float64\n",
      " 63  Qest      962 non-null    float64\n",
      " 64  Qche      962 non-null    object \n",
      " 65  Qocup     962 non-null    object \n",
      " 66  Qid       962 non-null    object \n",
      " 67  Qgen      962 non-null    object \n",
      " 68  Qreg      962 non-null    object \n",
      " 69  Qclasse   962 non-null    object \n",
      "dtypes: float64(60), object(10)\n",
      "memory usage: 533.6+ KB\n"
     ]
    }
   ],
   "source": [
    "df_limpo[\"P2\"] = df_limpo[\"P2\"].astype(object)\n",
    "df_limpo[\"P5\"] = df_limpo[\"P5\"].astype(float)\n",
    "df_limpo[\"P7\"] = df_limpo[\"P7\"].astype(float)\n",
    "df_limpo[\"P9\"] = df_limpo[\"P9\"].astype(float)\n",
    "df_limpo[\"P12\"] = df_limpo[\"P12\"].astype(float)\n",
    "df_limpo[\"P18\"] = df_limpo[\"P18\"].astype(float)\n",
    "df_limpo[\"P19\"] = df_limpo[\"P19\"].astype(float)\n",
    "df_limpo[\"P20\"] = df_limpo[\"P20\"].astype(float)\n",
    "df_limpo[\"P21\"] = df_limpo[\"P21\"].astype(float)\n",
    "df_limpo[\"P22\"] = df_limpo[\"P22\"].astype(float)\n",
    "df_limpo[\"P23\"] = df_limpo[\"P23\"].astype(float)\n",
    "df_limpo[\"Qesc\"] = df_limpo[\"Qesc\"].astype(object)\n",
    "df_limpo[\"Qocup\"] = df_limpo[\"Qocup\"].astype(object)\n",
    "df_limpo[\"Qciv\"] = df_limpo[\"Qciv\"].astype(object)\n",
    "df_limpo.info()"
   ]
  },
  {
   "cell_type": "code",
   "execution_count": 1285,
   "id": "c12be42c",
   "metadata": {},
   "outputs": [
    {
     "data": {
      "text/plain": [
       "1.0    437\n",
       "2.0    300\n",
       "4.0    183\n",
       "3.0     29\n",
       "0.0     13\n",
       "Name: P1, dtype: int64"
      ]
     },
     "execution_count": 1285,
     "metadata": {},
     "output_type": "execute_result"
    }
   ],
   "source": [
    "df_limpo[\"P1\"] = df_limpo[\"P1\"].replace([5.0],[0])\n",
    "df_limpo[\"P1\"].value_counts()"
   ]
  },
  {
   "cell_type": "code",
   "execution_count": 1286,
   "id": "adbfd446",
   "metadata": {},
   "outputs": [
    {
     "data": {
      "text/plain": [
       "4.0     244\n",
       "6.0     208\n",
       "3.0     175\n",
       "8.0     169\n",
       "12.0    130\n",
       "2.0      14\n",
       "0.0      13\n",
       "9.0       5\n",
       "16.0      3\n",
       "1.0       1\n",
       "Name: Qdias, dtype: int64"
      ]
     },
     "execution_count": 1286,
     "metadata": {},
     "output_type": "execute_result"
    }
   ],
   "source": [
    "df_limpo[\"Qdias\"] = df_limpo[\"P1\"]* df_limpo[\"Qest\"]\n",
    "df_limpo[\"Qdias\"].value_counts() "
   ]
  },
  {
   "cell_type": "code",
   "execution_count": 1287,
   "id": "858dd30e",
   "metadata": {},
   "outputs": [
    {
     "data": {
      "text/plain": [
       "Casado        462\n",
       "Divorciado    187\n",
       "Viúvo         134\n",
       "Solteiro      134\n",
       "Separado       45\n",
       "Name: Qciv, dtype: int64"
      ]
     },
     "execution_count": 1287,
     "metadata": {},
     "output_type": "execute_result"
    }
   ],
   "source": [
    "df_limpo[\"Qciv\"].value_counts()"
   ]
  },
  {
   "cell_type": "code",
   "execution_count": 1288,
   "id": "9ac2dfdd",
   "metadata": {},
   "outputs": [
    {
     "data": {
      "text/plain": [
       "6.0    237\n",
       "4.0    213\n",
       "7.0    180\n",
       "3.0    109\n",
       "5.0    102\n",
       "1.0     64\n",
       "2.0     57\n",
       "Name: P57, dtype: int64"
      ]
     },
     "execution_count": 1288,
     "metadata": {},
     "output_type": "execute_result"
    }
   ],
   "source": [
    "df_limpo[\"P57\"].value_counts()"
   ]
  },
  {
   "cell_type": "code",
   "execution_count": 1289,
   "id": "c3fd40e4",
   "metadata": {},
   "outputs": [
    {
     "data": {
      "text/plain": [
       "1.0    148\n",
       "3.0    145\n",
       "4.0    142\n",
       "6.0    140\n",
       "2.0    136\n",
       "5.0    127\n",
       "7.0    124\n",
       "Name: P58, dtype: int64"
      ]
     },
     "execution_count": 1289,
     "metadata": {},
     "output_type": "execute_result"
    }
   ],
   "source": [
    "df_limpo[\"P58\"].value_counts()"
   ]
  },
  {
   "cell_type": "markdown",
   "id": "b0dd0a63",
   "metadata": {},
   "source": [
    "# Variavel qualitativa para quantitativa"
   ]
  },
  {
   "cell_type": "code",
   "execution_count": 1290,
   "id": "98da46dd",
   "metadata": {},
   "outputs": [
    {
     "data": {
      "text/html": [
       "<div>\n",
       "<style scoped>\n",
       "    .dataframe tbody tr th:only-of-type {\n",
       "        vertical-align: middle;\n",
       "    }\n",
       "\n",
       "    .dataframe tbody tr th {\n",
       "        vertical-align: top;\n",
       "    }\n",
       "\n",
       "    .dataframe thead th {\n",
       "        text-align: right;\n",
       "    }\n",
       "</style>\n",
       "<table border=\"1\" class=\"dataframe\">\n",
       "  <thead>\n",
       "    <tr style=\"text-align: right;\">\n",
       "      <th></th>\n",
       "      <th>onehotencoder__x0_Desconectar</th>\n",
       "      <th>onehotencoder__x0_Lazer</th>\n",
       "      <th>onehotencoder__x0_Pesquisa_Científica</th>\n",
       "      <th>onehotencoder__x0_Trabalho</th>\n",
       "      <th>onehotencoder__x0_Viagem_gastronômica</th>\n",
       "      <th>onehotencoder__x0_Visitar_amigos</th>\n",
       "      <th>onehotencoder__x0_Visitar_familia</th>\n",
       "      <th>onehotencoder__x1_EF_completo</th>\n",
       "      <th>onehotencoder__x1_EF_incompleto</th>\n",
       "      <th>onehotencoder__x1_EM_completo</th>\n",
       "      <th>...</th>\n",
       "      <th>P53</th>\n",
       "      <th>P54</th>\n",
       "      <th>P55</th>\n",
       "      <th>P56</th>\n",
       "      <th>P57</th>\n",
       "      <th>P58</th>\n",
       "      <th>Qnat</th>\n",
       "      <th>Qcama</th>\n",
       "      <th>Qest</th>\n",
       "      <th>Qdias</th>\n",
       "    </tr>\n",
       "  </thead>\n",
       "  <tbody>\n",
       "    <tr>\n",
       "      <th>0</th>\n",
       "      <td>1.0</td>\n",
       "      <td>0.0</td>\n",
       "      <td>0.0</td>\n",
       "      <td>0.0</td>\n",
       "      <td>0.0</td>\n",
       "      <td>0.0</td>\n",
       "      <td>0.0</td>\n",
       "      <td>0.0</td>\n",
       "      <td>0.0</td>\n",
       "      <td>0.0</td>\n",
       "      <td>...</td>\n",
       "      <td>5.0</td>\n",
       "      <td>4.0</td>\n",
       "      <td>1.0</td>\n",
       "      <td>2.0</td>\n",
       "      <td>5.0</td>\n",
       "      <td>5.0</td>\n",
       "      <td>1.0</td>\n",
       "      <td>1.0</td>\n",
       "      <td>4.0</td>\n",
       "      <td>8.0</td>\n",
       "    </tr>\n",
       "    <tr>\n",
       "      <th>1</th>\n",
       "      <td>0.0</td>\n",
       "      <td>0.0</td>\n",
       "      <td>0.0</td>\n",
       "      <td>0.0</td>\n",
       "      <td>0.0</td>\n",
       "      <td>0.0</td>\n",
       "      <td>1.0</td>\n",
       "      <td>1.0</td>\n",
       "      <td>0.0</td>\n",
       "      <td>0.0</td>\n",
       "      <td>...</td>\n",
       "      <td>3.0</td>\n",
       "      <td>4.0</td>\n",
       "      <td>3.0</td>\n",
       "      <td>2.0</td>\n",
       "      <td>2.0</td>\n",
       "      <td>1.0</td>\n",
       "      <td>2.0</td>\n",
       "      <td>1.0</td>\n",
       "      <td>1.0</td>\n",
       "      <td>3.0</td>\n",
       "    </tr>\n",
       "    <tr>\n",
       "      <th>2</th>\n",
       "      <td>1.0</td>\n",
       "      <td>0.0</td>\n",
       "      <td>0.0</td>\n",
       "      <td>0.0</td>\n",
       "      <td>0.0</td>\n",
       "      <td>0.0</td>\n",
       "      <td>0.0</td>\n",
       "      <td>0.0</td>\n",
       "      <td>0.0</td>\n",
       "      <td>0.0</td>\n",
       "      <td>...</td>\n",
       "      <td>1.0</td>\n",
       "      <td>7.0</td>\n",
       "      <td>6.0</td>\n",
       "      <td>7.0</td>\n",
       "      <td>5.0</td>\n",
       "      <td>7.0</td>\n",
       "      <td>1.0</td>\n",
       "      <td>1.0</td>\n",
       "      <td>3.0</td>\n",
       "      <td>3.0</td>\n",
       "    </tr>\n",
       "    <tr>\n",
       "      <th>3</th>\n",
       "      <td>0.0</td>\n",
       "      <td>1.0</td>\n",
       "      <td>0.0</td>\n",
       "      <td>0.0</td>\n",
       "      <td>0.0</td>\n",
       "      <td>0.0</td>\n",
       "      <td>0.0</td>\n",
       "      <td>0.0</td>\n",
       "      <td>0.0</td>\n",
       "      <td>0.0</td>\n",
       "      <td>...</td>\n",
       "      <td>6.0</td>\n",
       "      <td>5.0</td>\n",
       "      <td>4.0</td>\n",
       "      <td>2.0</td>\n",
       "      <td>6.0</td>\n",
       "      <td>4.0</td>\n",
       "      <td>3.0</td>\n",
       "      <td>1.0</td>\n",
       "      <td>6.0</td>\n",
       "      <td>6.0</td>\n",
       "    </tr>\n",
       "    <tr>\n",
       "      <th>4</th>\n",
       "      <td>1.0</td>\n",
       "      <td>0.0</td>\n",
       "      <td>0.0</td>\n",
       "      <td>0.0</td>\n",
       "      <td>0.0</td>\n",
       "      <td>0.0</td>\n",
       "      <td>0.0</td>\n",
       "      <td>0.0</td>\n",
       "      <td>0.0</td>\n",
       "      <td>0.0</td>\n",
       "      <td>...</td>\n",
       "      <td>1.0</td>\n",
       "      <td>5.0</td>\n",
       "      <td>2.0</td>\n",
       "      <td>3.0</td>\n",
       "      <td>2.0</td>\n",
       "      <td>5.0</td>\n",
       "      <td>2.0</td>\n",
       "      <td>1.0</td>\n",
       "      <td>4.0</td>\n",
       "      <td>8.0</td>\n",
       "    </tr>\n",
       "    <tr>\n",
       "      <th>...</th>\n",
       "      <td>...</td>\n",
       "      <td>...</td>\n",
       "      <td>...</td>\n",
       "      <td>...</td>\n",
       "      <td>...</td>\n",
       "      <td>...</td>\n",
       "      <td>...</td>\n",
       "      <td>...</td>\n",
       "      <td>...</td>\n",
       "      <td>...</td>\n",
       "      <td>...</td>\n",
       "      <td>...</td>\n",
       "      <td>...</td>\n",
       "      <td>...</td>\n",
       "      <td>...</td>\n",
       "      <td>...</td>\n",
       "      <td>...</td>\n",
       "      <td>...</td>\n",
       "      <td>...</td>\n",
       "      <td>...</td>\n",
       "      <td>...</td>\n",
       "    </tr>\n",
       "    <tr>\n",
       "      <th>957</th>\n",
       "      <td>0.0</td>\n",
       "      <td>1.0</td>\n",
       "      <td>0.0</td>\n",
       "      <td>0.0</td>\n",
       "      <td>0.0</td>\n",
       "      <td>0.0</td>\n",
       "      <td>0.0</td>\n",
       "      <td>0.0</td>\n",
       "      <td>0.0</td>\n",
       "      <td>0.0</td>\n",
       "      <td>...</td>\n",
       "      <td>4.0</td>\n",
       "      <td>2.0</td>\n",
       "      <td>1.0</td>\n",
       "      <td>4.0</td>\n",
       "      <td>4.0</td>\n",
       "      <td>1.0</td>\n",
       "      <td>2.0</td>\n",
       "      <td>1.0</td>\n",
       "      <td>4.0</td>\n",
       "      <td>8.0</td>\n",
       "    </tr>\n",
       "    <tr>\n",
       "      <th>958</th>\n",
       "      <td>0.0</td>\n",
       "      <td>0.0</td>\n",
       "      <td>0.0</td>\n",
       "      <td>1.0</td>\n",
       "      <td>0.0</td>\n",
       "      <td>0.0</td>\n",
       "      <td>0.0</td>\n",
       "      <td>0.0</td>\n",
       "      <td>0.0</td>\n",
       "      <td>0.0</td>\n",
       "      <td>...</td>\n",
       "      <td>5.0</td>\n",
       "      <td>7.0</td>\n",
       "      <td>5.0</td>\n",
       "      <td>1.0</td>\n",
       "      <td>4.0</td>\n",
       "      <td>7.0</td>\n",
       "      <td>3.0</td>\n",
       "      <td>6.0</td>\n",
       "      <td>2.0</td>\n",
       "      <td>6.0</td>\n",
       "    </tr>\n",
       "    <tr>\n",
       "      <th>959</th>\n",
       "      <td>0.0</td>\n",
       "      <td>1.0</td>\n",
       "      <td>0.0</td>\n",
       "      <td>0.0</td>\n",
       "      <td>0.0</td>\n",
       "      <td>0.0</td>\n",
       "      <td>0.0</td>\n",
       "      <td>1.0</td>\n",
       "      <td>0.0</td>\n",
       "      <td>0.0</td>\n",
       "      <td>...</td>\n",
       "      <td>1.0</td>\n",
       "      <td>5.0</td>\n",
       "      <td>6.0</td>\n",
       "      <td>1.0</td>\n",
       "      <td>7.0</td>\n",
       "      <td>4.0</td>\n",
       "      <td>2.0</td>\n",
       "      <td>2.0</td>\n",
       "      <td>6.0</td>\n",
       "      <td>12.0</td>\n",
       "    </tr>\n",
       "    <tr>\n",
       "      <th>960</th>\n",
       "      <td>1.0</td>\n",
       "      <td>0.0</td>\n",
       "      <td>0.0</td>\n",
       "      <td>0.0</td>\n",
       "      <td>0.0</td>\n",
       "      <td>0.0</td>\n",
       "      <td>0.0</td>\n",
       "      <td>0.0</td>\n",
       "      <td>0.0</td>\n",
       "      <td>0.0</td>\n",
       "      <td>...</td>\n",
       "      <td>1.0</td>\n",
       "      <td>1.0</td>\n",
       "      <td>7.0</td>\n",
       "      <td>5.0</td>\n",
       "      <td>2.0</td>\n",
       "      <td>7.0</td>\n",
       "      <td>1.0</td>\n",
       "      <td>2.0</td>\n",
       "      <td>3.0</td>\n",
       "      <td>6.0</td>\n",
       "    </tr>\n",
       "    <tr>\n",
       "      <th>961</th>\n",
       "      <td>0.0</td>\n",
       "      <td>1.0</td>\n",
       "      <td>0.0</td>\n",
       "      <td>0.0</td>\n",
       "      <td>0.0</td>\n",
       "      <td>0.0</td>\n",
       "      <td>0.0</td>\n",
       "      <td>0.0</td>\n",
       "      <td>0.0</td>\n",
       "      <td>0.0</td>\n",
       "      <td>...</td>\n",
       "      <td>5.0</td>\n",
       "      <td>3.0</td>\n",
       "      <td>6.0</td>\n",
       "      <td>1.0</td>\n",
       "      <td>6.0</td>\n",
       "      <td>7.0</td>\n",
       "      <td>2.0</td>\n",
       "      <td>1.0</td>\n",
       "      <td>3.0</td>\n",
       "      <td>6.0</td>\n",
       "    </tr>\n",
       "  </tbody>\n",
       "</table>\n",
       "<p>962 rows × 111 columns</p>\n",
       "</div>"
      ],
      "text/plain": [
       "     onehotencoder__x0_Desconectar  onehotencoder__x0_Lazer  \\\n",
       "0                              1.0                      0.0   \n",
       "1                              0.0                      0.0   \n",
       "2                              1.0                      0.0   \n",
       "3                              0.0                      1.0   \n",
       "4                              1.0                      0.0   \n",
       "..                             ...                      ...   \n",
       "957                            0.0                      1.0   \n",
       "958                            0.0                      0.0   \n",
       "959                            0.0                      1.0   \n",
       "960                            1.0                      0.0   \n",
       "961                            0.0                      1.0   \n",
       "\n",
       "     onehotencoder__x0_Pesquisa_Científica  onehotencoder__x0_Trabalho  \\\n",
       "0                                      0.0                         0.0   \n",
       "1                                      0.0                         0.0   \n",
       "2                                      0.0                         0.0   \n",
       "3                                      0.0                         0.0   \n",
       "4                                      0.0                         0.0   \n",
       "..                                     ...                         ...   \n",
       "957                                    0.0                         0.0   \n",
       "958                                    0.0                         1.0   \n",
       "959                                    0.0                         0.0   \n",
       "960                                    0.0                         0.0   \n",
       "961                                    0.0                         0.0   \n",
       "\n",
       "     onehotencoder__x0_Viagem_gastronômica  onehotencoder__x0_Visitar_amigos  \\\n",
       "0                                      0.0                               0.0   \n",
       "1                                      0.0                               0.0   \n",
       "2                                      0.0                               0.0   \n",
       "3                                      0.0                               0.0   \n",
       "4                                      0.0                               0.0   \n",
       "..                                     ...                               ...   \n",
       "957                                    0.0                               0.0   \n",
       "958                                    0.0                               0.0   \n",
       "959                                    0.0                               0.0   \n",
       "960                                    0.0                               0.0   \n",
       "961                                    0.0                               0.0   \n",
       "\n",
       "     onehotencoder__x0_Visitar_familia  onehotencoder__x1_EF_completo  \\\n",
       "0                                  0.0                            0.0   \n",
       "1                                  1.0                            1.0   \n",
       "2                                  0.0                            0.0   \n",
       "3                                  0.0                            0.0   \n",
       "4                                  0.0                            0.0   \n",
       "..                                 ...                            ...   \n",
       "957                                0.0                            0.0   \n",
       "958                                0.0                            0.0   \n",
       "959                                0.0                            1.0   \n",
       "960                                0.0                            0.0   \n",
       "961                                0.0                            0.0   \n",
       "\n",
       "     onehotencoder__x1_EF_incompleto  onehotencoder__x1_EM_completo  ...  P53  \\\n",
       "0                                0.0                            0.0  ...  5.0   \n",
       "1                                0.0                            0.0  ...  3.0   \n",
       "2                                0.0                            0.0  ...  1.0   \n",
       "3                                0.0                            0.0  ...  6.0   \n",
       "4                                0.0                            0.0  ...  1.0   \n",
       "..                               ...                            ...  ...  ...   \n",
       "957                              0.0                            0.0  ...  4.0   \n",
       "958                              0.0                            0.0  ...  5.0   \n",
       "959                              0.0                            0.0  ...  1.0   \n",
       "960                              0.0                            0.0  ...  1.0   \n",
       "961                              0.0                            0.0  ...  5.0   \n",
       "\n",
       "     P54  P55  P56  P57  P58  Qnat  Qcama  Qest  Qdias  \n",
       "0    4.0  1.0  2.0  5.0  5.0   1.0    1.0   4.0    8.0  \n",
       "1    4.0  3.0  2.0  2.0  1.0   2.0    1.0   1.0    3.0  \n",
       "2    7.0  6.0  7.0  5.0  7.0   1.0    1.0   3.0    3.0  \n",
       "3    5.0  4.0  2.0  6.0  4.0   3.0    1.0   6.0    6.0  \n",
       "4    5.0  2.0  3.0  2.0  5.0   2.0    1.0   4.0    8.0  \n",
       "..   ...  ...  ...  ...  ...   ...    ...   ...    ...  \n",
       "957  2.0  1.0  4.0  4.0  1.0   2.0    1.0   4.0    8.0  \n",
       "958  7.0  5.0  1.0  4.0  7.0   3.0    6.0   2.0    6.0  \n",
       "959  5.0  6.0  1.0  7.0  4.0   2.0    2.0   6.0   12.0  \n",
       "960  1.0  7.0  5.0  2.0  7.0   1.0    2.0   3.0    6.0  \n",
       "961  3.0  6.0  1.0  6.0  7.0   2.0    1.0   3.0    6.0  \n",
       "\n",
       "[962 rows x 111 columns]"
      ]
     },
     "execution_count": 1290,
     "metadata": {},
     "output_type": "execute_result"
    }
   ],
   "source": [
    "# Importando do sklearn para aplicação do OneHotEncoder\n",
    "from sklearn.preprocessing import OneHotEncoder\n",
    "from sklearn.compose import make_column_transformer\n",
    "#from seaborn import load_dataset\n",
    "\n",
    "\n",
    "\n",
    "\n",
    "transformer = make_column_transformer(\n",
    "    (OneHotEncoder(), ['P2',\"Qesc\",\"Qciv\",\"Qtipcama\",\"Qche\",\"Qocup\",\"Qid\",\"Qgen\",\"Qreg\",\"Qclasse\"]),\n",
    "    remainder='passthrough')\n",
    "#\"Qclasse\n",
    "\n",
    "transformed = transformer.fit_transform(df_limpo)\n",
    "df_to_model = pd.DataFrame(transformed, columns=transformer.get_feature_names())\n",
    "df_to_model"
   ]
  },
  {
   "cell_type": "code",
   "execution_count": 1291,
   "id": "5493686d",
   "metadata": {},
   "outputs": [],
   "source": [
    "y = df_to_model.loc[:,\"P1\"]\n",
    "X = df_to_model.drop([\"Qdias\",\"P1\",\"P4\",\"P5\",\"P6\",\"P7\",\"P8\",\"P9\",\"P10\",\"P11\",\"P12\",\"P13\",\"P14\",\"P15\",\"P16\",\"P17\",\"P18\",\"P19\",\"P20\",\"P21\",\"P22\",\"P23\",\"P24\",\"P26\",\"P27\",\"P28\",\"P29\",\"P30\",\"P32\",\"P33\",\"P34\",\"P35\",\"P36\",\"P37\",\"P38\",\"P39\",\"P40\",\"P41\",\"P42\",\"P43\",\"P44\",\"P45\",\"P46\",\"P47\",\"P48\",\"P49\",\"P50\",\"P51\",\"P52\",\"P53\",\"P54\",\"P55\",\"P56\",\"P57\",\"P58\"], axis=1)"
   ]
  },
  {
   "cell_type": "code",
   "execution_count": 1292,
   "id": "2ef412d6",
   "metadata": {},
   "outputs": [],
   "source": [
    "target = df_to_model[['P1']]\n",
    "df_teste = df_to_model.drop([\"Qdias\",\"P1\",\"P4\",\"P5\",\"P6\",\"P7\",\"P8\",\"P9\",\"P10\",\"P11\",\"P12\",\"P13\",\"P14\",\"P15\",\"P16\",\"P17\",\"P18\",\"P19\",\"P20\",\"P21\",\"P22\",\"P23\",\"P24\",\"P26\",\"P27\",\"P28\",\"P29\",\"P30\",\"P32\",\"P33\",\"P34\",\"P35\",\"P36\",\"P37\",\"P38\",\"P39\",\"P40\",\"P41\",\"P42\",\"P43\",\"P44\",\"P45\",\"P46\",\"P47\",\"P48\",\"P49\",\"P50\",\"P51\",\"P52\",\"P53\",\"P54\",\"P55\",\"P56\",\"P57\",\"P58\"], axis=1)"
   ]
  },
  {
   "cell_type": "markdown",
   "id": "e3bd8021",
   "metadata": {},
   "source": [
    "-------\n",
    "# Aplicando modelo\n",
    "## Utilizando a "
   ]
  },
  {
   "cell_type": "code",
   "execution_count": 1293,
   "id": "16b12a8f",
   "metadata": {},
   "outputs": [],
   "source": [
    "from sklearn.model_selection import train_test_split\n",
    "x_treino, x_val, y_treino, y_val = train_test_split(df_teste,\n",
    "                                                   target,\n",
    "                                                   test_size=0.3,\n",
    "                                                   random_state=42)"
   ]
  },
  {
   "cell_type": "code",
   "execution_count": 1294,
   "id": "b7b08c8a",
   "metadata": {},
   "outputs": [
    {
     "data": {
      "text/plain": [
       "Index(['onehotencoder__x0_Desconectar', 'onehotencoder__x0_Lazer',\n",
       "       'onehotencoder__x0_Pesquisa_Científica', 'onehotencoder__x0_Trabalho',\n",
       "       'onehotencoder__x0_Viagem_gastronômica',\n",
       "       'onehotencoder__x0_Visitar_amigos', 'onehotencoder__x0_Visitar_familia',\n",
       "       'onehotencoder__x1_EF_completo', 'onehotencoder__x1_EF_incompleto',\n",
       "       'onehotencoder__x1_EM_completo', 'onehotencoder__x1_EM_incompleto',\n",
       "       'onehotencoder__x1_ES_completo', 'onehotencoder__x1_ES_incompleto',\n",
       "       'onehotencoder__x2_Casado', 'onehotencoder__x2_Divorciado',\n",
       "       'onehotencoder__x2_Separado', 'onehotencoder__x2_Solteiro',\n",
       "       'onehotencoder__x2_Viúvo', 'onehotencoder__x3_Casado',\n",
       "       'onehotencoder__x3_Solteiro ', 'onehotencoder__x3_Viuvo',\n",
       "       'onehotencoder__x4_Domingo', 'onehotencoder__x4_Quarta-Feira',\n",
       "       'onehotencoder__x4_Quinta-Feira', 'onehotencoder__x4_Segunda-Feira',\n",
       "       'onehotencoder__x4_Sexta-Feira', 'onehotencoder__x4_Sábado',\n",
       "       'onehotencoder__x4_Terça-Feira', 'onehotencoder__x5_Aposentado',\n",
       "       'onehotencoder__x5_Autonomo', 'onehotencoder__x5_Desempregado',\n",
       "       'onehotencoder__x5_Estudante', 'onehotencoder__x5_Meio_tempo',\n",
       "       'onehotencoder__x5_Tempo_integral', 'onehotencoder__x6_-18',\n",
       "       'onehotencoder__x6_18-24', 'onehotencoder__x6_25-34',\n",
       "       'onehotencoder__x6_35-44', 'onehotencoder__x6_45-54',\n",
       "       'onehotencoder__x6_55+', 'onehotencoder__x7_Feminino',\n",
       "       'onehotencoder__x7_Masculino', 'onehotencoder__x8_Centro_Oeste',\n",
       "       'onehotencoder__x8_Nordeste', 'onehotencoder__x8_Norte',\n",
       "       'onehotencoder__x8_Sudeste', 'onehotencoder__x8_Sul',\n",
       "       'onehotencoder__x9_A', 'onehotencoder__x9_B', 'onehotencoder__x9_C',\n",
       "       'P3', 'P25', 'P31', 'Qnat', 'Qcama', 'Qest'],\n",
       "      dtype='object')"
      ]
     },
     "execution_count": 1294,
     "metadata": {},
     "output_type": "execute_result"
    }
   ],
   "source": [
    "x_val.columns"
   ]
  },
  {
   "cell_type": "code",
   "execution_count": 1295,
   "id": "1159805f",
   "metadata": {},
   "outputs": [],
   "source": [
    "from sklearn.tree import DecisionTreeRegressor\n",
    "from sklearn.ensemble import RandomForestRegressor\n",
    "from sklearn.ensemble import GradientBoostingRegressor"
   ]
  },
  {
   "cell_type": "code",
   "execution_count": 1296,
   "id": "c71f1d61",
   "metadata": {},
   "outputs": [],
   "source": [
    "tr = DecisionTreeRegressor(random_state=42)"
   ]
  },
  {
   "cell_type": "code",
   "execution_count": 1297,
   "id": "3b5f7351",
   "metadata": {},
   "outputs": [],
   "source": [
    "rf = RandomForestRegressor(random_state=42)"
   ]
  },
  {
   "cell_type": "code",
   "execution_count": 1298,
   "id": "2ceef00e",
   "metadata": {},
   "outputs": [],
   "source": [
    "gb = GradientBoostingRegressor(random_state=42)"
   ]
  },
  {
   "cell_type": "code",
   "execution_count": 1299,
   "id": "397aaa51",
   "metadata": {},
   "outputs": [
    {
     "data": {
      "text/plain": [
       "DecisionTreeRegressor(random_state=42)"
      ]
     },
     "execution_count": 1299,
     "metadata": {},
     "output_type": "execute_result"
    }
   ],
   "source": [
    "tr.fit(x_treino, y_treino)"
   ]
  },
  {
   "cell_type": "code",
   "execution_count": 1300,
   "id": "74a894aa",
   "metadata": {},
   "outputs": [
    {
     "data": {
      "text/plain": [
       "RandomForestRegressor(random_state=42)"
      ]
     },
     "execution_count": 1300,
     "metadata": {},
     "output_type": "execute_result"
    }
   ],
   "source": [
    "rf.fit(x_treino, y_treino)"
   ]
  },
  {
   "cell_type": "code",
   "execution_count": 1301,
   "id": "484d0daa",
   "metadata": {},
   "outputs": [
    {
     "data": {
      "text/plain": [
       "GradientBoostingRegressor(random_state=42)"
      ]
     },
     "execution_count": 1301,
     "metadata": {},
     "output_type": "execute_result"
    }
   ],
   "source": [
    "gb.fit(x_treino, y_treino)"
   ]
  },
  {
   "cell_type": "code",
   "execution_count": 1302,
   "id": "e511b0b4",
   "metadata": {},
   "outputs": [],
   "source": [
    "from sklearn.metrics import r2_score\n",
    "\n",
    "\t\n",
    "from sklearn.metrics import mean_squared_error"
   ]
  },
  {
   "cell_type": "markdown",
   "id": "8f29ef3a",
   "metadata": {},
   "source": [
    "------\n",
    "\n",
    "# Desempenho"
   ]
  },
  {
   "cell_type": "markdown",
   "id": "bcf1cb48",
   "metadata": {},
   "source": [
    "## Decision tree"
   ]
  },
  {
   "cell_type": "code",
   "execution_count": 1303,
   "id": "02308db2",
   "metadata": {},
   "outputs": [
    {
     "data": {
      "text/plain": [
       "1.0"
      ]
     },
     "execution_count": 1303,
     "metadata": {},
     "output_type": "execute_result"
    }
   ],
   "source": [
    "r2_score(y_treino, tr.predict(x_treino))"
   ]
  },
  {
   "cell_type": "code",
   "execution_count": 1304,
   "id": "62f93410",
   "metadata": {},
   "outputs": [
    {
     "data": {
      "text/plain": [
       "0.44446938058623797"
      ]
     },
     "execution_count": 1304,
     "metadata": {},
     "output_type": "execute_result"
    }
   ],
   "source": [
    "r2_score(y_val, tr.predict(x_val))"
   ]
  },
  {
   "cell_type": "markdown",
   "id": "e9a011fa",
   "metadata": {},
   "source": [
    "## Random Forest"
   ]
  },
  {
   "cell_type": "code",
   "execution_count": 1305,
   "id": "357bb314",
   "metadata": {},
   "outputs": [
    {
     "data": {
      "text/plain": [
       "0.9659368968129232"
      ]
     },
     "execution_count": 1305,
     "metadata": {},
     "output_type": "execute_result"
    }
   ],
   "source": [
    "r2_score(y_treino, rf.predict(x_treino))"
   ]
  },
  {
   "cell_type": "code",
   "execution_count": 1306,
   "id": "c31b4723",
   "metadata": {},
   "outputs": [
    {
     "data": {
      "text/plain": [
       "0.688902571133055"
      ]
     },
     "execution_count": 1306,
     "metadata": {},
     "output_type": "execute_result"
    }
   ],
   "source": [
    "r2_score(y_val, rf.predict(x_val))"
   ]
  },
  {
   "cell_type": "markdown",
   "id": "e1fa6d18",
   "metadata": {},
   "source": [
    "## Gradient Boosting"
   ]
  },
  {
   "cell_type": "code",
   "execution_count": 1307,
   "id": "0086cdac",
   "metadata": {},
   "outputs": [
    {
     "data": {
      "text/plain": [
       "0.9054212800082568"
      ]
     },
     "execution_count": 1307,
     "metadata": {},
     "output_type": "execute_result"
    }
   ],
   "source": [
    "r2_score(y_treino, gb.predict(x_treino))"
   ]
  },
  {
   "cell_type": "code",
   "execution_count": 1308,
   "id": "18f357bb",
   "metadata": {},
   "outputs": [
    {
     "data": {
      "text/plain": [
       "0.6738315054935693"
      ]
     },
     "execution_count": 1308,
     "metadata": {},
     "output_type": "execute_result"
    }
   ],
   "source": [
    "r2_score(y_val, gb.predict(x_val))"
   ]
  },
  {
   "cell_type": "code",
   "execution_count": 1309,
   "id": "2857f0dc",
   "metadata": {},
   "outputs": [],
   "source": [
    "from sklearn.model_selection import cross_val_score"
   ]
  },
  {
   "cell_type": "code",
   "execution_count": 1310,
   "id": "12f66043",
   "metadata": {},
   "outputs": [
    {
     "name": "stderr",
     "output_type": "stream",
     "text": [
      "/opt/anaconda3/lib/python3.9/site-packages/scipy/__init__.py:146: UserWarning: A NumPy version >=1.16.5 and <1.23.0 is required for this version of SciPy (detected version 1.23.4\n",
      "  warnings.warn(f\"A NumPy version >={np_minversion} and <{np_maxversion}\"\n",
      "/opt/anaconda3/lib/python3.9/site-packages/scipy/__init__.py:146: UserWarning: A NumPy version >=1.16.5 and <1.23.0 is required for this version of SciPy (detected version 1.23.4\n",
      "  warnings.warn(f\"A NumPy version >={np_minversion} and <{np_maxversion}\"\n",
      "/opt/anaconda3/lib/python3.9/site-packages/scipy/__init__.py:146: UserWarning: A NumPy version >=1.16.5 and <1.23.0 is required for this version of SciPy (detected version 1.23.4\n",
      "  warnings.warn(f\"A NumPy version >={np_minversion} and <{np_maxversion}\"\n",
      "/opt/anaconda3/lib/python3.9/site-packages/scipy/__init__.py:146: UserWarning: A NumPy version >=1.16.5 and <1.23.0 is required for this version of SciPy (detected version 1.23.4\n",
      "  warnings.warn(f\"A NumPy version >={np_minversion} and <{np_maxversion}\"\n",
      "/opt/anaconda3/lib/python3.9/site-packages/scipy/__init__.py:146: UserWarning: A NumPy version >=1.16.5 and <1.23.0 is required for this version of SciPy (detected version 1.23.4\n",
      "  warnings.warn(f\"A NumPy version >={np_minversion} and <{np_maxversion}\"\n",
      "/opt/anaconda3/lib/python3.9/site-packages/scipy/__init__.py:146: UserWarning: A NumPy version >=1.16.5 and <1.23.0 is required for this version of SciPy (detected version 1.23.4\n",
      "  warnings.warn(f\"A NumPy version >={np_minversion} and <{np_maxversion}\"\n",
      "/opt/anaconda3/lib/python3.9/site-packages/scipy/__init__.py:146: UserWarning: A NumPy version >=1.16.5 and <1.23.0 is required for this version of SciPy (detected version 1.23.4\n",
      "  warnings.warn(f\"A NumPy version >={np_minversion} and <{np_maxversion}\"\n",
      "/opt/anaconda3/lib/python3.9/site-packages/scipy/__init__.py:146: UserWarning: A NumPy version >=1.16.5 and <1.23.0 is required for this version of SciPy (detected version 1.23.4\n",
      "  warnings.warn(f\"A NumPy version >={np_minversion} and <{np_maxversion}\"\n",
      "/opt/anaconda3/lib/python3.9/site-packages/sklearn/model_selection/_validation.py:680: DataConversionWarning: A column-vector y was passed when a 1d array was expected. Please change the shape of y to (n_samples,), for example using ravel().\n",
      "  estimator.fit(X_train, y_train, **fit_params)\n",
      "/opt/anaconda3/lib/python3.9/site-packages/sklearn/model_selection/_validation.py:680: DataConversionWarning: A column-vector y was passed when a 1d array was expected. Please change the shape of y to (n_samples,), for example using ravel().\n",
      "  estimator.fit(X_train, y_train, **fit_params)\n",
      "/opt/anaconda3/lib/python3.9/site-packages/sklearn/model_selection/_validation.py:680: DataConversionWarning: A column-vector y was passed when a 1d array was expected. Please change the shape of y to (n_samples,), for example using ravel().\n",
      "  estimator.fit(X_train, y_train, **fit_params)\n",
      "/opt/anaconda3/lib/python3.9/site-packages/sklearn/model_selection/_validation.py:680: DataConversionWarning: A column-vector y was passed when a 1d array was expected. Please change the shape of y to (n_samples,), for example using ravel().\n",
      "  estimator.fit(X_train, y_train, **fit_params)\n",
      "/opt/anaconda3/lib/python3.9/site-packages/sklearn/model_selection/_validation.py:680: DataConversionWarning: A column-vector y was passed when a 1d array was expected. Please change the shape of y to (n_samples,), for example using ravel().\n",
      "  estimator.fit(X_train, y_train, **fit_params)\n",
      "/opt/anaconda3/lib/python3.9/site-packages/sklearn/model_selection/_validation.py:680: DataConversionWarning: A column-vector y was passed when a 1d array was expected. Please change the shape of y to (n_samples,), for example using ravel().\n",
      "  estimator.fit(X_train, y_train, **fit_params)\n",
      "/opt/anaconda3/lib/python3.9/site-packages/sklearn/model_selection/_validation.py:680: DataConversionWarning: A column-vector y was passed when a 1d array was expected. Please change the shape of y to (n_samples,), for example using ravel().\n",
      "  estimator.fit(X_train, y_train, **fit_params)\n",
      "/opt/anaconda3/lib/python3.9/site-packages/sklearn/model_selection/_validation.py:680: DataConversionWarning: A column-vector y was passed when a 1d array was expected. Please change the shape of y to (n_samples,), for example using ravel().\n",
      "  estimator.fit(X_train, y_train, **fit_params)\n",
      "/opt/anaconda3/lib/python3.9/site-packages/sklearn/model_selection/_validation.py:680: DataConversionWarning: A column-vector y was passed when a 1d array was expected. Please change the shape of y to (n_samples,), for example using ravel().\n",
      "  estimator.fit(X_train, y_train, **fit_params)\n",
      "/opt/anaconda3/lib/python3.9/site-packages/sklearn/model_selection/_validation.py:680: DataConversionWarning: A column-vector y was passed when a 1d array was expected. Please change the shape of y to (n_samples,), for example using ravel().\n",
      "  estimator.fit(X_train, y_train, **fit_params)\n"
     ]
    },
    {
     "data": {
      "text/plain": [
       "0.43425475728002666"
      ]
     },
     "execution_count": 1310,
     "metadata": {},
     "output_type": "execute_result"
    }
   ],
   "source": [
    "#CrossVal Decision Tree\n",
    "rf_scores = cross_val_score(\n",
    "    rf,  # modelo\n",
    "    x_treino,  # X_train\n",
    "    y_treino,  # y_train\n",
    "    cv=10,  # Quantas partições eu quero\n",
    "    n_jobs=-1,  # Use todos os cores da maquina!\n",
    ")\n",
    "\n",
    "# Acurácia\n",
    "tr_scores.mean()"
   ]
  },
  {
   "cell_type": "markdown",
   "id": "eb6032a0",
   "metadata": {},
   "source": [
    "------\n",
    "## Desempenho do melhor modelo - Features mais importantes"
   ]
  },
  {
   "cell_type": "code",
   "execution_count": 1311,
   "id": "ff70728a",
   "metadata": {},
   "outputs": [],
   "source": [
    "from sklearn.feature_selection import f_regression, mutual_info_regression\n",
    "\n",
    "from sklearn.feature_selection import SelectKBest"
   ]
  },
  {
   "cell_type": "code",
   "execution_count": 1312,
   "id": "4b9f69d3",
   "metadata": {},
   "outputs": [
    {
     "data": {
      "text/plain": [
       "Index(['P1'], dtype='object')"
      ]
     },
     "execution_count": 1312,
     "metadata": {},
     "output_type": "execute_result"
    }
   ],
   "source": [
    "y_treino.columns"
   ]
  },
  {
   "cell_type": "code",
   "execution_count": 1313,
   "id": "6461330e",
   "metadata": {},
   "outputs": [],
   "source": [
    "f_reg = SelectKBest(f_regression, k=5)"
   ]
  },
  {
   "cell_type": "code",
   "execution_count": 1314,
   "id": "7c2bb3a0",
   "metadata": {},
   "outputs": [
    {
     "data": {
      "text/plain": [
       "SelectKBest(k=5, score_func=<function f_regression at 0x7fdff01f4d30>)"
      ]
     },
     "execution_count": 1314,
     "metadata": {},
     "output_type": "execute_result"
    }
   ],
   "source": [
    "f_reg.fit(x_treino, y_treino)"
   ]
  },
  {
   "cell_type": "code",
   "execution_count": 1315,
   "id": "a1d9ff0a",
   "metadata": {},
   "outputs": [
    {
     "data": {
      "text/plain": [
       "['onehotencoder__x0_Lazer',\n",
       " 'onehotencoder__x0_Trabalho',\n",
       " 'onehotencoder__x3_Solteiro ',\n",
       " 'onehotencoder__x4_Quarta-Feira',\n",
       " 'Qest']"
      ]
     },
     "execution_count": 1315,
     "metadata": {},
     "output_type": "execute_result"
    }
   ],
   "source": [
    "f_reg_support = f_reg.get_support()\n",
    "f_feature = x_treino.loc[:, f_reg_support].columns.tolist()\n",
    "f_feature"
   ]
  },
  {
   "cell_type": "code",
   "execution_count": 1316,
   "id": "db6e7bfc",
   "metadata": {},
   "outputs": [],
   "source": [
    "mi_reg = SelectKBest(mutual_info_regression, k=5)"
   ]
  },
  {
   "cell_type": "code",
   "execution_count": 1317,
   "id": "e0d152ff",
   "metadata": {},
   "outputs": [
    {
     "data": {
      "text/plain": [
       "SelectKBest(k=5, score_func=<function mutual_info_regression at 0x7fe0002f64c0>)"
      ]
     },
     "execution_count": 1317,
     "metadata": {},
     "output_type": "execute_result"
    }
   ],
   "source": [
    "mi_reg.fit(x_treino, y_treino)"
   ]
  },
  {
   "cell_type": "code",
   "execution_count": 1318,
   "id": "78cf6876",
   "metadata": {},
   "outputs": [
    {
     "data": {
      "text/plain": [
       "['onehotencoder__x0_Trabalho',\n",
       " 'onehotencoder__x3_Solteiro ',\n",
       " 'onehotencoder__x4_Quarta-Feira',\n",
       " 'onehotencoder__x9_A',\n",
       " 'Qest']"
      ]
     },
     "execution_count": 1318,
     "metadata": {},
     "output_type": "execute_result"
    }
   ],
   "source": [
    "mi_reg_support = mi_reg.get_support()\n",
    "mi_feature = x_treino.loc[:, mi_reg_support].columns.tolist()\n",
    "mi_feature"
   ]
  },
  {
   "cell_type": "markdown",
   "id": "3d9cc30c",
   "metadata": {},
   "source": [
    "-------\n",
    "\n",
    "# Aplicando modelo em segmentação\n",
    "##  Utilizar o modelo em uma base reduzida a partir das caracteristicas mais comuns do turista"
   ]
  },
  {
   "cell_type": "code",
   "execution_count": 1319,
   "id": "df9add7a",
   "metadata": {},
   "outputs": [
    {
     "data": {
      "text/plain": [
       "NaN      561\n",
       "Lazer    401\n",
       "Name: P2, dtype: int64"
      ]
     },
     "execution_count": 1319,
     "metadata": {},
     "output_type": "execute_result"
    }
   ],
   "source": [
    "df_lazer = df_limpo\n",
    "df_lazer[\"P2\"][df_lazer[\"P2\"] != \"Lazer\"] = np.nan\n",
    "df_lazer[\"P2\"].value_counts(dropna=False)"
   ]
  },
  {
   "cell_type": "code",
   "execution_count": 1320,
   "id": "fc9f09ae",
   "metadata": {},
   "outputs": [
    {
     "name": "stdout",
     "output_type": "stream",
     "text": [
      "<class 'pandas.core.frame.DataFrame'>\n",
      "Int64Index: 401 entries, 3 to 1266\n",
      "Data columns (total 71 columns):\n",
      " #   Column    Non-Null Count  Dtype  \n",
      "---  ------    --------------  -----  \n",
      " 0   P1        401 non-null    float64\n",
      " 1   P2        401 non-null    object \n",
      " 2   P3        401 non-null    float64\n",
      " 3   P4        401 non-null    float64\n",
      " 4   P5        401 non-null    float64\n",
      " 5   P6        401 non-null    float64\n",
      " 6   P7        401 non-null    float64\n",
      " 7   P8        401 non-null    float64\n",
      " 8   P9        401 non-null    float64\n",
      " 9   P10       401 non-null    float64\n",
      " 10  P11       401 non-null    float64\n",
      " 11  P12       401 non-null    float64\n",
      " 12  P13       401 non-null    float64\n",
      " 13  P14       401 non-null    float64\n",
      " 14  P15       401 non-null    float64\n",
      " 15  P16       401 non-null    float64\n",
      " 16  P17       401 non-null    float64\n",
      " 17  P18       401 non-null    float64\n",
      " 18  P19       401 non-null    float64\n",
      " 19  P20       401 non-null    float64\n",
      " 20  P21       401 non-null    float64\n",
      " 21  P22       401 non-null    float64\n",
      " 22  P23       401 non-null    float64\n",
      " 23  P24       401 non-null    float64\n",
      " 24  P25       401 non-null    float64\n",
      " 25  P26       401 non-null    float64\n",
      " 26  P27       401 non-null    float64\n",
      " 27  P28       401 non-null    float64\n",
      " 28  P29       401 non-null    float64\n",
      " 29  P30       401 non-null    float64\n",
      " 30  P31       401 non-null    float64\n",
      " 31  P32       401 non-null    float64\n",
      " 32  P33       401 non-null    float64\n",
      " 33  P34       401 non-null    float64\n",
      " 34  P35       401 non-null    float64\n",
      " 35  P36       401 non-null    float64\n",
      " 36  P37       401 non-null    float64\n",
      " 37  P38       401 non-null    float64\n",
      " 38  P39       401 non-null    float64\n",
      " 39  P40       401 non-null    float64\n",
      " 40  P41       401 non-null    float64\n",
      " 41  P42       401 non-null    float64\n",
      " 42  P43       401 non-null    float64\n",
      " 43  P44       401 non-null    float64\n",
      " 44  P45       401 non-null    float64\n",
      " 45  P46       401 non-null    float64\n",
      " 46  P47       401 non-null    float64\n",
      " 47  P48       401 non-null    float64\n",
      " 48  P49       401 non-null    float64\n",
      " 49  P50       401 non-null    float64\n",
      " 50  P51       401 non-null    float64\n",
      " 51  P52       401 non-null    float64\n",
      " 52  P53       401 non-null    float64\n",
      " 53  P54       401 non-null    float64\n",
      " 54  P55       401 non-null    float64\n",
      " 55  P56       401 non-null    float64\n",
      " 56  P57       401 non-null    float64\n",
      " 57  P58       401 non-null    float64\n",
      " 58  Qesc      401 non-null    object \n",
      " 59  Qciv      401 non-null    object \n",
      " 60  Qnat      401 non-null    float64\n",
      " 61  Qtipcama  401 non-null    object \n",
      " 62  Qcama     401 non-null    float64\n",
      " 63  Qest      401 non-null    float64\n",
      " 64  Qche      401 non-null    object \n",
      " 65  Qocup     401 non-null    object \n",
      " 66  Qid       401 non-null    object \n",
      " 67  Qgen      401 non-null    object \n",
      " 68  Qreg      401 non-null    object \n",
      " 69  Qclasse   401 non-null    object \n",
      " 70  Qdias     401 non-null    float64\n",
      "dtypes: float64(61), object(10)\n",
      "memory usage: 225.6+ KB\n"
     ]
    }
   ],
   "source": [
    "df_lazer = df_lazer.dropna(how = \"any\")\n",
    "df_lazer.info()"
   ]
  },
  {
   "cell_type": "code",
   "execution_count": 1321,
   "id": "fecfadce",
   "metadata": {},
   "outputs": [
    {
     "data": {
      "text/plain": [
       "1.0    243\n",
       "2.0    149\n",
       "3.0      4\n",
       "0.0      4\n",
       "4.0      1\n",
       "Name: P1, dtype: int64"
      ]
     },
     "execution_count": 1321,
     "metadata": {},
     "output_type": "execute_result"
    }
   ],
   "source": [
    "df_lazer[\"P1\"].value_counts()"
   ]
  },
  {
   "cell_type": "code",
   "execution_count": 1322,
   "id": "f51c7d8b",
   "metadata": {},
   "outputs": [
    {
     "data": {
      "text/plain": [
       "1.0    437\n",
       "2.0    300\n",
       "4.0    183\n",
       "3.0     29\n",
       "0.0     13\n",
       "Name: P1, dtype: int64"
      ]
     },
     "execution_count": 1322,
     "metadata": {},
     "output_type": "execute_result"
    }
   ],
   "source": [
    "df_limpo[\"P1\"].value_counts()"
   ]
  },
  {
   "cell_type": "markdown",
   "id": "12830b8c",
   "metadata": {},
   "source": [
    "------\n",
    "\n",
    "# Clusterização\n"
   ]
  },
  {
   "cell_type": "code",
   "execution_count": 1323,
   "id": "90b6582e",
   "metadata": {},
   "outputs": [
    {
     "data": {
      "text/html": [
       "<div>\n",
       "<style scoped>\n",
       "    .dataframe tbody tr th:only-of-type {\n",
       "        vertical-align: middle;\n",
       "    }\n",
       "\n",
       "    .dataframe tbody tr th {\n",
       "        vertical-align: top;\n",
       "    }\n",
       "\n",
       "    .dataframe thead th {\n",
       "        text-align: right;\n",
       "    }\n",
       "</style>\n",
       "<table border=\"1\" class=\"dataframe\">\n",
       "  <thead>\n",
       "    <tr style=\"text-align: right;\">\n",
       "      <th></th>\n",
       "      <th>onehotencoder__x0_Lazer</th>\n",
       "      <th>onehotencoder__x0_nan</th>\n",
       "      <th>onehotencoder__x1_EF_completo</th>\n",
       "      <th>onehotencoder__x1_EF_incompleto</th>\n",
       "      <th>onehotencoder__x1_EM_completo</th>\n",
       "      <th>onehotencoder__x1_EM_incompleto</th>\n",
       "      <th>onehotencoder__x1_ES_completo</th>\n",
       "      <th>onehotencoder__x1_ES_incompleto</th>\n",
       "      <th>onehotencoder__x2_Casado</th>\n",
       "      <th>onehotencoder__x2_Divorciado</th>\n",
       "      <th>...</th>\n",
       "      <th>P53</th>\n",
       "      <th>P54</th>\n",
       "      <th>P55</th>\n",
       "      <th>P56</th>\n",
       "      <th>P57</th>\n",
       "      <th>P58</th>\n",
       "      <th>Qnat</th>\n",
       "      <th>Qcama</th>\n",
       "      <th>Qest</th>\n",
       "      <th>Qdias</th>\n",
       "    </tr>\n",
       "  </thead>\n",
       "  <tbody>\n",
       "    <tr>\n",
       "      <th>0</th>\n",
       "      <td>0.0</td>\n",
       "      <td>1.0</td>\n",
       "      <td>0.0</td>\n",
       "      <td>0.0</td>\n",
       "      <td>0.0</td>\n",
       "      <td>0.0</td>\n",
       "      <td>1.0</td>\n",
       "      <td>0.0</td>\n",
       "      <td>1.0</td>\n",
       "      <td>0.0</td>\n",
       "      <td>...</td>\n",
       "      <td>5.0</td>\n",
       "      <td>4.0</td>\n",
       "      <td>1.0</td>\n",
       "      <td>2.0</td>\n",
       "      <td>5.0</td>\n",
       "      <td>5.0</td>\n",
       "      <td>1.0</td>\n",
       "      <td>1.0</td>\n",
       "      <td>4.0</td>\n",
       "      <td>8.0</td>\n",
       "    </tr>\n",
       "    <tr>\n",
       "      <th>1</th>\n",
       "      <td>0.0</td>\n",
       "      <td>1.0</td>\n",
       "      <td>1.0</td>\n",
       "      <td>0.0</td>\n",
       "      <td>0.0</td>\n",
       "      <td>0.0</td>\n",
       "      <td>0.0</td>\n",
       "      <td>0.0</td>\n",
       "      <td>0.0</td>\n",
       "      <td>0.0</td>\n",
       "      <td>...</td>\n",
       "      <td>3.0</td>\n",
       "      <td>4.0</td>\n",
       "      <td>3.0</td>\n",
       "      <td>2.0</td>\n",
       "      <td>2.0</td>\n",
       "      <td>1.0</td>\n",
       "      <td>2.0</td>\n",
       "      <td>1.0</td>\n",
       "      <td>1.0</td>\n",
       "      <td>3.0</td>\n",
       "    </tr>\n",
       "    <tr>\n",
       "      <th>2</th>\n",
       "      <td>0.0</td>\n",
       "      <td>1.0</td>\n",
       "      <td>0.0</td>\n",
       "      <td>0.0</td>\n",
       "      <td>0.0</td>\n",
       "      <td>0.0</td>\n",
       "      <td>0.0</td>\n",
       "      <td>1.0</td>\n",
       "      <td>1.0</td>\n",
       "      <td>0.0</td>\n",
       "      <td>...</td>\n",
       "      <td>1.0</td>\n",
       "      <td>7.0</td>\n",
       "      <td>6.0</td>\n",
       "      <td>7.0</td>\n",
       "      <td>5.0</td>\n",
       "      <td>7.0</td>\n",
       "      <td>1.0</td>\n",
       "      <td>1.0</td>\n",
       "      <td>3.0</td>\n",
       "      <td>3.0</td>\n",
       "    </tr>\n",
       "    <tr>\n",
       "      <th>3</th>\n",
       "      <td>1.0</td>\n",
       "      <td>0.0</td>\n",
       "      <td>0.0</td>\n",
       "      <td>0.0</td>\n",
       "      <td>0.0</td>\n",
       "      <td>0.0</td>\n",
       "      <td>0.0</td>\n",
       "      <td>1.0</td>\n",
       "      <td>0.0</td>\n",
       "      <td>1.0</td>\n",
       "      <td>...</td>\n",
       "      <td>6.0</td>\n",
       "      <td>5.0</td>\n",
       "      <td>4.0</td>\n",
       "      <td>2.0</td>\n",
       "      <td>6.0</td>\n",
       "      <td>4.0</td>\n",
       "      <td>3.0</td>\n",
       "      <td>1.0</td>\n",
       "      <td>6.0</td>\n",
       "      <td>6.0</td>\n",
       "    </tr>\n",
       "    <tr>\n",
       "      <th>4</th>\n",
       "      <td>0.0</td>\n",
       "      <td>1.0</td>\n",
       "      <td>0.0</td>\n",
       "      <td>0.0</td>\n",
       "      <td>0.0</td>\n",
       "      <td>0.0</td>\n",
       "      <td>1.0</td>\n",
       "      <td>0.0</td>\n",
       "      <td>1.0</td>\n",
       "      <td>0.0</td>\n",
       "      <td>...</td>\n",
       "      <td>1.0</td>\n",
       "      <td>5.0</td>\n",
       "      <td>2.0</td>\n",
       "      <td>3.0</td>\n",
       "      <td>2.0</td>\n",
       "      <td>5.0</td>\n",
       "      <td>2.0</td>\n",
       "      <td>1.0</td>\n",
       "      <td>4.0</td>\n",
       "      <td>8.0</td>\n",
       "    </tr>\n",
       "    <tr>\n",
       "      <th>...</th>\n",
       "      <td>...</td>\n",
       "      <td>...</td>\n",
       "      <td>...</td>\n",
       "      <td>...</td>\n",
       "      <td>...</td>\n",
       "      <td>...</td>\n",
       "      <td>...</td>\n",
       "      <td>...</td>\n",
       "      <td>...</td>\n",
       "      <td>...</td>\n",
       "      <td>...</td>\n",
       "      <td>...</td>\n",
       "      <td>...</td>\n",
       "      <td>...</td>\n",
       "      <td>...</td>\n",
       "      <td>...</td>\n",
       "      <td>...</td>\n",
       "      <td>...</td>\n",
       "      <td>...</td>\n",
       "      <td>...</td>\n",
       "      <td>...</td>\n",
       "    </tr>\n",
       "    <tr>\n",
       "      <th>957</th>\n",
       "      <td>1.0</td>\n",
       "      <td>0.0</td>\n",
       "      <td>0.0</td>\n",
       "      <td>0.0</td>\n",
       "      <td>0.0</td>\n",
       "      <td>0.0</td>\n",
       "      <td>0.0</td>\n",
       "      <td>1.0</td>\n",
       "      <td>1.0</td>\n",
       "      <td>0.0</td>\n",
       "      <td>...</td>\n",
       "      <td>4.0</td>\n",
       "      <td>2.0</td>\n",
       "      <td>1.0</td>\n",
       "      <td>4.0</td>\n",
       "      <td>4.0</td>\n",
       "      <td>1.0</td>\n",
       "      <td>2.0</td>\n",
       "      <td>1.0</td>\n",
       "      <td>4.0</td>\n",
       "      <td>8.0</td>\n",
       "    </tr>\n",
       "    <tr>\n",
       "      <th>958</th>\n",
       "      <td>0.0</td>\n",
       "      <td>1.0</td>\n",
       "      <td>0.0</td>\n",
       "      <td>0.0</td>\n",
       "      <td>0.0</td>\n",
       "      <td>0.0</td>\n",
       "      <td>1.0</td>\n",
       "      <td>0.0</td>\n",
       "      <td>1.0</td>\n",
       "      <td>0.0</td>\n",
       "      <td>...</td>\n",
       "      <td>5.0</td>\n",
       "      <td>7.0</td>\n",
       "      <td>5.0</td>\n",
       "      <td>1.0</td>\n",
       "      <td>4.0</td>\n",
       "      <td>7.0</td>\n",
       "      <td>3.0</td>\n",
       "      <td>6.0</td>\n",
       "      <td>2.0</td>\n",
       "      <td>6.0</td>\n",
       "    </tr>\n",
       "    <tr>\n",
       "      <th>959</th>\n",
       "      <td>1.0</td>\n",
       "      <td>0.0</td>\n",
       "      <td>1.0</td>\n",
       "      <td>0.0</td>\n",
       "      <td>0.0</td>\n",
       "      <td>0.0</td>\n",
       "      <td>0.0</td>\n",
       "      <td>0.0</td>\n",
       "      <td>0.0</td>\n",
       "      <td>0.0</td>\n",
       "      <td>...</td>\n",
       "      <td>1.0</td>\n",
       "      <td>5.0</td>\n",
       "      <td>6.0</td>\n",
       "      <td>1.0</td>\n",
       "      <td>7.0</td>\n",
       "      <td>4.0</td>\n",
       "      <td>2.0</td>\n",
       "      <td>2.0</td>\n",
       "      <td>6.0</td>\n",
       "      <td>12.0</td>\n",
       "    </tr>\n",
       "    <tr>\n",
       "      <th>960</th>\n",
       "      <td>0.0</td>\n",
       "      <td>1.0</td>\n",
       "      <td>0.0</td>\n",
       "      <td>0.0</td>\n",
       "      <td>0.0</td>\n",
       "      <td>0.0</td>\n",
       "      <td>0.0</td>\n",
       "      <td>1.0</td>\n",
       "      <td>1.0</td>\n",
       "      <td>0.0</td>\n",
       "      <td>...</td>\n",
       "      <td>1.0</td>\n",
       "      <td>1.0</td>\n",
       "      <td>7.0</td>\n",
       "      <td>5.0</td>\n",
       "      <td>2.0</td>\n",
       "      <td>7.0</td>\n",
       "      <td>1.0</td>\n",
       "      <td>2.0</td>\n",
       "      <td>3.0</td>\n",
       "      <td>6.0</td>\n",
       "    </tr>\n",
       "    <tr>\n",
       "      <th>961</th>\n",
       "      <td>1.0</td>\n",
       "      <td>0.0</td>\n",
       "      <td>0.0</td>\n",
       "      <td>0.0</td>\n",
       "      <td>0.0</td>\n",
       "      <td>0.0</td>\n",
       "      <td>1.0</td>\n",
       "      <td>0.0</td>\n",
       "      <td>1.0</td>\n",
       "      <td>0.0</td>\n",
       "      <td>...</td>\n",
       "      <td>5.0</td>\n",
       "      <td>3.0</td>\n",
       "      <td>6.0</td>\n",
       "      <td>1.0</td>\n",
       "      <td>6.0</td>\n",
       "      <td>7.0</td>\n",
       "      <td>2.0</td>\n",
       "      <td>1.0</td>\n",
       "      <td>3.0</td>\n",
       "      <td>6.0</td>\n",
       "    </tr>\n",
       "  </tbody>\n",
       "</table>\n",
       "<p>962 rows × 106 columns</p>\n",
       "</div>"
      ],
      "text/plain": [
       "     onehotencoder__x0_Lazer  onehotencoder__x0_nan  \\\n",
       "0                        0.0                    1.0   \n",
       "1                        0.0                    1.0   \n",
       "2                        0.0                    1.0   \n",
       "3                        1.0                    0.0   \n",
       "4                        0.0                    1.0   \n",
       "..                       ...                    ...   \n",
       "957                      1.0                    0.0   \n",
       "958                      0.0                    1.0   \n",
       "959                      1.0                    0.0   \n",
       "960                      0.0                    1.0   \n",
       "961                      1.0                    0.0   \n",
       "\n",
       "     onehotencoder__x1_EF_completo  onehotencoder__x1_EF_incompleto  \\\n",
       "0                              0.0                              0.0   \n",
       "1                              1.0                              0.0   \n",
       "2                              0.0                              0.0   \n",
       "3                              0.0                              0.0   \n",
       "4                              0.0                              0.0   \n",
       "..                             ...                              ...   \n",
       "957                            0.0                              0.0   \n",
       "958                            0.0                              0.0   \n",
       "959                            1.0                              0.0   \n",
       "960                            0.0                              0.0   \n",
       "961                            0.0                              0.0   \n",
       "\n",
       "     onehotencoder__x1_EM_completo  onehotencoder__x1_EM_incompleto  \\\n",
       "0                              0.0                              0.0   \n",
       "1                              0.0                              0.0   \n",
       "2                              0.0                              0.0   \n",
       "3                              0.0                              0.0   \n",
       "4                              0.0                              0.0   \n",
       "..                             ...                              ...   \n",
       "957                            0.0                              0.0   \n",
       "958                            0.0                              0.0   \n",
       "959                            0.0                              0.0   \n",
       "960                            0.0                              0.0   \n",
       "961                            0.0                              0.0   \n",
       "\n",
       "     onehotencoder__x1_ES_completo  onehotencoder__x1_ES_incompleto  \\\n",
       "0                              1.0                              0.0   \n",
       "1                              0.0                              0.0   \n",
       "2                              0.0                              1.0   \n",
       "3                              0.0                              1.0   \n",
       "4                              1.0                              0.0   \n",
       "..                             ...                              ...   \n",
       "957                            0.0                              1.0   \n",
       "958                            1.0                              0.0   \n",
       "959                            0.0                              0.0   \n",
       "960                            0.0                              1.0   \n",
       "961                            1.0                              0.0   \n",
       "\n",
       "     onehotencoder__x2_Casado  onehotencoder__x2_Divorciado  ...  P53  P54  \\\n",
       "0                         1.0                           0.0  ...  5.0  4.0   \n",
       "1                         0.0                           0.0  ...  3.0  4.0   \n",
       "2                         1.0                           0.0  ...  1.0  7.0   \n",
       "3                         0.0                           1.0  ...  6.0  5.0   \n",
       "4                         1.0                           0.0  ...  1.0  5.0   \n",
       "..                        ...                           ...  ...  ...  ...   \n",
       "957                       1.0                           0.0  ...  4.0  2.0   \n",
       "958                       1.0                           0.0  ...  5.0  7.0   \n",
       "959                       0.0                           0.0  ...  1.0  5.0   \n",
       "960                       1.0                           0.0  ...  1.0  1.0   \n",
       "961                       1.0                           0.0  ...  5.0  3.0   \n",
       "\n",
       "     P55  P56  P57  P58  Qnat  Qcama  Qest  Qdias  \n",
       "0    1.0  2.0  5.0  5.0   1.0    1.0   4.0    8.0  \n",
       "1    3.0  2.0  2.0  1.0   2.0    1.0   1.0    3.0  \n",
       "2    6.0  7.0  5.0  7.0   1.0    1.0   3.0    3.0  \n",
       "3    4.0  2.0  6.0  4.0   3.0    1.0   6.0    6.0  \n",
       "4    2.0  3.0  2.0  5.0   2.0    1.0   4.0    8.0  \n",
       "..   ...  ...  ...  ...   ...    ...   ...    ...  \n",
       "957  1.0  4.0  4.0  1.0   2.0    1.0   4.0    8.0  \n",
       "958  5.0  1.0  4.0  7.0   3.0    6.0   2.0    6.0  \n",
       "959  6.0  1.0  7.0  4.0   2.0    2.0   6.0   12.0  \n",
       "960  7.0  5.0  2.0  7.0   1.0    2.0   3.0    6.0  \n",
       "961  6.0  1.0  6.0  7.0   2.0    1.0   3.0    6.0  \n",
       "\n",
       "[962 rows x 106 columns]"
      ]
     },
     "execution_count": 1323,
     "metadata": {},
     "output_type": "execute_result"
    }
   ],
   "source": [
    "# Importando do sklearn para aplicação do OneHotEncoder\n",
    "from sklearn.preprocessing import OneHotEncoder\n",
    "from sklearn.compose import make_column_transformer\n",
    "#from seaborn import load_dataset\n",
    "\n",
    "\n",
    "\n",
    "\n",
    "transformer = make_column_transformer(\n",
    "    (OneHotEncoder(), ['P2',\"Qesc\",\"Qciv\",\"Qtipcama\",\"Qche\",\"Qocup\",\"Qid\",\"Qgen\",\"Qreg\",\"Qclasse\"]),\n",
    "    remainder='passthrough')\n",
    "#\"Qclasse\n",
    "\n",
    "transformed = transformer.fit_transform(df_limpo)\n",
    "df_to_model_2 = pd.DataFrame(transformed, columns=transformer.get_feature_names())\n",
    "df_to_model_2"
   ]
  },
  {
   "cell_type": "code",
   "execution_count": 1324,
   "id": "3459a719",
   "metadata": {},
   "outputs": [],
   "source": [
    "\n",
    "#y_cl = df_to_model_2.loc[:,\"Qclasse\"]\n",
    "X_cl = df_to_model_2.drop([\"Qdias\",\"P4\",\"P5\",\"P6\",\"P7\",\"P8\",\"P9\",\"P10\",\"P11\",\"P12\",\"P13\",\"P14\",\"P15\",\"P16\",\"P17\",\"P18\",\"P19\",\"P20\",\"P21\",\"P22\",\"P23\",\"P24\",\"P26\",\"P27\",\"P28\",\"P29\",\"P30\",\"P32\",\"P33\",\"P34\",\"P35\",\"P36\",\"P37\",\"P38\",\"P39\",\"P40\",\"P41\",\"P42\",\"P43\",\"P44\",\"P45\",\"P46\",\"P47\",\"P48\",\"P49\",\"P50\",\"P51\",\"P52\",\"P53\",\"P54\",\"P55\",\"P56\",\"P57\",\"P58\"], axis=1)\n"
   ]
  },
  {
   "cell_type": "code",
   "execution_count": 1325,
   "id": "b96ef870",
   "metadata": {},
   "outputs": [],
   "source": [
    "#y_k = y_cl \n",
    "X_k = X_cl"
   ]
  },
  {
   "cell_type": "code",
   "execution_count": 1326,
   "id": "60e7aaac",
   "metadata": {},
   "outputs": [],
   "source": [
    "#from sklearn.preprocessing import LabelEncoder\n",
    "\n",
    "#le = LabelEncoder()\n",
    "\n",
    "#X_k['Qclasse'] = le.fit_transform(X_k['Qclasse'])\n",
    "\n",
    "#y_k = le.transform(y_k)"
   ]
  },
  {
   "cell_type": "code",
   "execution_count": 1327,
   "id": "2c7d0823",
   "metadata": {},
   "outputs": [],
   "source": [
    "#cols = X_k.columns"
   ]
  },
  {
   "cell_type": "code",
   "execution_count": 1328,
   "id": "96908ab6",
   "metadata": {},
   "outputs": [],
   "source": [
    "#from sklearn.preprocessing import MinMaxScaler\n",
    "\n",
    "#ms = MinMaxScaler()\n",
    "\n",
    "#X_k = ms.fit_transform(X_k)"
   ]
  },
  {
   "cell_type": "code",
   "execution_count": 1329,
   "id": "f3cf2cf9",
   "metadata": {},
   "outputs": [],
   "source": [
    "#X_k = pd.DataFrame(X_k, columns=[cols])"
   ]
  },
  {
   "cell_type": "markdown",
   "id": "a3c44c51",
   "metadata": {},
   "source": [
    "------\n",
    "\n",
    "## Kmeans"
   ]
  },
  {
   "cell_type": "code",
   "execution_count": 1330,
   "id": "39b8e9e0",
   "metadata": {},
   "outputs": [
    {
     "data": {
      "text/plain": [
       "KMeans(n_clusters=4, random_state=0)"
      ]
     },
     "execution_count": 1330,
     "metadata": {},
     "output_type": "execute_result"
    }
   ],
   "source": [
    "from sklearn.cluster import KMeans\n",
    "\n",
    "kmeans = KMeans(n_clusters=4, random_state=0) \n",
    "\n",
    "kmeans.fit(X_k)"
   ]
  },
  {
   "cell_type": "code",
   "execution_count": 1331,
   "id": "c30cab64",
   "metadata": {},
   "outputs": [
    {
     "data": {
      "text/plain": [
       "array([3, 2, 1, 0, 3, 0, 2, 0, 0, 2, 2, 2, 1, 3, 0, 2, 3, 0, 2, 0, 3, 0,\n",
       "       3, 1, 2, 1, 3, 3, 3, 3, 1, 1, 2, 1, 3, 1, 0, 0, 0, 2, 3, 1, 3, 0,\n",
       "       2, 3, 3, 3, 0, 1, 3, 2, 2, 1, 3, 2, 2, 1, 2, 2, 1, 1, 2, 1, 0, 0,\n",
       "       1, 2, 3, 0, 1, 2, 2, 1, 3, 2, 0, 3, 2, 1, 1, 1, 1, 3, 1, 1, 1, 1,\n",
       "       3, 3, 2, 1, 3, 3, 0, 0, 2, 3, 1, 2, 2, 3, 3, 3, 2, 1, 3, 1, 3, 0,\n",
       "       1, 0, 1, 2, 2, 3, 3, 3, 3, 2, 2, 1, 3, 3, 3, 1, 3, 2, 2, 3, 0, 3,\n",
       "       1, 3, 1, 0, 1, 0, 1, 1, 0, 0, 1, 1, 0, 0, 2, 3, 2, 2, 1, 0, 2, 3,\n",
       "       3, 3, 2, 0, 3, 0, 2, 1, 0, 3, 2, 3, 0, 1, 3, 3, 2, 0, 3, 2, 3, 0,\n",
       "       0, 3, 0, 1, 3, 2, 3, 1, 2, 3, 0, 2, 1, 2, 1, 1, 3, 1, 2, 3, 3, 2,\n",
       "       3, 1, 2, 0, 3, 2, 3, 1, 2, 3, 2, 2, 1, 0, 0, 1, 1, 1, 0, 0, 3, 2,\n",
       "       2, 3, 0, 0, 0, 0, 1, 2, 0, 0, 3, 3, 0, 3, 2, 3, 0, 0, 1, 0, 1, 3,\n",
       "       2, 3, 0, 3, 2, 2, 2, 1, 1, 2, 3, 0, 1, 2, 1, 1, 3, 3, 2, 0, 1, 2,\n",
       "       1, 3, 3, 3, 0, 3, 0, 0, 1, 2, 0, 2, 1, 1, 3, 2, 3, 3, 1, 3, 1, 2,\n",
       "       3, 3, 0, 1, 0, 1, 3, 3, 0, 1, 3, 1, 2, 0, 0, 3, 1, 3, 1, 1, 0, 3,\n",
       "       2, 3, 3, 2, 2, 1, 2, 3, 1, 2, 2, 2, 3, 3, 1, 0, 1, 3, 2, 3, 3, 3,\n",
       "       1, 1, 3, 1, 3, 1, 0, 2, 1, 3, 0, 0, 2, 3, 0, 0, 1, 1, 0, 3, 3, 2,\n",
       "       0, 2, 1, 2, 3, 1, 3, 1, 3, 2, 1, 3, 2, 0, 0, 3, 1, 2, 3, 0, 0, 3,\n",
       "       2, 2, 0, 1, 3, 1, 1, 1, 2, 2, 3, 2, 2, 2, 0, 1, 3, 3, 2, 3, 1, 1,\n",
       "       1, 3, 3, 1, 0, 0, 1, 2, 1, 1, 3, 1, 2, 0, 2, 0, 1, 0, 3, 2, 1, 3,\n",
       "       0, 3, 0, 2, 3, 3, 2, 0, 3, 0, 1, 0, 3, 2, 1, 1, 2, 3, 3, 1, 0, 1,\n",
       "       3, 1, 1, 3, 2, 0, 3, 3, 1, 0, 1, 2, 2, 0, 1, 2, 0, 2, 0, 3, 3, 3,\n",
       "       1, 2, 2, 2, 2, 2, 2, 1, 2, 0, 3, 1, 2, 0, 2, 0, 2, 0, 0, 3, 0, 3,\n",
       "       1, 1, 2, 2, 0, 0, 0, 1, 0, 2, 0, 3, 3, 0, 1, 3, 2, 1, 0, 2, 2, 0,\n",
       "       1, 3, 2, 2, 1, 2, 0, 1, 1, 1, 0, 2, 1, 3, 1, 1, 3, 2, 0, 3, 2, 2,\n",
       "       0, 1, 1, 2, 2, 0, 1, 1, 0, 2, 1, 0, 1, 3, 2, 0, 1, 0, 0, 0, 0, 3,\n",
       "       0, 2, 1, 3, 2, 3, 1, 0, 3, 3, 2, 2, 2, 1, 1, 3, 3, 2, 3, 2, 3, 1,\n",
       "       3, 2, 2, 2, 3, 1, 0, 3, 3, 3, 1, 0, 2, 0, 2, 0, 0, 2, 0, 1, 1, 2,\n",
       "       3, 3, 0, 3, 0, 3, 2, 3, 0, 2, 3, 1, 0, 2, 3, 2, 1, 2, 2, 0, 3, 1,\n",
       "       2, 3, 3, 2, 2, 2, 3, 1, 3, 1, 3, 2, 3, 1, 1, 0, 2, 0, 3, 2, 3, 0,\n",
       "       1, 0, 0, 1, 1, 3, 3, 3, 3, 1, 1, 2, 0, 1, 3, 3, 0, 1, 1, 2, 1, 3,\n",
       "       2, 0, 2, 1, 2, 0, 0, 3, 2, 1, 3, 1, 2, 2, 2, 3, 2, 2, 1, 3, 3, 2,\n",
       "       2, 2, 2, 3, 1, 1, 2, 2, 3, 3, 0, 1, 2, 1, 0, 2, 3, 1, 1, 3, 1, 1,\n",
       "       3, 2, 2, 3, 0, 2, 1, 0, 0, 1, 0, 0, 3, 2, 3, 0, 0, 3, 3, 1, 3, 0,\n",
       "       2, 2, 2, 3, 3, 1, 3, 1, 1, 0, 1, 1, 3, 0, 3, 2, 2, 1, 2, 1, 0, 0,\n",
       "       0, 0, 2, 1, 3, 2, 0, 2, 3, 0, 0, 3, 2, 2, 1, 3, 0, 2, 3, 3, 1, 3,\n",
       "       0, 3, 3, 0, 3, 1, 2, 2, 3, 1, 3, 3, 1, 3, 2, 1, 3, 3, 3, 0, 0, 0,\n",
       "       2, 2, 2, 2, 3, 3, 3, 3, 3, 1, 2, 2, 2, 0, 2, 2, 1, 0, 3, 1, 3, 2,\n",
       "       1, 1, 2, 0, 2, 2, 3, 0, 0, 3, 3, 3, 1, 1, 1, 2, 3, 2, 2, 2, 2, 1,\n",
       "       2, 0, 1, 0, 3, 1, 0, 1, 0, 1, 2, 0, 2, 1, 0, 2, 1, 0, 2, 3, 0, 0,\n",
       "       0, 2, 0, 3, 3, 1, 0, 3, 2, 0, 3, 3, 1, 0, 3, 1, 1, 1, 0, 1, 3, 1,\n",
       "       1, 2, 3, 2, 0, 0, 0, 1, 1, 1, 3, 1, 0, 3, 3, 3, 3, 3, 1, 0, 3, 3,\n",
       "       1, 3, 1, 2, 0, 0, 0, 3, 3, 1, 2, 3, 0, 0, 0, 3, 0, 2, 2, 1, 2, 1,\n",
       "       2, 3, 0, 2, 3, 0, 1, 2, 3, 3, 0, 1, 3, 1, 1, 1, 0, 3, 2, 2, 0, 0,\n",
       "       3, 0, 3, 3, 1, 2, 0, 3, 3, 0, 3, 3, 2, 3, 3, 3], dtype=int32)"
      ]
     },
     "execution_count": 1331,
     "metadata": {},
     "output_type": "execute_result"
    }
   ],
   "source": [
    "kmeans.fit_predict(X_k)"
   ]
  },
  {
   "cell_type": "code",
   "execution_count": 1332,
   "id": "19d4ea90",
   "metadata": {},
   "outputs": [],
   "source": [
    "centroids = kmeans.cluster_centers_\n"
   ]
  },
  {
   "cell_type": "code",
   "execution_count": 1333,
   "id": "68e0ac25",
   "metadata": {},
   "outputs": [
    {
     "data": {
      "text/plain": [
       "17960.514655774157"
      ]
     },
     "execution_count": 1333,
     "metadata": {},
     "output_type": "execute_result"
    }
   ],
   "source": [
    "kmeans.inertia_"
   ]
  },
  {
   "cell_type": "code",
   "execution_count": 1334,
   "id": "185ef1c9",
   "metadata": {},
   "outputs": [
    {
     "name": "stdout",
     "output_type": "stream",
     "text": [
      "Result: 150 out of 962 samples were correctly labeled.\n"
     ]
    }
   ],
   "source": [
    "labels = kmeans.labels_\n",
    "\n",
    "# check how many of the samples were correctly labeled\n",
    "correct_labels = sum(y == labels)\n",
    "\n",
    "print(\"Result: %d out of %d samples were correctly labeled.\" % (correct_labels, y.size))"
   ]
  },
  {
   "cell_type": "code",
   "execution_count": 1335,
   "id": "44e3ea8d",
   "metadata": {},
   "outputs": [
    {
     "name": "stdout",
     "output_type": "stream",
     "text": [
      "Accuracy score: 0.16\n"
     ]
    }
   ],
   "source": [
    "print('Accuracy score: {0:0.2f}'. format(correct_labels/float(y.size)))"
   ]
  },
  {
   "cell_type": "code",
   "execution_count": null,
   "id": "d1f294ff",
   "metadata": {},
   "outputs": [],
   "source": []
  },
  {
   "cell_type": "markdown",
   "id": "3a01bbc8",
   "metadata": {},
   "source": [
    "## DBSCAN"
   ]
  },
  {
   "cell_type": "code",
   "execution_count": 1336,
   "id": "e98cd49e",
   "metadata": {},
   "outputs": [],
   "source": [
    "from sklearn.cluster import DBSCAN\n",
    "\n",
    "# Criar o objeto DBSCAN\n",
    "dbscan = DBSCAN(eps=0.5, min_samples=5)\n",
    "\n",
    "# Ajustar o modelo aos dados\n",
    "dbscan.fit(X_cl)\n",
    "\n",
    "# Obter as etiquetas dos clusters (-1 para pontos de ruído)\n",
    "labels = dbscan.labels_\n",
    "\n",
    "# Obter os centróides dos clusters\n",
    "centroids = X_cl.groupby(labels).mean()"
   ]
  },
  {
   "cell_type": "code",
   "execution_count": null,
   "id": "7dabe6b5",
   "metadata": {},
   "outputs": [],
   "source": []
  },
  {
   "cell_type": "markdown",
   "id": "b62c6f42",
   "metadata": {},
   "source": [
    "### Melhor número de clusters"
   ]
  },
  {
   "cell_type": "code",
   "execution_count": 1337,
   "id": "8550b257",
   "metadata": {},
   "outputs": [
    {
     "data": {
      "text/html": [
       "<div>\n",
       "<style scoped>\n",
       "    .dataframe tbody tr th:only-of-type {\n",
       "        vertical-align: middle;\n",
       "    }\n",
       "\n",
       "    .dataframe tbody tr th {\n",
       "        vertical-align: top;\n",
       "    }\n",
       "\n",
       "    .dataframe thead th {\n",
       "        text-align: right;\n",
       "    }\n",
       "</style>\n",
       "<table border=\"1\" class=\"dataframe\">\n",
       "  <thead>\n",
       "    <tr style=\"text-align: right;\">\n",
       "      <th></th>\n",
       "      <th>onehotencoder__x0_Lazer</th>\n",
       "      <th>onehotencoder__x0_nan</th>\n",
       "      <th>onehotencoder__x1_EF_completo</th>\n",
       "      <th>onehotencoder__x1_EF_incompleto</th>\n",
       "      <th>onehotencoder__x1_EM_completo</th>\n",
       "      <th>onehotencoder__x1_EM_incompleto</th>\n",
       "      <th>onehotencoder__x1_ES_completo</th>\n",
       "      <th>onehotencoder__x1_ES_incompleto</th>\n",
       "      <th>onehotencoder__x2_Casado</th>\n",
       "      <th>onehotencoder__x2_Divorciado</th>\n",
       "      <th>...</th>\n",
       "      <th>onehotencoder__x9_A</th>\n",
       "      <th>onehotencoder__x9_B</th>\n",
       "      <th>onehotencoder__x9_C</th>\n",
       "      <th>P1</th>\n",
       "      <th>P3</th>\n",
       "      <th>P25</th>\n",
       "      <th>P31</th>\n",
       "      <th>Qnat</th>\n",
       "      <th>Qcama</th>\n",
       "      <th>Qest</th>\n",
       "    </tr>\n",
       "  </thead>\n",
       "  <tbody>\n",
       "    <tr>\n",
       "      <th>0</th>\n",
       "      <td>0.0</td>\n",
       "      <td>1.0</td>\n",
       "      <td>0.0</td>\n",
       "      <td>0.0</td>\n",
       "      <td>0.0</td>\n",
       "      <td>0.0</td>\n",
       "      <td>1.0</td>\n",
       "      <td>0.0</td>\n",
       "      <td>1.0</td>\n",
       "      <td>0.0</td>\n",
       "      <td>...</td>\n",
       "      <td>0.0</td>\n",
       "      <td>1.0</td>\n",
       "      <td>0.0</td>\n",
       "      <td>2.0</td>\n",
       "      <td>7.0</td>\n",
       "      <td>5.0</td>\n",
       "      <td>5.0</td>\n",
       "      <td>1.0</td>\n",
       "      <td>1.0</td>\n",
       "      <td>4.0</td>\n",
       "    </tr>\n",
       "    <tr>\n",
       "      <th>1</th>\n",
       "      <td>0.0</td>\n",
       "      <td>1.0</td>\n",
       "      <td>1.0</td>\n",
       "      <td>0.0</td>\n",
       "      <td>0.0</td>\n",
       "      <td>0.0</td>\n",
       "      <td>0.0</td>\n",
       "      <td>0.0</td>\n",
       "      <td>0.0</td>\n",
       "      <td>0.0</td>\n",
       "      <td>...</td>\n",
       "      <td>0.0</td>\n",
       "      <td>1.0</td>\n",
       "      <td>0.0</td>\n",
       "      <td>3.0</td>\n",
       "      <td>2.0</td>\n",
       "      <td>4.0</td>\n",
       "      <td>5.0</td>\n",
       "      <td>2.0</td>\n",
       "      <td>1.0</td>\n",
       "      <td>1.0</td>\n",
       "    </tr>\n",
       "    <tr>\n",
       "      <th>2</th>\n",
       "      <td>0.0</td>\n",
       "      <td>1.0</td>\n",
       "      <td>0.0</td>\n",
       "      <td>0.0</td>\n",
       "      <td>0.0</td>\n",
       "      <td>0.0</td>\n",
       "      <td>0.0</td>\n",
       "      <td>1.0</td>\n",
       "      <td>1.0</td>\n",
       "      <td>0.0</td>\n",
       "      <td>...</td>\n",
       "      <td>0.0</td>\n",
       "      <td>1.0</td>\n",
       "      <td>0.0</td>\n",
       "      <td>1.0</td>\n",
       "      <td>7.0</td>\n",
       "      <td>5.0</td>\n",
       "      <td>1.0</td>\n",
       "      <td>1.0</td>\n",
       "      <td>1.0</td>\n",
       "      <td>3.0</td>\n",
       "    </tr>\n",
       "    <tr>\n",
       "      <th>3</th>\n",
       "      <td>1.0</td>\n",
       "      <td>0.0</td>\n",
       "      <td>0.0</td>\n",
       "      <td>0.0</td>\n",
       "      <td>0.0</td>\n",
       "      <td>0.0</td>\n",
       "      <td>0.0</td>\n",
       "      <td>1.0</td>\n",
       "      <td>0.0</td>\n",
       "      <td>1.0</td>\n",
       "      <td>...</td>\n",
       "      <td>0.0</td>\n",
       "      <td>1.0</td>\n",
       "      <td>0.0</td>\n",
       "      <td>1.0</td>\n",
       "      <td>4.0</td>\n",
       "      <td>4.0</td>\n",
       "      <td>2.0</td>\n",
       "      <td>3.0</td>\n",
       "      <td>1.0</td>\n",
       "      <td>6.0</td>\n",
       "    </tr>\n",
       "    <tr>\n",
       "      <th>4</th>\n",
       "      <td>0.0</td>\n",
       "      <td>1.0</td>\n",
       "      <td>0.0</td>\n",
       "      <td>0.0</td>\n",
       "      <td>0.0</td>\n",
       "      <td>0.0</td>\n",
       "      <td>1.0</td>\n",
       "      <td>0.0</td>\n",
       "      <td>1.0</td>\n",
       "      <td>0.0</td>\n",
       "      <td>...</td>\n",
       "      <td>1.0</td>\n",
       "      <td>0.0</td>\n",
       "      <td>0.0</td>\n",
       "      <td>2.0</td>\n",
       "      <td>6.0</td>\n",
       "      <td>4.0</td>\n",
       "      <td>4.0</td>\n",
       "      <td>2.0</td>\n",
       "      <td>1.0</td>\n",
       "      <td>4.0</td>\n",
       "    </tr>\n",
       "    <tr>\n",
       "      <th>...</th>\n",
       "      <td>...</td>\n",
       "      <td>...</td>\n",
       "      <td>...</td>\n",
       "      <td>...</td>\n",
       "      <td>...</td>\n",
       "      <td>...</td>\n",
       "      <td>...</td>\n",
       "      <td>...</td>\n",
       "      <td>...</td>\n",
       "      <td>...</td>\n",
       "      <td>...</td>\n",
       "      <td>...</td>\n",
       "      <td>...</td>\n",
       "      <td>...</td>\n",
       "      <td>...</td>\n",
       "      <td>...</td>\n",
       "      <td>...</td>\n",
       "      <td>...</td>\n",
       "      <td>...</td>\n",
       "      <td>...</td>\n",
       "      <td>...</td>\n",
       "    </tr>\n",
       "    <tr>\n",
       "      <th>957</th>\n",
       "      <td>1.0</td>\n",
       "      <td>0.0</td>\n",
       "      <td>0.0</td>\n",
       "      <td>0.0</td>\n",
       "      <td>0.0</td>\n",
       "      <td>0.0</td>\n",
       "      <td>0.0</td>\n",
       "      <td>1.0</td>\n",
       "      <td>1.0</td>\n",
       "      <td>0.0</td>\n",
       "      <td>...</td>\n",
       "      <td>1.0</td>\n",
       "      <td>0.0</td>\n",
       "      <td>0.0</td>\n",
       "      <td>2.0</td>\n",
       "      <td>7.0</td>\n",
       "      <td>2.0</td>\n",
       "      <td>4.0</td>\n",
       "      <td>2.0</td>\n",
       "      <td>1.0</td>\n",
       "      <td>4.0</td>\n",
       "    </tr>\n",
       "    <tr>\n",
       "      <th>958</th>\n",
       "      <td>0.0</td>\n",
       "      <td>1.0</td>\n",
       "      <td>0.0</td>\n",
       "      <td>0.0</td>\n",
       "      <td>0.0</td>\n",
       "      <td>0.0</td>\n",
       "      <td>1.0</td>\n",
       "      <td>0.0</td>\n",
       "      <td>1.0</td>\n",
       "      <td>0.0</td>\n",
       "      <td>...</td>\n",
       "      <td>1.0</td>\n",
       "      <td>0.0</td>\n",
       "      <td>0.0</td>\n",
       "      <td>3.0</td>\n",
       "      <td>3.0</td>\n",
       "      <td>7.0</td>\n",
       "      <td>6.0</td>\n",
       "      <td>3.0</td>\n",
       "      <td>6.0</td>\n",
       "      <td>2.0</td>\n",
       "    </tr>\n",
       "    <tr>\n",
       "      <th>959</th>\n",
       "      <td>1.0</td>\n",
       "      <td>0.0</td>\n",
       "      <td>1.0</td>\n",
       "      <td>0.0</td>\n",
       "      <td>0.0</td>\n",
       "      <td>0.0</td>\n",
       "      <td>0.0</td>\n",
       "      <td>0.0</td>\n",
       "      <td>0.0</td>\n",
       "      <td>0.0</td>\n",
       "      <td>...</td>\n",
       "      <td>1.0</td>\n",
       "      <td>0.0</td>\n",
       "      <td>0.0</td>\n",
       "      <td>2.0</td>\n",
       "      <td>7.0</td>\n",
       "      <td>7.0</td>\n",
       "      <td>7.0</td>\n",
       "      <td>2.0</td>\n",
       "      <td>2.0</td>\n",
       "      <td>6.0</td>\n",
       "    </tr>\n",
       "    <tr>\n",
       "      <th>960</th>\n",
       "      <td>0.0</td>\n",
       "      <td>1.0</td>\n",
       "      <td>0.0</td>\n",
       "      <td>0.0</td>\n",
       "      <td>0.0</td>\n",
       "      <td>0.0</td>\n",
       "      <td>0.0</td>\n",
       "      <td>1.0</td>\n",
       "      <td>1.0</td>\n",
       "      <td>0.0</td>\n",
       "      <td>...</td>\n",
       "      <td>1.0</td>\n",
       "      <td>0.0</td>\n",
       "      <td>0.0</td>\n",
       "      <td>2.0</td>\n",
       "      <td>6.0</td>\n",
       "      <td>2.0</td>\n",
       "      <td>6.0</td>\n",
       "      <td>1.0</td>\n",
       "      <td>2.0</td>\n",
       "      <td>3.0</td>\n",
       "    </tr>\n",
       "    <tr>\n",
       "      <th>961</th>\n",
       "      <td>1.0</td>\n",
       "      <td>0.0</td>\n",
       "      <td>0.0</td>\n",
       "      <td>0.0</td>\n",
       "      <td>0.0</td>\n",
       "      <td>0.0</td>\n",
       "      <td>1.0</td>\n",
       "      <td>0.0</td>\n",
       "      <td>1.0</td>\n",
       "      <td>0.0</td>\n",
       "      <td>...</td>\n",
       "      <td>1.0</td>\n",
       "      <td>0.0</td>\n",
       "      <td>0.0</td>\n",
       "      <td>2.0</td>\n",
       "      <td>5.0</td>\n",
       "      <td>2.0</td>\n",
       "      <td>7.0</td>\n",
       "      <td>2.0</td>\n",
       "      <td>1.0</td>\n",
       "      <td>3.0</td>\n",
       "    </tr>\n",
       "  </tbody>\n",
       "</table>\n",
       "<p>962 rows × 52 columns</p>\n",
       "</div>"
      ],
      "text/plain": [
       "     onehotencoder__x0_Lazer  onehotencoder__x0_nan  \\\n",
       "0                        0.0                    1.0   \n",
       "1                        0.0                    1.0   \n",
       "2                        0.0                    1.0   \n",
       "3                        1.0                    0.0   \n",
       "4                        0.0                    1.0   \n",
       "..                       ...                    ...   \n",
       "957                      1.0                    0.0   \n",
       "958                      0.0                    1.0   \n",
       "959                      1.0                    0.0   \n",
       "960                      0.0                    1.0   \n",
       "961                      1.0                    0.0   \n",
       "\n",
       "     onehotencoder__x1_EF_completo  onehotencoder__x1_EF_incompleto  \\\n",
       "0                              0.0                              0.0   \n",
       "1                              1.0                              0.0   \n",
       "2                              0.0                              0.0   \n",
       "3                              0.0                              0.0   \n",
       "4                              0.0                              0.0   \n",
       "..                             ...                              ...   \n",
       "957                            0.0                              0.0   \n",
       "958                            0.0                              0.0   \n",
       "959                            1.0                              0.0   \n",
       "960                            0.0                              0.0   \n",
       "961                            0.0                              0.0   \n",
       "\n",
       "     onehotencoder__x1_EM_completo  onehotencoder__x1_EM_incompleto  \\\n",
       "0                              0.0                              0.0   \n",
       "1                              0.0                              0.0   \n",
       "2                              0.0                              0.0   \n",
       "3                              0.0                              0.0   \n",
       "4                              0.0                              0.0   \n",
       "..                             ...                              ...   \n",
       "957                            0.0                              0.0   \n",
       "958                            0.0                              0.0   \n",
       "959                            0.0                              0.0   \n",
       "960                            0.0                              0.0   \n",
       "961                            0.0                              0.0   \n",
       "\n",
       "     onehotencoder__x1_ES_completo  onehotencoder__x1_ES_incompleto  \\\n",
       "0                              1.0                              0.0   \n",
       "1                              0.0                              0.0   \n",
       "2                              0.0                              1.0   \n",
       "3                              0.0                              1.0   \n",
       "4                              1.0                              0.0   \n",
       "..                             ...                              ...   \n",
       "957                            0.0                              1.0   \n",
       "958                            1.0                              0.0   \n",
       "959                            0.0                              0.0   \n",
       "960                            0.0                              1.0   \n",
       "961                            1.0                              0.0   \n",
       "\n",
       "     onehotencoder__x2_Casado  onehotencoder__x2_Divorciado  ...  \\\n",
       "0                         1.0                           0.0  ...   \n",
       "1                         0.0                           0.0  ...   \n",
       "2                         1.0                           0.0  ...   \n",
       "3                         0.0                           1.0  ...   \n",
       "4                         1.0                           0.0  ...   \n",
       "..                        ...                           ...  ...   \n",
       "957                       1.0                           0.0  ...   \n",
       "958                       1.0                           0.0  ...   \n",
       "959                       0.0                           0.0  ...   \n",
       "960                       1.0                           0.0  ...   \n",
       "961                       1.0                           0.0  ...   \n",
       "\n",
       "     onehotencoder__x9_A  onehotencoder__x9_B  onehotencoder__x9_C   P1   P3  \\\n",
       "0                    0.0                  1.0                  0.0  2.0  7.0   \n",
       "1                    0.0                  1.0                  0.0  3.0  2.0   \n",
       "2                    0.0                  1.0                  0.0  1.0  7.0   \n",
       "3                    0.0                  1.0                  0.0  1.0  4.0   \n",
       "4                    1.0                  0.0                  0.0  2.0  6.0   \n",
       "..                   ...                  ...                  ...  ...  ...   \n",
       "957                  1.0                  0.0                  0.0  2.0  7.0   \n",
       "958                  1.0                  0.0                  0.0  3.0  3.0   \n",
       "959                  1.0                  0.0                  0.0  2.0  7.0   \n",
       "960                  1.0                  0.0                  0.0  2.0  6.0   \n",
       "961                  1.0                  0.0                  0.0  2.0  5.0   \n",
       "\n",
       "     P25  P31  Qnat  Qcama  Qest  \n",
       "0    5.0  5.0   1.0    1.0   4.0  \n",
       "1    4.0  5.0   2.0    1.0   1.0  \n",
       "2    5.0  1.0   1.0    1.0   3.0  \n",
       "3    4.0  2.0   3.0    1.0   6.0  \n",
       "4    4.0  4.0   2.0    1.0   4.0  \n",
       "..   ...  ...   ...    ...   ...  \n",
       "957  2.0  4.0   2.0    1.0   4.0  \n",
       "958  7.0  6.0   3.0    6.0   2.0  \n",
       "959  7.0  7.0   2.0    2.0   6.0  \n",
       "960  2.0  6.0   1.0    2.0   3.0  \n",
       "961  2.0  7.0   2.0    1.0   3.0  \n",
       "\n",
       "[962 rows x 52 columns]"
      ]
     },
     "execution_count": 1337,
     "metadata": {},
     "output_type": "execute_result"
    }
   ],
   "source": [
    "X_k"
   ]
  },
  {
   "cell_type": "code",
   "execution_count": 1339,
   "id": "1d69c41e",
   "metadata": {},
   "outputs": [
    {
     "ename": "AttributeError",
     "evalue": "'NoneType' object has no attribute 'split'",
     "output_type": "error",
     "traceback": [
      "\u001b[0;31m---------------------------------------------------------------------------\u001b[0m",
      "\u001b[0;31mAttributeError\u001b[0m                            Traceback (most recent call last)",
      "\u001b[0;32m/var/folders/bt/fckp0hfd5ys1fdp50lrxc19w0000gn/T/ipykernel_72772/1973683664.py\u001b[0m in \u001b[0;36m<module>\u001b[0;34m\u001b[0m\n\u001b[1;32m      3\u001b[0m \u001b[0mcs\u001b[0m \u001b[0;34m=\u001b[0m \u001b[0;34m[\u001b[0m\u001b[0;34m]\u001b[0m\u001b[0;34m\u001b[0m\u001b[0;34m\u001b[0m\u001b[0m\n\u001b[1;32m      4\u001b[0m \u001b[0;32mfor\u001b[0m \u001b[0mi\u001b[0m \u001b[0;32min\u001b[0m \u001b[0mrange\u001b[0m\u001b[0;34m(\u001b[0m\u001b[0;36m1\u001b[0m\u001b[0;34m,\u001b[0m \u001b[0;36m11\u001b[0m\u001b[0;34m)\u001b[0m\u001b[0;34m:\u001b[0m\u001b[0;34m\u001b[0m\u001b[0;34m\u001b[0m\u001b[0m\n\u001b[0;32m----> 5\u001b[0;31m     \u001b[0mcs\u001b[0m\u001b[0;34m.\u001b[0m\u001b[0mappend\u001b[0m\u001b[0;34m(\u001b[0m\u001b[0mKMeans\u001b[0m\u001b[0;34m(\u001b[0m\u001b[0mn_clusters\u001b[0m \u001b[0;34m=\u001b[0m \u001b[0mi\u001b[0m\u001b[0;34m,\u001b[0m \u001b[0mmax_iter\u001b[0m \u001b[0;34m=\u001b[0m \u001b[0;36m10000\u001b[0m\u001b[0;34m,\u001b[0m \u001b[0mn_init\u001b[0m \u001b[0;34m=\u001b[0m \u001b[0;36m100\u001b[0m\u001b[0;34m,\u001b[0m \u001b[0mrandom_state\u001b[0m \u001b[0;34m=\u001b[0m \u001b[0;36m61658\u001b[0m\u001b[0;34m)\u001b[0m\u001b[0;34m.\u001b[0m\u001b[0mfit\u001b[0m\u001b[0;34m(\u001b[0m\u001b[0mX_k\u001b[0m\u001b[0;34m)\u001b[0m\u001b[0;34m.\u001b[0m\u001b[0minertia_\u001b[0m\u001b[0;34m)\u001b[0m\u001b[0;34m\u001b[0m\u001b[0;34m\u001b[0m\u001b[0m\n\u001b[0m\u001b[1;32m      6\u001b[0m \u001b[0mplt\u001b[0m\u001b[0;34m.\u001b[0m\u001b[0mplot\u001b[0m\u001b[0;34m(\u001b[0m\u001b[0mrange\u001b[0m\u001b[0;34m(\u001b[0m\u001b[0;36m1\u001b[0m\u001b[0;34m,\u001b[0m \u001b[0;36m11\u001b[0m\u001b[0;34m)\u001b[0m\u001b[0;34m,\u001b[0m \u001b[0mcs\u001b[0m\u001b[0;34m)\u001b[0m\u001b[0;34m\u001b[0m\u001b[0;34m\u001b[0m\u001b[0m\n\u001b[1;32m      7\u001b[0m \u001b[0mplt\u001b[0m\u001b[0;34m.\u001b[0m\u001b[0mtitle\u001b[0m\u001b[0;34m(\u001b[0m\u001b[0;34m'The Elbow Method'\u001b[0m\u001b[0;34m)\u001b[0m\u001b[0;34m\u001b[0m\u001b[0;34m\u001b[0m\u001b[0m\n",
      "\u001b[0;32m/opt/anaconda3/lib/python3.9/site-packages/sklearn/cluster/_kmeans.py\u001b[0m in \u001b[0;36mfit\u001b[0;34m(self, X, y, sample_weight)\u001b[0m\n\u001b[1;32m   1169\u001b[0m         \u001b[0;32mif\u001b[0m \u001b[0mself\u001b[0m\u001b[0;34m.\u001b[0m\u001b[0m_algorithm\u001b[0m \u001b[0;34m==\u001b[0m \u001b[0;34m\"full\"\u001b[0m\u001b[0;34m:\u001b[0m\u001b[0;34m\u001b[0m\u001b[0;34m\u001b[0m\u001b[0m\n\u001b[1;32m   1170\u001b[0m             \u001b[0mkmeans_single\u001b[0m \u001b[0;34m=\u001b[0m \u001b[0m_kmeans_single_lloyd\u001b[0m\u001b[0;34m\u001b[0m\u001b[0;34m\u001b[0m\u001b[0m\n\u001b[0;32m-> 1171\u001b[0;31m             \u001b[0mself\u001b[0m\u001b[0;34m.\u001b[0m\u001b[0m_check_mkl_vcomp\u001b[0m\u001b[0;34m(\u001b[0m\u001b[0mX\u001b[0m\u001b[0;34m,\u001b[0m \u001b[0mX\u001b[0m\u001b[0;34m.\u001b[0m\u001b[0mshape\u001b[0m\u001b[0;34m[\u001b[0m\u001b[0;36m0\u001b[0m\u001b[0;34m]\u001b[0m\u001b[0;34m)\u001b[0m\u001b[0;34m\u001b[0m\u001b[0;34m\u001b[0m\u001b[0m\n\u001b[0m\u001b[1;32m   1172\u001b[0m         \u001b[0;32melse\u001b[0m\u001b[0;34m:\u001b[0m\u001b[0;34m\u001b[0m\u001b[0;34m\u001b[0m\u001b[0m\n\u001b[1;32m   1173\u001b[0m             \u001b[0mkmeans_single\u001b[0m \u001b[0;34m=\u001b[0m \u001b[0m_kmeans_single_elkan\u001b[0m\u001b[0;34m\u001b[0m\u001b[0;34m\u001b[0m\u001b[0m\n",
      "\u001b[0;32m/opt/anaconda3/lib/python3.9/site-packages/sklearn/cluster/_kmeans.py\u001b[0m in \u001b[0;36m_check_mkl_vcomp\u001b[0;34m(self, X, n_samples)\u001b[0m\n\u001b[1;32m   1026\u001b[0m         \u001b[0mactive_threads\u001b[0m \u001b[0;34m=\u001b[0m \u001b[0mint\u001b[0m\u001b[0;34m(\u001b[0m\u001b[0mnp\u001b[0m\u001b[0;34m.\u001b[0m\u001b[0mceil\u001b[0m\u001b[0;34m(\u001b[0m\u001b[0mn_samples\u001b[0m \u001b[0;34m/\u001b[0m \u001b[0mCHUNK_SIZE\u001b[0m\u001b[0;34m)\u001b[0m\u001b[0;34m)\u001b[0m\u001b[0;34m\u001b[0m\u001b[0;34m\u001b[0m\u001b[0m\n\u001b[1;32m   1027\u001b[0m         \u001b[0;32mif\u001b[0m \u001b[0mactive_threads\u001b[0m \u001b[0;34m<\u001b[0m \u001b[0mself\u001b[0m\u001b[0;34m.\u001b[0m\u001b[0m_n_threads\u001b[0m\u001b[0;34m:\u001b[0m\u001b[0;34m\u001b[0m\u001b[0;34m\u001b[0m\u001b[0m\n\u001b[0;32m-> 1028\u001b[0;31m             \u001b[0mmodules\u001b[0m \u001b[0;34m=\u001b[0m \u001b[0mthreadpool_info\u001b[0m\u001b[0;34m(\u001b[0m\u001b[0;34m)\u001b[0m\u001b[0;34m\u001b[0m\u001b[0;34m\u001b[0m\u001b[0m\n\u001b[0m\u001b[1;32m   1029\u001b[0m             \u001b[0mhas_vcomp\u001b[0m \u001b[0;34m=\u001b[0m \u001b[0;34m\"vcomp\"\u001b[0m \u001b[0;32min\u001b[0m \u001b[0;34m[\u001b[0m\u001b[0mmodule\u001b[0m\u001b[0;34m[\u001b[0m\u001b[0;34m\"prefix\"\u001b[0m\u001b[0;34m]\u001b[0m \u001b[0;32mfor\u001b[0m \u001b[0mmodule\u001b[0m \u001b[0;32min\u001b[0m \u001b[0mmodules\u001b[0m\u001b[0;34m]\u001b[0m\u001b[0;34m\u001b[0m\u001b[0;34m\u001b[0m\u001b[0m\n\u001b[1;32m   1030\u001b[0m             has_mkl = (\"mkl\", \"intel\") in [\n",
      "\u001b[0;32m/opt/anaconda3/lib/python3.9/site-packages/sklearn/utils/fixes.py\u001b[0m in \u001b[0;36mthreadpool_info\u001b[0;34m()\u001b[0m\n\u001b[1;32m    323\u001b[0m         \u001b[0;32mreturn\u001b[0m \u001b[0mcontroller\u001b[0m\u001b[0;34m.\u001b[0m\u001b[0minfo\u001b[0m\u001b[0;34m(\u001b[0m\u001b[0;34m)\u001b[0m\u001b[0;34m\u001b[0m\u001b[0;34m\u001b[0m\u001b[0m\n\u001b[1;32m    324\u001b[0m     \u001b[0;32melse\u001b[0m\u001b[0;34m:\u001b[0m\u001b[0;34m\u001b[0m\u001b[0;34m\u001b[0m\u001b[0m\n\u001b[0;32m--> 325\u001b[0;31m         \u001b[0;32mreturn\u001b[0m \u001b[0mthreadpoolctl\u001b[0m\u001b[0;34m.\u001b[0m\u001b[0mthreadpool_info\u001b[0m\u001b[0;34m(\u001b[0m\u001b[0;34m)\u001b[0m\u001b[0;34m\u001b[0m\u001b[0;34m\u001b[0m\u001b[0m\n\u001b[0m\u001b[1;32m    326\u001b[0m \u001b[0;34m\u001b[0m\u001b[0m\n\u001b[1;32m    327\u001b[0m \u001b[0;34m\u001b[0m\u001b[0m\n",
      "\u001b[0;32m/opt/anaconda3/lib/python3.9/site-packages/threadpoolctl.py\u001b[0m in \u001b[0;36mthreadpool_info\u001b[0;34m()\u001b[0m\n\u001b[1;32m    122\u001b[0m     \u001b[0mIn\u001b[0m \u001b[0maddition\u001b[0m\u001b[0;34m,\u001b[0m \u001b[0meach\u001b[0m \u001b[0mmodule\u001b[0m \u001b[0mmay\u001b[0m \u001b[0mcontain\u001b[0m \u001b[0minternal_api\u001b[0m \u001b[0mspecific\u001b[0m \u001b[0mentries\u001b[0m\u001b[0;34m.\u001b[0m\u001b[0;34m\u001b[0m\u001b[0;34m\u001b[0m\u001b[0m\n\u001b[1;32m    123\u001b[0m     \"\"\"\n\u001b[0;32m--> 124\u001b[0;31m     \u001b[0;32mreturn\u001b[0m \u001b[0m_ThreadpoolInfo\u001b[0m\u001b[0;34m(\u001b[0m\u001b[0muser_api\u001b[0m\u001b[0;34m=\u001b[0m\u001b[0m_ALL_USER_APIS\u001b[0m\u001b[0;34m)\u001b[0m\u001b[0;34m.\u001b[0m\u001b[0mtodicts\u001b[0m\u001b[0;34m(\u001b[0m\u001b[0;34m)\u001b[0m\u001b[0;34m\u001b[0m\u001b[0;34m\u001b[0m\u001b[0m\n\u001b[0m\u001b[1;32m    125\u001b[0m \u001b[0;34m\u001b[0m\u001b[0m\n\u001b[1;32m    126\u001b[0m \u001b[0;34m\u001b[0m\u001b[0m\n",
      "\u001b[0;32m/opt/anaconda3/lib/python3.9/site-packages/threadpoolctl.py\u001b[0m in \u001b[0;36m__init__\u001b[0;34m(self, user_api, prefixes, modules)\u001b[0m\n\u001b[1;32m    338\u001b[0m \u001b[0;34m\u001b[0m\u001b[0m\n\u001b[1;32m    339\u001b[0m             \u001b[0mself\u001b[0m\u001b[0;34m.\u001b[0m\u001b[0mmodules\u001b[0m \u001b[0;34m=\u001b[0m \u001b[0;34m[\u001b[0m\u001b[0;34m]\u001b[0m\u001b[0;34m\u001b[0m\u001b[0;34m\u001b[0m\u001b[0m\n\u001b[0;32m--> 340\u001b[0;31m             \u001b[0mself\u001b[0m\u001b[0;34m.\u001b[0m\u001b[0m_load_modules\u001b[0m\u001b[0;34m(\u001b[0m\u001b[0;34m)\u001b[0m\u001b[0;34m\u001b[0m\u001b[0;34m\u001b[0m\u001b[0m\n\u001b[0m\u001b[1;32m    341\u001b[0m             \u001b[0mself\u001b[0m\u001b[0;34m.\u001b[0m\u001b[0m_warn_if_incompatible_openmp\u001b[0m\u001b[0;34m(\u001b[0m\u001b[0;34m)\u001b[0m\u001b[0;34m\u001b[0m\u001b[0;34m\u001b[0m\u001b[0m\n\u001b[1;32m    342\u001b[0m         \u001b[0;32melse\u001b[0m\u001b[0;34m:\u001b[0m\u001b[0;34m\u001b[0m\u001b[0;34m\u001b[0m\u001b[0m\n",
      "\u001b[0;32m/opt/anaconda3/lib/python3.9/site-packages/threadpoolctl.py\u001b[0m in \u001b[0;36m_load_modules\u001b[0;34m(self)\u001b[0m\n\u001b[1;32m    369\u001b[0m         \u001b[0;34m\"\"\"Loop through loaded libraries and store supported ones\"\"\"\u001b[0m\u001b[0;34m\u001b[0m\u001b[0;34m\u001b[0m\u001b[0m\n\u001b[1;32m    370\u001b[0m         \u001b[0;32mif\u001b[0m \u001b[0msys\u001b[0m\u001b[0;34m.\u001b[0m\u001b[0mplatform\u001b[0m \u001b[0;34m==\u001b[0m \u001b[0;34m\"darwin\"\u001b[0m\u001b[0;34m:\u001b[0m\u001b[0;34m\u001b[0m\u001b[0;34m\u001b[0m\u001b[0m\n\u001b[0;32m--> 371\u001b[0;31m             \u001b[0mself\u001b[0m\u001b[0;34m.\u001b[0m\u001b[0m_find_modules_with_dyld\u001b[0m\u001b[0;34m(\u001b[0m\u001b[0;34m)\u001b[0m\u001b[0;34m\u001b[0m\u001b[0;34m\u001b[0m\u001b[0m\n\u001b[0m\u001b[1;32m    372\u001b[0m         \u001b[0;32melif\u001b[0m \u001b[0msys\u001b[0m\u001b[0;34m.\u001b[0m\u001b[0mplatform\u001b[0m \u001b[0;34m==\u001b[0m \u001b[0;34m\"win32\"\u001b[0m\u001b[0;34m:\u001b[0m\u001b[0;34m\u001b[0m\u001b[0;34m\u001b[0m\u001b[0m\n\u001b[1;32m    373\u001b[0m             \u001b[0mself\u001b[0m\u001b[0;34m.\u001b[0m\u001b[0m_find_modules_with_enum_process_module_ex\u001b[0m\u001b[0;34m(\u001b[0m\u001b[0;34m)\u001b[0m\u001b[0;34m\u001b[0m\u001b[0;34m\u001b[0m\u001b[0m\n",
      "\u001b[0;32m/opt/anaconda3/lib/python3.9/site-packages/threadpoolctl.py\u001b[0m in \u001b[0;36m_find_modules_with_dyld\u001b[0;34m(self)\u001b[0m\n\u001b[1;32m    426\u001b[0m \u001b[0;34m\u001b[0m\u001b[0m\n\u001b[1;32m    427\u001b[0m             \u001b[0;31m# Store the module if it is supported and selected\u001b[0m\u001b[0;34m\u001b[0m\u001b[0;34m\u001b[0m\u001b[0m\n\u001b[0;32m--> 428\u001b[0;31m             \u001b[0mself\u001b[0m\u001b[0;34m.\u001b[0m\u001b[0m_make_module_from_path\u001b[0m\u001b[0;34m(\u001b[0m\u001b[0mfilepath\u001b[0m\u001b[0;34m)\u001b[0m\u001b[0;34m\u001b[0m\u001b[0;34m\u001b[0m\u001b[0m\n\u001b[0m\u001b[1;32m    429\u001b[0m \u001b[0;34m\u001b[0m\u001b[0m\n\u001b[1;32m    430\u001b[0m     \u001b[0;32mdef\u001b[0m \u001b[0m_find_modules_with_enum_process_module_ex\u001b[0m\u001b[0;34m(\u001b[0m\u001b[0mself\u001b[0m\u001b[0;34m)\u001b[0m\u001b[0;34m:\u001b[0m\u001b[0;34m\u001b[0m\u001b[0;34m\u001b[0m\u001b[0m\n",
      "\u001b[0;32m/opt/anaconda3/lib/python3.9/site-packages/threadpoolctl.py\u001b[0m in \u001b[0;36m_make_module_from_path\u001b[0;34m(self, filepath)\u001b[0m\n\u001b[1;32m    513\u001b[0m             \u001b[0;32mif\u001b[0m \u001b[0mprefix\u001b[0m \u001b[0;32min\u001b[0m \u001b[0mself\u001b[0m\u001b[0;34m.\u001b[0m\u001b[0mprefixes\u001b[0m \u001b[0;32mor\u001b[0m \u001b[0muser_api\u001b[0m \u001b[0;32min\u001b[0m \u001b[0mself\u001b[0m\u001b[0;34m.\u001b[0m\u001b[0muser_api\u001b[0m\u001b[0;34m:\u001b[0m\u001b[0;34m\u001b[0m\u001b[0;34m\u001b[0m\u001b[0m\n\u001b[1;32m    514\u001b[0m                 \u001b[0mmodule_class\u001b[0m \u001b[0;34m=\u001b[0m \u001b[0mglobals\u001b[0m\u001b[0;34m(\u001b[0m\u001b[0;34m)\u001b[0m\u001b[0;34m[\u001b[0m\u001b[0mmodule_class\u001b[0m\u001b[0;34m]\u001b[0m\u001b[0;34m\u001b[0m\u001b[0;34m\u001b[0m\u001b[0m\n\u001b[0;32m--> 515\u001b[0;31m                 \u001b[0mmodule\u001b[0m \u001b[0;34m=\u001b[0m \u001b[0mmodule_class\u001b[0m\u001b[0;34m(\u001b[0m\u001b[0mfilepath\u001b[0m\u001b[0;34m,\u001b[0m \u001b[0mprefix\u001b[0m\u001b[0;34m,\u001b[0m \u001b[0muser_api\u001b[0m\u001b[0;34m,\u001b[0m \u001b[0minternal_api\u001b[0m\u001b[0;34m)\u001b[0m\u001b[0;34m\u001b[0m\u001b[0;34m\u001b[0m\u001b[0m\n\u001b[0m\u001b[1;32m    516\u001b[0m                 \u001b[0mself\u001b[0m\u001b[0;34m.\u001b[0m\u001b[0mmodules\u001b[0m\u001b[0;34m.\u001b[0m\u001b[0mappend\u001b[0m\u001b[0;34m(\u001b[0m\u001b[0mmodule\u001b[0m\u001b[0;34m)\u001b[0m\u001b[0;34m\u001b[0m\u001b[0;34m\u001b[0m\u001b[0m\n\u001b[1;32m    517\u001b[0m \u001b[0;34m\u001b[0m\u001b[0m\n",
      "\u001b[0;32m/opt/anaconda3/lib/python3.9/site-packages/threadpoolctl.py\u001b[0m in \u001b[0;36m__init__\u001b[0;34m(self, filepath, prefix, user_api, internal_api)\u001b[0m\n\u001b[1;32m    604\u001b[0m         \u001b[0mself\u001b[0m\u001b[0;34m.\u001b[0m\u001b[0minternal_api\u001b[0m \u001b[0;34m=\u001b[0m \u001b[0minternal_api\u001b[0m\u001b[0;34m\u001b[0m\u001b[0;34m\u001b[0m\u001b[0m\n\u001b[1;32m    605\u001b[0m         \u001b[0mself\u001b[0m\u001b[0;34m.\u001b[0m\u001b[0m_dynlib\u001b[0m \u001b[0;34m=\u001b[0m \u001b[0mctypes\u001b[0m\u001b[0;34m.\u001b[0m\u001b[0mCDLL\u001b[0m\u001b[0;34m(\u001b[0m\u001b[0mfilepath\u001b[0m\u001b[0;34m,\u001b[0m \u001b[0mmode\u001b[0m\u001b[0;34m=\u001b[0m\u001b[0m_RTLD_NOLOAD\u001b[0m\u001b[0;34m)\u001b[0m\u001b[0;34m\u001b[0m\u001b[0;34m\u001b[0m\u001b[0m\n\u001b[0;32m--> 606\u001b[0;31m         \u001b[0mself\u001b[0m\u001b[0;34m.\u001b[0m\u001b[0mversion\u001b[0m \u001b[0;34m=\u001b[0m \u001b[0mself\u001b[0m\u001b[0;34m.\u001b[0m\u001b[0mget_version\u001b[0m\u001b[0;34m(\u001b[0m\u001b[0;34m)\u001b[0m\u001b[0;34m\u001b[0m\u001b[0;34m\u001b[0m\u001b[0m\n\u001b[0m\u001b[1;32m    607\u001b[0m         \u001b[0mself\u001b[0m\u001b[0;34m.\u001b[0m\u001b[0mnum_threads\u001b[0m \u001b[0;34m=\u001b[0m \u001b[0mself\u001b[0m\u001b[0;34m.\u001b[0m\u001b[0mget_num_threads\u001b[0m\u001b[0;34m(\u001b[0m\u001b[0;34m)\u001b[0m\u001b[0;34m\u001b[0m\u001b[0;34m\u001b[0m\u001b[0m\n\u001b[1;32m    608\u001b[0m         \u001b[0mself\u001b[0m\u001b[0;34m.\u001b[0m\u001b[0m_get_extra_info\u001b[0m\u001b[0;34m(\u001b[0m\u001b[0;34m)\u001b[0m\u001b[0;34m\u001b[0m\u001b[0;34m\u001b[0m\u001b[0m\n",
      "\u001b[0;32m/opt/anaconda3/lib/python3.9/site-packages/threadpoolctl.py\u001b[0m in \u001b[0;36mget_version\u001b[0;34m(self)\u001b[0m\n\u001b[1;32m    644\u001b[0m                              lambda: None)\n\u001b[1;32m    645\u001b[0m         \u001b[0mget_config\u001b[0m\u001b[0;34m.\u001b[0m\u001b[0mrestype\u001b[0m \u001b[0;34m=\u001b[0m \u001b[0mctypes\u001b[0m\u001b[0;34m.\u001b[0m\u001b[0mc_char_p\u001b[0m\u001b[0;34m\u001b[0m\u001b[0;34m\u001b[0m\u001b[0m\n\u001b[0;32m--> 646\u001b[0;31m         \u001b[0mconfig\u001b[0m \u001b[0;34m=\u001b[0m \u001b[0mget_config\u001b[0m\u001b[0;34m(\u001b[0m\u001b[0;34m)\u001b[0m\u001b[0;34m.\u001b[0m\u001b[0msplit\u001b[0m\u001b[0;34m(\u001b[0m\u001b[0;34m)\u001b[0m\u001b[0;34m\u001b[0m\u001b[0;34m\u001b[0m\u001b[0m\n\u001b[0m\u001b[1;32m    647\u001b[0m         \u001b[0;32mif\u001b[0m \u001b[0mconfig\u001b[0m\u001b[0;34m[\u001b[0m\u001b[0;36m0\u001b[0m\u001b[0;34m]\u001b[0m \u001b[0;34m==\u001b[0m \u001b[0;34mb\"OpenBLAS\"\u001b[0m\u001b[0;34m:\u001b[0m\u001b[0;34m\u001b[0m\u001b[0;34m\u001b[0m\u001b[0m\n\u001b[1;32m    648\u001b[0m             \u001b[0;32mreturn\u001b[0m \u001b[0mconfig\u001b[0m\u001b[0;34m[\u001b[0m\u001b[0;36m1\u001b[0m\u001b[0;34m]\u001b[0m\u001b[0;34m.\u001b[0m\u001b[0mdecode\u001b[0m\u001b[0;34m(\u001b[0m\u001b[0;34m\"utf-8\"\u001b[0m\u001b[0;34m)\u001b[0m\u001b[0;34m\u001b[0m\u001b[0;34m\u001b[0m\u001b[0m\n",
      "\u001b[0;31mAttributeError\u001b[0m: 'NoneType' object has no attribute 'split'"
     ]
    }
   ],
   "source": [
    "from sklearn.cluster import KMeans\n",
    "\n",
    "cs = []\n",
    "for i in range(1, 11):\n",
    "    cs.append(KMeans(n_clusters = i, max_iter = 10000, n_init = 100, random_state = 61658).fit(X_k).inertia_)\n",
    "plt.plot(range(1, 11), cs)\n",
    "plt.title('The Elbow Method')\n",
    "plt.xlabel('Number of clusters')\n",
    "plt.ylabel('CS')\n",
    "plt.show()"
   ]
  },
  {
   "cell_type": "code",
   "execution_count": null,
   "id": "43ae8cce",
   "metadata": {},
   "outputs": [],
   "source": [
    "plt.figure(figsize=(15, 5))\n",
    "plt.plot(3, cs)\n",
    "plt.grid()"
   ]
  },
  {
   "cell_type": "code",
   "execution_count": null,
   "id": "dcaba321",
   "metadata": {},
   "outputs": [],
   "source": [
    "X_k.info()"
   ]
  },
  {
   "cell_type": "code",
   "execution_count": null,
   "id": "0d7f0b3b",
   "metadata": {},
   "outputs": [],
   "source": []
  }
 ],
 "metadata": {
  "kernelspec": {
   "display_name": "Python 3 (ipykernel)",
   "language": "python",
   "name": "python3"
  },
  "language_info": {
   "codemirror_mode": {
    "name": "ipython",
    "version": 3
   },
   "file_extension": ".py",
   "mimetype": "text/x-python",
   "name": "python",
   "nbconvert_exporter": "python",
   "pygments_lexer": "ipython3",
   "version": "3.9.7"
  }
 },
 "nbformat": 4,
 "nbformat_minor": 5
}
